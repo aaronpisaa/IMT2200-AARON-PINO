{
 "cells": [
  {
   "cell_type": "markdown",
   "id": "dc695dd9",
   "metadata": {},
   "source": [
    "# <img style=\"float: left; padding-right: 20px; width: 200px\" src=\"https://raw.githubusercontent.com/raxlab/imt2200-data/main/media/logo.jpg\">  IMT 2200 - Introducción a Ciencia de Datos\n",
    "**Pontificia Universidad Católica de Chile**<br>\n",
    "**Instituto de Ingeniería Matemática y Computacional**<br>\n",
    "**Semestre 2025-S2**<br>\n",
    "**Profesor:** Rodrigo A. Carrasco <br>"
   ]
  },
  {
   "cell_type": "markdown",
   "id": "6c6c9ee9",
   "metadata": {},
   "source": [
    "# <h1><center>Interrogación 1</center></h1>\n",
    "\n",
    "## Instrucciones\n",
    "\n",
    "* Esta parte de la Interrogación debe ser desarrollada completamente en lenguaje de programación Python en este Notebook de Jupyter.\n",
    "\n",
    "* El desarrollo del Notebook debe ser claro y ordenado, incluyendo anotaciones (markdown) y comentarios que permitan seguir fácilmente el código y los pasos implementados, y siguiendo buenas prácticas de programación. <br>\n",
    "* La entrega de la interrogación se realizará a través de Canvas en la actividad `I1 Desarrollo`.\n",
    "* Esta Interrogación debe desarrollarse de manera totalmente *individual*, de acuerdo a lo establecido en la sección de Integridad Académica en el programa del curso.\n",
    "* Está **estrictamente prohibido comunicarse con sus compañeros de curso, terceras personas o agentes de IA** durante el desarrollo de esta interrogación.\n",
    "* Puede consultar los apuntes del curso de todo tipo.\n",
    "* Habrá sólo dos instancias para hacer preguntas, una al inicio de la prueba y otra a los 30 minutos de avance.<br>\n",
    "\n",
    "\n",
    "* Ud. dispone de 1 hora para desarrollar esta interrogación.\n",
    "* Recuerde **guardar frecuentemente sus avances** para evitar pérdidas de trabajo o problemas de envío.<br>"
   ]
  },
  {
   "cell_type": "markdown",
   "id": "24bacb5c",
   "metadata": {},
   "source": [
    "*** \n",
    "## Parte 2: Trabajo de Desarrollo (60 min)\n",
    "\n",
    "Esta parte de la Interrogación es un trabajo práctico con datos. En esta parte, cada pregunta debe ser respondida desarrollando un código por usted que le permita entregar una respuesta."
   ]
  },
  {
   "cell_type": "markdown",
   "id": "3d1a7d9f",
   "metadata": {},
   "source": [
    "## 1. Extracción de datos de la red (6 pts.)\n",
    "\n",
    "En esta sección, deberá escribir un código que le permita hacer una solicitud a una URL para obtener un archivo JSON.\n",
    "\n",
    "Suponga que usted encuentra el siguiente endpoint en la documentación de una API:\n",
    "\n",
    "```\n",
    "URL = \"www.example-api-url.com/LAT={latitude},LON={longitude},DATE={date (DD-MM-YYYY)}\"\n",
    "```\n",
    "\n",
    "Complete la función `request_fnc` de modo que:\n",
    "* Reciba como input (argumentos) los parámetros del endpoint y un nombre de archivo.\n",
    "* Haga una solicitud a la URL.\n",
    "* Guarde como JSON el contenido de la respuesta con el nombre del archivo dado.\n",
    "\n",
    "\n",
    "**Solo escriba el código de la función sin llamarla, ya que está utilizando un URL de ejemplo.** "
   ]
  },
  {
   "cell_type": "code",
   "execution_count": null,
   "id": "aa518b84",
   "metadata": {},
   "outputs": [],
   "source": [
    "# Respuesta\n",
    "\n",
    "def request_fnc(lat, lon, date, filename):\n",
    "    # Escriba su código AQUI"
   ]
  },
  {
   "cell_type": "markdown",
   "id": "79516451",
   "metadata": {},
   "source": [
    "## 2. Lectura y creación de un DataFrame (6 pts.)\n",
    "\n",
    "En la siguientes celdas (puede agregar celdas si lo necesita) escriba un código que lea el archivo `all_pokemon.json` que debió bajar a su computador antes de la prueba y lo deje en un DataFrame de pandas.\n",
    "\n",
    "Cargue e inspeccione los índices del archivo. Luego, genere un único DataFrame que contenga las siguientes columnas:\n",
    "```\n",
    "[\"id\", \"name\", \"base_experience\", \"height\", \"weight\", \"is_default\", \"type1\", \"type2\",\n",
    "\"hp\",\"attack\",\"defense\",\"special-attack\",\"special-defense\",\"speed\", \"ranking\", \"popularity\"]\n",
    "```\n",
    "\n",
    "Cuando corresponda, use métodos de aplanamiento (`json_normalize`). Puede crear múltiples DataFrames que le sean de utilidad en el proceso, pero debe obtener finalmente un solo DataFrame unificado con las columnas indicadas."
   ]
  },
  {
   "cell_type": "code",
   "execution_count": null,
   "id": "2f2309bb",
   "metadata": {},
   "outputs": [],
   "source": [
    "# Respuesta"
   ]
  },
  {
   "cell_type": "markdown",
   "id": "d17e63f8",
   "metadata": {},
   "source": [
    "## 3. Inspección de los datos\n",
    "\n",
    "En esta sección, inspeccione el DataFrame generado y responda con texto y/o código según corresponda."
   ]
  },
  {
   "cell_type": "markdown",
   "id": "8ba813cc",
   "metadata": {},
   "source": [
    "#### 3.1 Imprima una muestra de 5 filas al azar de su dataset (3 pts.)"
   ]
  },
  {
   "cell_type": "code",
   "execution_count": null,
   "id": "1d97d223",
   "metadata": {},
   "outputs": [],
   "source": [
    "# Respuesta"
   ]
  },
  {
   "cell_type": "markdown",
   "id": "4f04e744",
   "metadata": {},
   "source": [
    "#### 3.2 Imprima un resumen de los estadísticos principales (cantidad, valor promedio, máximos y mínimos, etc) para todas las columnas numérticas de su dataset (3 pts.)"
   ]
  },
  {
   "cell_type": "code",
   "execution_count": null,
   "id": "2b503bb4",
   "metadata": {},
   "outputs": [],
   "source": [
    "# Respuesta"
   ]
  },
  {
   "cell_type": "markdown",
   "id": "ca7af266",
   "metadata": {},
   "source": [
    "#### 3.3 Imprima todos los valores de `type1` y `type2` que existen en su dataset. ¿Cuántos son? (3 pts.)"
   ]
  },
  {
   "cell_type": "code",
   "execution_count": null,
   "id": "a9200adc",
   "metadata": {},
   "outputs": [],
   "source": [
    "# Respuesta"
   ]
  },
  {
   "cell_type": "markdown",
   "id": "4f9f0b3a",
   "metadata": {},
   "source": [
    "#### 3.4 Muestre los tipos de cada columna de su DataFrame (3 pts.)"
   ]
  },
  {
   "cell_type": "code",
   "execution_count": null,
   "id": "96778e80",
   "metadata": {},
   "outputs": [],
   "source": [
    "# Respuesta"
   ]
  },
  {
   "cell_type": "markdown",
   "id": "11ed725a",
   "metadata": {},
   "source": [
    "#### 3.5 ¿Están correctos los tipos asignados por Pandas? ¿Cree que algunos podrían ser modificados? Justifique su respuesta. (5 pts.)"
   ]
  },
  {
   "cell_type": "markdown",
   "id": "cc2cbef6",
   "metadata": {},
   "source": [
    "Respuesta:"
   ]
  },
  {
   "cell_type": "markdown",
   "id": "6a2e262c",
   "metadata": {},
   "source": [
    "## 4. Limpieza del dataset\n",
    "\n",
    "Para la siguiente sección, deberá crear un nuevo DataFrame **sin sobreescribir el anterior** llamado `clean_df`. Responda las preguntas con texto y/o código según corresponda.\n"
   ]
  },
  {
   "cell_type": "code",
   "execution_count": null,
   "id": "ff266077",
   "metadata": {},
   "outputs": [],
   "source": [
    "# Nuevo DF"
   ]
  },
  {
   "cell_type": "markdown",
   "id": "e36e109e",
   "metadata": {},
   "source": [
    "#### 4.1 ¿Existen filas con valores nulos en su DataFrame? Si es así, imprima cuáles filas contienen valores nulos. ¿Cuántas son? En caso contrario, escriba el código que le permite saber que no hay valores nulos. (4 pts.)"
   ]
  },
  {
   "cell_type": "code",
   "execution_count": null,
   "id": "57bbd960",
   "metadata": {},
   "outputs": [],
   "source": [
    "# Respuesta"
   ]
  },
  {
   "cell_type": "markdown",
   "id": "75451cd7",
   "metadata": {},
   "source": [
    "#### 4.2 Según lo obtenido, elimine las filas que considere inválidas de `clean_df` y justifique porqué. Si no encontró ninguna, escriba el código que le permitiría eliminar filas nulas de `clean_df`. (4 pts.)"
   ]
  },
  {
   "cell_type": "markdown",
   "id": "43a014ec",
   "metadata": {},
   "source": [
    "Respuesta:"
   ]
  },
  {
   "cell_type": "code",
   "execution_count": null,
   "id": "a5a5483b",
   "metadata": {},
   "outputs": [],
   "source": [
    "# Respuesta"
   ]
  },
  {
   "cell_type": "markdown",
   "id": "c8379e20",
   "metadata": {},
   "source": [
    "#### 4.3 ¿Existen filas duplicadas en su DataFrame? Si es así, muestre cuáles son. Si no, escriba el código que le permite saberlo. (3 pts.)"
   ]
  },
  {
   "cell_type": "code",
   "execution_count": null,
   "id": "ea3ac423",
   "metadata": {},
   "outputs": [],
   "source": [
    "# Respuesta"
   ]
  },
  {
   "cell_type": "markdown",
   "id": "0557b8bf",
   "metadata": {},
   "source": [
    "#### 4.4 Elimine las filas duplicadas de `clean_df`, dejando únicamente el primer registro. Si no hay ninguna, escriba el código que le permitiría eliminar filas duplicadas de `clean_df`. (4 pts.)"
   ]
  },
  {
   "cell_type": "code",
   "execution_count": null,
   "id": "ee6b1329",
   "metadata": {},
   "outputs": [],
   "source": [
    "# Respuesta"
   ]
  },
  {
   "cell_type": "markdown",
   "id": "3a4bc496",
   "metadata": {},
   "source": [
    "#### 4.5 Acorde con lo que respondió en el item 3.5, aplique las transformaciones a los tipos a las columnas que consideró incorrectas. Imprima nuevamente los nuevos tipos de todas las columnas (5 pts.)"
   ]
  },
  {
   "cell_type": "code",
   "execution_count": null,
   "id": "2f40c015",
   "metadata": {},
   "outputs": [],
   "source": [
    "# Respuesta"
   ]
  },
  {
   "cell_type": "markdown",
   "id": "5f0de1cd",
   "metadata": {},
   "source": [
    "#### 4.6 ¿Hay alguna columna que podría eliminar de su dataset? Justifique su respuesta. Si considera que existe alguna, escriba y ejecute un código que elimine esta columna de `clean_df`. En caso contrario, escriba un código que elimine una columna cualquiera, pero no lo ejecute (3 pts.)"
   ]
  },
  {
   "cell_type": "code",
   "execution_count": null,
   "id": "e8d766a8",
   "metadata": {},
   "outputs": [],
   "source": [
    "# Respuesta"
   ]
  },
  {
   "cell_type": "markdown",
   "id": "f42c91d5",
   "metadata": {},
   "source": [
    "## 5. Análisis de datos\n",
    "\n",
    "En esta sección, utilice el DataFrame procesado en la sección anterior, `clean_df`, para responder las siguientes preguntas con texto y/o código."
   ]
  },
  {
   "cell_type": "markdown",
   "id": "234bcbe6",
   "metadata": {},
   "source": [
    "#### 5.1 ¿Cuántas combinaciones de tipos (`type1` y `type2`) existen en su dataset? ¿Cuál es la combinación más común? (4 pts.)\n",
    "\n",
    "Considere las combinaciones \"simétricas\" como dos combinaciones diferentes. Por ejemplo,`type1 = bug` y `type2 = water` **no es lo mismo que** `type1 = water` y `type2 = bug`."
   ]
  },
  {
   "cell_type": "code",
   "execution_count": null,
   "id": "f2f70395",
   "metadata": {},
   "outputs": [],
   "source": [
    "# Respuesta"
   ]
  },
  {
   "cell_type": "markdown",
   "id": "ea3e38fc",
   "metadata": {},
   "source": [
    "#### 5.2 ¿Existen pokemones para todas las posibles combinaciones de tipos? Si no es así, mencione un ejemplo de combinación que no existe en su dataset. Justifique su respuesta con código (3 pts.)"
   ]
  },
  {
   "cell_type": "code",
   "execution_count": null,
   "id": "5741cb7f",
   "metadata": {},
   "outputs": [],
   "source": [
    "# Respuesta"
   ]
  },
  {
   "cell_type": "markdown",
   "id": "7ba6a045",
   "metadata": {},
   "source": [
    "#### 5.3 Use la función entregada `get_column_avg_by_type()` y responda  (6 pts.):\n",
    "\n",
    "* ¿Cuál es el tipo de pokemon más popular? Imprima el tipo y el valor promedio de popularidad.\n",
    "* ¿Cuál es el tipo de pokemon más veloz? Imprima el tipo y el valor promedio de velocidad.\n",
    "* ¿Cuál es el tipo de pokemon con mayor defensa? Imprima el tipo y el valor promedio de defensa.\n"
   ]
  },
  {
   "cell_type": "code",
   "execution_count": null,
   "id": "b457abe3",
   "metadata": {},
   "outputs": [],
   "source": [
    "def get_column_avg_by_type(df: pd.DataFrame, column: str) -> pd.DataFrame:\n",
    "    \"\"\"\n",
    "    (NO MODIFICAR)\n",
    "    Retorna un DataFrame con el promedio de dicha columna agrupado por tipo de Pokémon.\n",
    "    \"\"\"\n",
    "    all_types = df['type1'].unique()\n",
    "    dfs_by_type = [clean_df[(clean_df['type1'] == t) | (clean_df['type2'] == t)] for t in all_types]\n",
    "    avg_column = {t: df_t[column].mean() for t, df_t in zip(all_types, dfs_by_type)}\n",
    "    return pd.DataFrame(avg_column.items(), columns=['type', f'avg_{column}'])"
   ]
  },
  {
   "cell_type": "markdown",
   "id": "77040828",
   "metadata": {},
   "source": [
    "Respuesta:"
   ]
  },
  {
   "cell_type": "code",
   "execution_count": null,
   "id": "0ad90fe1",
   "metadata": {},
   "outputs": [],
   "source": [
    "# Respuesta"
   ]
  },
  {
   "cell_type": "markdown",
   "id": "6b446977",
   "metadata": {},
   "source": [
    "#### 5.4 Muestre la relación entre la velocidad y defensa para pokemon de tipos \"Electric\" y \"Rock\" por separado. ¿Cómo se diferencian los stats mencionados en estos dos tipos? (5 pts.)\n",
    "\n",
    "Para esto, realice un scatterplot que muestre estas dos variables solamente para estos dos tipos de pokemon. \n",
    "Recuerde colocarle título, nombre de ejes y etiquetas a su gráfico según corresponda. Además, recuerde que en el gráfico se debe poder diferenciar un tipo de otro. Puede utilizar la librería de visualización que le acomode."
   ]
  },
  {
   "cell_type": "code",
   "execution_count": null,
   "id": "4eb480ad",
   "metadata": {},
   "outputs": [],
   "source": [
    "# Respuesta"
   ]
  }
 ],
 "metadata": {
  "kernelspec": {
   "display_name": "Python 3 (ipykernel)",
   "language": "python",
   "name": "python3"
  },
  "language_info": {
   "codemirror_mode": {
    "name": "ipython",
    "version": 3
   },
   "file_extension": ".py",
   "mimetype": "text/x-python",
   "name": "python",
   "nbconvert_exporter": "python",
   "pygments_lexer": "ipython3",
   "version": "3.11.5"
  }
 },
 "nbformat": 4,
 "nbformat_minor": 5
}
