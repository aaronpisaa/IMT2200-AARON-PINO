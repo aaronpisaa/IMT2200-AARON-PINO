{
 "cells": [
  {
   "cell_type": "markdown",
   "metadata": {},
   "source": [
    "# <img style=\"float: left; padding-right: 20px; width: 200px\" src=\"https://raw.githubusercontent.com/raxlab/imt2200-data/main/media/logo.jpg\">  IMT 2200 - Introducción a Ciencia de Datos\n",
    "**Pontificia Universidad Católica de Chile**<br>\n",
    "**Instituto de Ingeniería Matemática y Computacional**<br>\n",
    "**Profesor:** Rodrigo A. Carrasco <br>\n",
    "---"
   ]
  },
  {
   "cell_type": "markdown",
   "metadata": {},
   "source": [
    "# <h1><center>Clase 18: Exploración de Datos</center></h1>\n",
    "\n",
    "En este notebook probaremos diferentes metodologías de exploración de datos sobre una base para generar hipótesis, visualizar información y entender qué información está en los datos.\n",
    "\n",
    "## Caso de Estudio: Análisis de Votaciones Presidenciales en EEUU 2020.\n",
    "\n",
    "\n",
    "### Descripción del Dataset.\n",
    "\n",
    "Los datos para este problema correspoden a los resultados de las elecciones presidenciales 2020 de EEUU (Biden vs. Trump), a nivel de condados. Además, se incluyen algunas variables sociodemográficos y resultados de elecciones anteriores.\n",
    "\n",
    "Estos datos pueden ser visualizados en el siguiente mapa de USA Today:\n",
    "\n",
    "https://www.usatoday.com/in-depth/graphics/2020/11/10/election-maps-2020-america-county-results-more-voters/6226197002/\n",
    "\n",
    "\n",
    "### Objetivo.\n",
    "\n",
    "Analizar el comportamiento de distintos estados y condados en las elecciones presidenciales estadounidenses 2020. Por ejemplo, algunas preguntas que podríamos responder a partir de los datos son:\n",
    "\n",
    "- ¿Cómo se distribuyen los condados donde ganó la opción demócrata (Biden) o republicana (Trump)?\n",
    "- ¿En qué se parecen/diferencian?\n",
    "- ¿Hay correlaciones entre el porcentaje de voto demócrata (o republicano) y otras variables políticas o sociodemográficas?\n",
    "- ¿Es el comportamiento de un condado o estado, predictor de otro?\n",
    "- ¿Hay similitudes entre los swing states?"
   ]
  },
  {
   "cell_type": "markdown",
   "metadata": {},
   "source": [
    "## 1. Datos a analizar\n",
    "\n",
    "El archivo `county_election_results.csv` será la base que usaremos para este trabajo."
   ]
  },
  {
   "cell_type": "code",
   "execution_count": null,
   "metadata": {},
   "outputs": [],
   "source": [
    "import matplotlib.pyplot as plt \n",
    "import numpy as np\n",
    "import pandas as pd\n",
    "import seaborn as sns"
   ]
  },
  {
   "cell_type": "markdown",
   "metadata": {},
   "source": [
    "### Lectura de Datos.\n",
    "\n",
    "La librería Pandas implemente métodos de lectura de distintos tipos de datos, entre ellos datos en formato `csv`, mediante la función `read_csv`:\n",
    "\n",
    "https://pandas.pydata.org/docs/reference/api/pandas.read_csv.html"
   ]
  },
  {
   "cell_type": "code",
   "execution_count": null,
   "metadata": {},
   "outputs": [],
   "source": [
    "dat = pd.read_csv('county_election_results.csv')\n",
    "\n",
    "#caculamos el porcentaje de votos D y R en cada condado, para identificar más fácilmente quién ganó en cada uno\n",
    "dat['pct_D'] = dat['votes_D_2020']/dat['votes_total_2020']*100\n",
    "dat['pct_R'] = dat['votes_R_2020']/dat['votes_total_2020']*100\n",
    "\n",
    "dat.head()"
   ]
  },
  {
   "cell_type": "code",
   "execution_count": null,
   "metadata": {
    "scrolled": true
   },
   "outputs": [],
   "source": [
    "dat.columns"
   ]
  },
  {
   "cell_type": "code",
   "execution_count": null,
   "metadata": {},
   "outputs": [],
   "source": [
    "columns = ['pct_D','pct_R','acs_pct_pop_nonwhite', 'acs_pct_management', 'acs_pct_service',\n",
    "       'pct_pop25+_bachelor_higher', 'median_household_income',\n",
    "       'per_capita_income','POPESTIMATE2019','state','county','Unemployment Rate','winner','region']\n",
    "dat2 = dat[columns]"
   ]
  },
  {
   "cell_type": "markdown",
   "metadata": {},
   "source": [
    "## 2. EDA General\n",
    "\n",
    "### 2.1 Revisemos algunas cosas generales de la base de datos"
   ]
  },
  {
   "cell_type": "code",
   "execution_count": null,
   "metadata": {
    "scrolled": true
   },
   "outputs": [],
   "source": [
    "dat.head()"
   ]
  },
  {
   "cell_type": "code",
   "execution_count": null,
   "metadata": {},
   "outputs": [],
   "source": [
    "dat.info()"
   ]
  },
  {
   "cell_type": "code",
   "execution_count": null,
   "metadata": {},
   "outputs": [],
   "source": [
    "dat[['Unemployment Rate','per_capita_income','acs_pct_pop_nonwhite']].describe()"
   ]
  },
  {
   "cell_type": "code",
   "execution_count": null,
   "metadata": {},
   "outputs": [],
   "source": [
    "dat['votes_D_2020'].sum()+dat['votes_R_2020'].sum()+dat['votes_third_party_2020'].sum()"
   ]
  },
  {
   "cell_type": "code",
   "execution_count": null,
   "metadata": {},
   "outputs": [],
   "source": [
    "dat['POPESTIMATE2019'].sum()"
   ]
  },
  {
   "cell_type": "code",
   "execution_count": null,
   "metadata": {},
   "outputs": [],
   "source": [
    "100*(dat['votes_D_2020'].sum()+dat['votes_R_2020'].sum()+dat['votes_third_party_2020'].sum())/dat['POPESTIMATE2019'].sum()"
   ]
  },
  {
   "cell_type": "markdown",
   "metadata": {},
   "source": [
    "### 2.2 Estadísticas de resumen\n",
    "\n",
    "\n",
    "- **Media** (`np.mean()`): es la suma de todos los valores, dividida por el número de puntos.\n",
    " \n",
    "$$\\mu=\\frac{1}{n} \\sum_{i=1}^n x_i $$\n",
    "\n",
    "- **Mediana** (`np.median()`): es el valor medio de un conjunto de datos. Es inmune a valores extremos o outliers. Para calcularla, se ordenan los datos y se elige el valor que queda en la mitad. \n",
    " \n",
    "- **Percentiles** (`np.percentile()`): el percentil $p$, corresponde al valor que es mayor al $p\\%$ de los datos.\n",
    "\n",
    "\n",
    "- **Varianza** (`np.var()`): promedio de la distancia cuadrática de los datos a la media. Es una medida de la dispersión de los datos.\n",
    "\n",
    "$$\\rm{Var}=\\frac{1}{n} \\sum_{i=1}^n (x_i-\\bar{x})^2$$\n",
    "\n",
    "- **Desviación estándar** (`np.std()`): es la raíz cuadrada de la varianza. Está en la misma escala de unidades que los datos.\n",
    "\n",
    "$$\\sigma=\\sqrt{\\frac{1}{n} \\sum_{i=1}^n (x_i-\\bar{x})^2}$$\n",
    "\n",
    "- **Covarianza** (`np.cov()`): es una medida de cómo dos cantidades varían juntas.\n",
    "Es la media del producto entre las diferencias de los valores respecto a la media.\n",
    "\n",
    "$$\\rm{Cov} (x,y)=\\frac{1}{n} \\sum_{i=1}^n (x_i-\\bar{x})(y_i-\\bar{y})$$\n",
    "\n",
    "- **Coeficiente de correlación de Pearson** (`np.corrcoef`): para tener una medida más general y aplicable de la correlación entre dos variables, necesitamos que sea adimensional. Por lo tanto dividimos la covarianza por las desviaciones estándar de $x$ e $y$. Esto define el coeficiente de correlación de Pearson ($\\rho$).\n",
    "\n",
    "$$\\rho=\\frac{\\rm{Cov} (x,y)}{\\sigma_x \\sigma_y}$$"
   ]
  },
  {
   "cell_type": "markdown",
   "metadata": {},
   "source": [
    "Analicemos las principales estadísticas de resumen de los datos. ¿ Qué conclusiones útiles podemos obtener?"
   ]
  },
  {
   "cell_type": "code",
   "execution_count": null,
   "metadata": {},
   "outputs": [],
   "source": [
    "dat['Unemployment Rate'].max()"
   ]
  },
  {
   "cell_type": "code",
   "execution_count": null,
   "metadata": {},
   "outputs": [],
   "source": [
    "dat['Unemployment Rate'].std()"
   ]
  },
  {
   "cell_type": "code",
   "execution_count": null,
   "metadata": {},
   "outputs": [],
   "source": [
    "np.percentile(dat['Unemployment Rate'],10)"
   ]
  },
  {
   "cell_type": "code",
   "execution_count": null,
   "metadata": {},
   "outputs": [],
   "source": [
    "dat['winner'].value_counts()"
   ]
  },
  {
   "cell_type": "code",
   "execution_count": null,
   "metadata": {},
   "outputs": [],
   "source": [
    "pd.pivot_table(dat,index='winner',values=['pct_pop25+_bachelor_higher'],aggfunc=['mean'])"
   ]
  },
  {
   "cell_type": "markdown",
   "metadata": {},
   "source": [
    "### Algunas preguntas a responder:\n",
    "\n",
    "- ¿Cuántos condados ganó cada candidato?\n",
    "- ¿Hay diferencias en los ingresos per capita entre condados que votaron demócrata o republicano?\n",
    "- ¿Hay diferencias en el nivel educacional entre condados que votaron demócrata o republicano?\n",
    "- ¿Son homogéneos los estados D/R en cuanto a ingresos, desempleo, educación?\n",
    "\n",
    "<div class=\"alert alert-block alert-info\">\n",
    "<b> Desafío:</b> Contesten las cuatro preguntas anteriores con los datos de la base usada.\n",
    "    \n",
    "<b>Los estudiantes que me envíen un Jupyter Notebook antes del viernes, contestando correctamente estas preguntas, tendrán +0.3 en la Interrogación 1.</b>\n",
    "</div>"
   ]
  },
  {
   "cell_type": "markdown",
   "metadata": {},
   "source": [
    "## 3. Análisis Exploratorio Univariado\n",
    "\n",
    "Podemos utilizar múltiples funcionalidades de `matplotlib`y `seaborn` para realizar un análisis exploratorio gráfico de los datos.\n",
    "\n",
    "`Funciones de interés:`\n",
    "\n",
    "- https://matplotlib.org/stable/api/_as_gen/matplotlib.pyplot.hist.html\n",
    "- https://matplotlib.org/stable/api/_as_gen/matplotlib.pyplot.boxplot.html"
   ]
  },
  {
   "cell_type": "code",
   "execution_count": null,
   "metadata": {},
   "outputs": [],
   "source": [
    "# histograma\n",
    "fig = plt.figure()\n",
    "ax = fig.add_subplot(111)\n",
    "\n",
    "var = 'Unemployment Rate'\n",
    "#bins=np.arange(0,100,10)\n",
    "n,bins,patches = ax.hist(dat[var], histtype='bar', ec='darkblue', fc='lightblue', bins=np.arange(0,30,2))\n",
    "ax.set_xlabel(var)\n",
    "ax.set_ylabel('N')"
   ]
  },
  {
   "cell_type": "markdown",
   "metadata": {},
   "source": [
    "**Binning bias.**\n",
    "\n",
    "Lo histogramas son informativos y permiten entender las características genelares de nuestros datos, pero la gran desventaja, es que los mismos datos pueden interpretarse de distinta forma dependiendo de la elección de bins. La elección del número de bins es arbitraria, lo cual puede generar sesgos (binning bias). Adicionalmente, en un histograma no estamos graficando todos los datos, sino que los agrupamos en bins, y por lo tanto perdemos sus valores. Una regla común es usar un número de bins igual a la raíz cuadrada del número de muestras."
   ]
  },
  {
   "cell_type": "code",
   "execution_count": null,
   "metadata": {},
   "outputs": [],
   "source": [
    "#Notar las diferencias de binning\n",
    "fig=plt.figure(figsize=(10,5))\n",
    "ax1=fig.add_subplot(121)\n",
    "ax2=fig.add_subplot(122)\n",
    "\n",
    "bins = np.arange(0,100,10)\n",
    "nbins = int(np.sqrt(len(dat)))\n",
    "print(nbins)\n",
    "\n",
    "_=ax1.hist(dat['pct_D'], bins = bins, histtype='bar', ec='darkblue', fc='lightblue')\n",
    "_=ax2.hist(dat['pct_D'], bins = nbins, histtype='bar', ec='darkblue', fc='lightblue')\n",
    "\n",
    "for ax in [ax1,ax2]:\n",
    "    ax.set_xlabel('Porcentaje de voto demócrata')\n",
    "    ax.set_ylabel('Número de Condados')\n",
    "    ax.axvline(x=50, ls=':', color='gray')\n",
    "    ax.set_ylim(0,900)\n",
    "    ax.set_xlim(0,100)"
   ]
  },
  {
   "cell_type": "markdown",
   "metadata": {},
   "source": [
    "## 4. Análisis Exploratorio Multivariado\n",
    "\n",
    "¿Cómo se comportan las distintas variables políticas y socioeconómicas por región, estado, o según el partido ganador? ¿Podemos sacar alguna conclusión a partir de distintos análisis gráficos?"
   ]
  },
  {
   "cell_type": "code",
   "execution_count": null,
   "metadata": {},
   "outputs": [],
   "source": [
    "sns.histplot(data=dat2, x='pct_D', hue='winner')"
   ]
  },
  {
   "cell_type": "code",
   "execution_count": null,
   "metadata": {},
   "outputs": [],
   "source": [
    "sns.relplot(data=dat2, x='pct_D', y='winner')"
   ]
  },
  {
   "cell_type": "code",
   "execution_count": null,
   "metadata": {},
   "outputs": [],
   "source": [
    "dat2['winner'] = ['D' if x>=50.0 else 'R' for x in dat2['pct_D']]\n",
    "sns.histplot(data=dat2,x='pct_D',hue='winner')"
   ]
  },
  {
   "cell_type": "code",
   "execution_count": null,
   "metadata": {},
   "outputs": [],
   "source": [
    "sns.relplot(data=dat2, x='pct_D', y='winner')"
   ]
  },
  {
   "cell_type": "code",
   "execution_count": null,
   "metadata": {},
   "outputs": [],
   "source": [
    "columns=['pct_D','pct_R','acs_pct_pop_nonwhite', 'acs_pct_management', 'acs_pct_service',\n",
    "       'pct_pop25+_bachelor_higher', 'median_household_income',\n",
    "       'per_capita_income','POPESTIMATE2019','state','county','Unemployment Rate','winner','region']### Boxplot multivariado."
   ]
  },
  {
   "cell_type": "code",
   "execution_count": null,
   "metadata": {},
   "outputs": [],
   "source": [
    "sns.boxplot(data=dat2, y='acs_pct_pop_nonwhite', x='winner', hue='region')"
   ]
  },
  {
   "cell_type": "code",
   "execution_count": null,
   "metadata": {},
   "outputs": [],
   "source": [
    "fig = plt.figure(figsize=(20,5))\n",
    "ax = fig.add_subplot(111)\n",
    "sns.boxplot(ax=ax,data=dat2,y='acs_pct_pop_nonwhite',x='state',width=0.8)"
   ]
  },
  {
   "cell_type": "code",
   "execution_count": null,
   "metadata": {},
   "outputs": [],
   "source": [
    "#analicemos ahora los coeficientes de correlación para un subconjunto de condados: los que están en swing states\n",
    "swing = ['GA','PA','AZ','MI','WI',]\n",
    "dats = dat2[dat2['state'].isin(swing)]\n",
    "dats"
   ]
  },
  {
   "cell_type": "code",
   "execution_count": null,
   "metadata": {},
   "outputs": [],
   "source": [
    "sns.boxplot(data=dats,y='acs_pct_pop_nonwhite',x='winner',hue='state')"
   ]
  },
  {
   "cell_type": "code",
   "execution_count": null,
   "metadata": {},
   "outputs": [],
   "source": [
    "fig = plt.figure(figsize=(20,5))\n",
    "ax = fig.add_subplot(111)\n",
    "sns.boxplot(data=dats,y='acs_pct_pop_nonwhite',x='state',hue='winner')"
   ]
  },
  {
   "cell_type": "code",
   "execution_count": null,
   "metadata": {},
   "outputs": [],
   "source": [
    "sns.boxplot(data=dat2,y='acs_pct_pop_nonwhite',x='region',hue='winner')"
   ]
  },
  {
   "cell_type": "code",
   "execution_count": null,
   "metadata": {},
   "outputs": [],
   "source": [
    "sns.boxplot(data=dats,y='acs_pct_pop_nonwhite',x='state',hue='winner')"
   ]
  },
  {
   "cell_type": "code",
   "execution_count": null,
   "metadata": {},
   "outputs": [],
   "source": [
    "sns.boxplot(data=dats,y='Unemployment Rate',x='state',hue='winner')"
   ]
  },
  {
   "cell_type": "markdown",
   "metadata": {},
   "source": [
    "Para los swing states, se aprecia una tendencia entre el ganador del condado, y el porcentaje de población no-blanca: en general este porcentaje tiene una distribución de valores más altos en los condados donde ganan los demócratas."
   ]
  },
  {
   "cell_type": "markdown",
   "metadata": {},
   "source": [
    "### 4.1 Gráficos de dispersión.\n",
    "\n",
    "Podemos visualizar en más detalle la relación entre estas (y otras variables) usando gráficos de dispersión."
   ]
  },
  {
   "cell_type": "code",
   "execution_count": null,
   "metadata": {},
   "outputs": [],
   "source": [
    "sns.pairplot(dat2)"
   ]
  },
  {
   "cell_type": "code",
   "execution_count": null,
   "metadata": {},
   "outputs": [],
   "source": [
    "sns.pairplot(dat2,y_vars='pct_D')"
   ]
  },
  {
   "cell_type": "code",
   "execution_count": null,
   "metadata": {},
   "outputs": [],
   "source": [
    "sns.pairplot(dats,y_vars=['pct_D'],x_vars=['acs_pct_pop_nonwhite', 'acs_pct_management', 'Unemployment Rate'],hue='state',aspect=1);"
   ]
  },
  {
   "cell_type": "markdown",
   "metadata": {},
   "source": [
    "### 4.2 Coeficientes de correlación.\n",
    "\n",
    "Veamos ahora cómo es la correlación entre variables y cómo visualizarla"
   ]
  },
  {
   "cell_type": "code",
   "execution_count": null,
   "metadata": {},
   "outputs": [],
   "source": [
    "#para calcular los coeficientes de correlación entre todas las variables, es más eficiente usar al función .corr() de pandas\n",
    "corr = dats[['pct_D', 'pct_R', 'acs_pct_pop_nonwhite', 'acs_pct_management', 'acs_pct_service', 'pct_pop25+_bachelor_higher', 'median_household_income', 'per_capita_income', 'POPESTIMATE2019', 'Unemployment Rate']].corr()\n",
    "corr"
   ]
  },
  {
   "cell_type": "code",
   "execution_count": null,
   "metadata": {},
   "outputs": [],
   "source": [
    "sns.heatmap(corr);"
   ]
  },
  {
   "cell_type": "code",
   "execution_count": null,
   "metadata": {},
   "outputs": [],
   "source": []
  }
 ],
 "metadata": {
  "kernelspec": {
   "display_name": "Python 3 (ipykernel)",
   "language": "python",
   "name": "python3"
  },
  "language_info": {
   "codemirror_mode": {
    "name": "ipython",
    "version": 3
   },
   "file_extension": ".py",
   "mimetype": "text/x-python",
   "name": "python",
   "nbconvert_exporter": "python",
   "pygments_lexer": "ipython3",
   "version": "3.11.5"
  }
 },
 "nbformat": 4,
 "nbformat_minor": 4
}
