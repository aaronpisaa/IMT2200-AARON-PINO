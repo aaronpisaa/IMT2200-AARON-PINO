{
 "cells": [
  {
   "cell_type": "markdown",
   "metadata": {},
   "source": [
    "# <img style=\"float: left; padding-right: 20px; width: 200px\" src=\"https://raw.githubusercontent.com/raxlab/imt2200-data/main/media/logo.jpg\">  IMT 2200 - Introducción a Ciencia de Datos\n",
    "**Pontificia Universidad Católica de Chile**<br>\n",
    "**Instituto de Ingeniería Matemática y Computacional**<br>\n",
    "**Profesor:** Rodrigo A. Carrasco <br>\n",
    "---"
   ]
  },
  {
   "cell_type": "markdown",
   "metadata": {},
   "source": [
    "# <h1><center>Clase 11: Limpieza de Datos</center></h1>\n",
    "\n",
    "Este ejercicio busca que los estudiantes aprendan a usar algunas de las librearías de Python y Pandas para limpiar datos crudos de un repositorio."
   ]
  },
  {
   "cell_type": "markdown",
   "metadata": {},
   "source": [
    "## 1. El problema con los datos\n",
    "\n",
    "Volvamos un minuto a revisar los datos de los taxis en NYC y tratar de sacar algunas conclusiones. \n",
    "\n",
    "Supongamos que nuestro objetivo es ver cuantos viajes se hacen en la ciudad usando los taxis amarillos para un mes en particular, cosa de determinar si necesitamos más o menos taxis en algunas zonas de la ciudad."
   ]
  },
  {
   "cell_type": "code",
   "execution_count": null,
   "metadata": {},
   "outputs": [],
   "source": [
    "import pyarrow.parquet as pq\n",
    "\n",
    "# leer la base parquet\n",
    "trips = pq.read_table('data\\yellow_tripdata_2022-01.parquet')\n",
    "# transformar a dataframe de pandas\n",
    "trips = trips.to_pandas()\n",
    "trips.info()"
   ]
  },
  {
   "cell_type": "markdown",
   "metadata": {},
   "source": [
    "Ahora que tenemos los datos en un DataFrame, podemos rápidamente saber la cantidad de viajes por zona agrupando como lo hicimos antes y contando la cantidad de registros."
   ]
  },
  {
   "cell_type": "code",
   "execution_count": null,
   "metadata": {},
   "outputs": [],
   "source": [
    "trips_by_loc = trips[[\"PULocationID\"]].groupby(\"PULocationID\").size()\n",
    "trips_by_loc.sort_values()"
   ]
  },
  {
   "cell_type": "markdown",
   "metadata": {},
   "source": [
    "Con este simple cálculo podemos concluir que las zonas 237, 236, 132, 161 y 186 son las más usadas para tomar taxi, mientras las zonas 176, 27, 172, 105 y 187 son las menos usadas en ese mes. Pero, ¿está correcto lo que hicimos?"
   ]
  },
  {
   "cell_type": "code",
   "execution_count": null,
   "metadata": {
    "scrolled": true
   },
   "outputs": [],
   "source": [
    "trips[trips[\"PULocationID\"] == 187]"
   ]
  },
  {
   "cell_type": "code",
   "execution_count": null,
   "metadata": {
    "scrolled": true
   },
   "outputs": [],
   "source": [
    "trips[trips[\"PULocationID\"] == 237]"
   ]
  },
  {
   "cell_type": "code",
   "execution_count": null,
   "metadata": {
    "scrolled": true
   },
   "outputs": [],
   "source": [
    "trips[(trips[\"PULocationID\"] == 237) & (trips[\"passenger_count\"] >= 1)]"
   ]
  },
  {
   "cell_type": "code",
   "execution_count": null,
   "metadata": {
    "scrolled": true
   },
   "outputs": [],
   "source": [
    "trips[\"trip_distance\"].sort_values()"
   ]
  },
  {
   "cell_type": "markdown",
   "metadata": {},
   "source": [
    "Claramente tenemos un gran número de registros con problemas y por ende no podemos confiar en el resumen que hicismos antes para definir algo. Necesitamos limpiar los datos que tienen problemas."
   ]
  },
  {
   "cell_type": "code",
   "execution_count": null,
   "metadata": {},
   "outputs": [],
   "source": [
    "viajes_limpios = trips[(trips[\"passenger_count\"] >= 1) & (trips[\"trip_distance\"] > 0) & (trips[\"tpep_pickup_datetime\"].dt.month == 1)]\n",
    "len(viajes_limpios)"
   ]
  },
  {
   "cell_type": "code",
   "execution_count": null,
   "metadata": {},
   "outputs": [],
   "source": [
    "trips_by_loc = viajes_limpios[[\"PULocationID\"]].groupby(\"PULocationID\").size()\n",
    "trips_by_loc.sort_values()"
   ]
  },
  {
   "cell_type": "markdown",
   "metadata": {},
   "source": [
    "## 2. Ejemplo de limpieza de Datos.\n",
    "\n",
    "El set de datos que utilizaremos en este ejercicio proviene de la página `insideairbnb.com`, un grupo de lobby anti-Airbnb que hace scraping de las propiedades publicadas en distintas ciudades del mundo, para estudiar el impacto que esta plataforma tiene sobre los barrios y el desarrollo urbano. En este caso, procesaremos el dataset de propiedades disponibles en Santiago de Chile (actualizado al 28 de junio de 2023):\n",
    "\n",
    "http://insideairbnb.com/index.html"
   ]
  },
  {
   "cell_type": "code",
   "execution_count": null,
   "metadata": {},
   "outputs": [],
   "source": [
    "# lectura de datos\n",
    "import pandas as pd\n",
    "\n",
    "df0 = pd.read_csv('data\\listings.csv')\n",
    "df0.head()"
   ]
  },
  {
   "cell_type": "markdown",
   "metadata": {},
   "source": [
    "## 2. Cambios en columnas\n",
    "\n",
    "Revisemos cómo trabajar sobre las columnas del DataFrame"
   ]
  },
  {
   "cell_type": "code",
   "execution_count": null,
   "metadata": {},
   "outputs": [],
   "source": [
    "df0.columns"
   ]
  },
  {
   "cell_type": "markdown",
   "metadata": {},
   "source": [
    "### 2.1 Seleccionando algunas columnas\n",
    "\n",
    "Podemos generar filtros que nos permiten seleccionar las columnas de interés para el trabajo posterior."
   ]
  },
  {
   "cell_type": "code",
   "execution_count": null,
   "metadata": {},
   "outputs": [],
   "source": [
    "# columnas a dejar\n",
    "keep_cols = ['id','name','host_id','neighbourhood_group_cleansed','neighbourhood', 'minimum_nights', 'latitude','longitude','price','number_of_reviews']\n",
    "# nuevo dataframe con las columnas seleccionadas\n",
    "df = df0[keep_cols]\n",
    "df.head(10)"
   ]
  },
  {
   "cell_type": "markdown",
   "metadata": {},
   "source": [
    "### 2.2 Eliminando columnas\n",
    "\n",
    "En el dataframe anterior notamos que la columna `neighbourhood_group_cleansed` no nos enterga información, por lo que la podemos eliminar."
   ]
  },
  {
   "cell_type": "code",
   "execution_count": null,
   "metadata": {},
   "outputs": [],
   "source": [
    "df = df.drop(columns=['neighbourhood_group_cleansed'])\n",
    "df.head()"
   ]
  },
  {
   "cell_type": "markdown",
   "metadata": {},
   "source": [
    "### 2.3 Tipos de Datos\n",
    "\n",
    "Otro métido importante que usaremos la clase próxima nos permite ver el tipo de dato que hay en cada columna."
   ]
  },
  {
   "cell_type": "code",
   "execution_count": null,
   "metadata": {},
   "outputs": [],
   "source": [
    "df.dtypes"
   ]
  },
  {
   "cell_type": "code",
   "execution_count": null,
   "metadata": {},
   "outputs": [],
   "source": [
    "df['minimum_nights'].describe()"
   ]
  },
  {
   "cell_type": "code",
   "execution_count": null,
   "metadata": {},
   "outputs": [],
   "source": [
    "df['minimum_nights'] = df['minimum_nights'].astype('category')"
   ]
  },
  {
   "cell_type": "code",
   "execution_count": null,
   "metadata": {},
   "outputs": [],
   "source": [
    "df['minimum_nights'].dtype"
   ]
  },
  {
   "cell_type": "code",
   "execution_count": null,
   "metadata": {},
   "outputs": [],
   "source": [
    "df['minimum_nights'].describe()"
   ]
  },
  {
   "cell_type": "code",
   "execution_count": null,
   "metadata": {},
   "outputs": [],
   "source": []
  }
 ],
 "metadata": {
  "kernelspec": {
   "display_name": "Python 3 (ipykernel)",
   "language": "python",
   "name": "python3"
  },
  "language_info": {
   "codemirror_mode": {
    "name": "ipython",
    "version": 3
   },
   "file_extension": ".py",
   "mimetype": "text/x-python",
   "name": "python",
   "nbconvert_exporter": "python",
   "pygments_lexer": "ipython3",
   "version": "3.11.5"
  }
 },
 "nbformat": 4,
 "nbformat_minor": 4
}
