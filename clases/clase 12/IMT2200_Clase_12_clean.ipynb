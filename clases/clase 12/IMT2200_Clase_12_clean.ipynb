{
 "cells": [
  {
   "cell_type": "markdown",
   "metadata": {},
   "source": [
    "# <img style=\"float: left; padding-right: 20px; width: 200px\" src=\"https://raw.githubusercontent.com/raxlab/imt2200-data/main/media/logo.jpg\">  IMT 2200 - Introducción a Ciencia de Datos\n",
    "**Pontificia Universidad Católica de Chile**<br>\n",
    "**Instituto de Ingeniería Matemática y Computacional**<br>\n",
    "**Profesor:** Rodrigo A. Carrasco <br>\n",
    "---"
   ]
  },
  {
   "cell_type": "markdown",
   "metadata": {},
   "source": [
    "# <h1><center>Clase 12: Transformación de Datos</center></h1>\n",
    "\n",
    "Este notebook continua el trabajo anterior, con el objetivo que los estudiantes del curso aprendan diferentes comandos y técnicas en Python y, en particular, en Pandas y con strings, para la transformación de datos."
   ]
  },
  {
   "cell_type": "markdown",
   "metadata": {},
   "source": [
    "## 1. Imputación de datos faltantes\n",
    "\n",
    "Usaremos un set artificial (sintético) de datos para trabajar en imputación de datos faltantes.\n"
   ]
  },
  {
   "cell_type": "code",
   "execution_count": null,
   "metadata": {},
   "outputs": [],
   "source": [
    "# lectura de datos\n",
    "import numpy as np\n",
    "import pandas as pd\n",
    "\n",
    "df = pd.read_csv('data\\ejemplo_imp.csv')\n",
    "df"
   ]
  },
  {
   "cell_type": "markdown",
   "metadata": {},
   "source": [
    "Identificación de datos faltantes"
   ]
  },
  {
   "cell_type": "code",
   "execution_count": null,
   "metadata": {},
   "outputs": [],
   "source": [
    "df.isna()"
   ]
  },
  {
   "cell_type": "markdown",
   "metadata": {},
   "source": [
    "Las funciones de `pandas` no permiten identificar en forma automática todo tipo de datos faltantes o erróneos."
   ]
  },
  {
   "cell_type": "code",
   "execution_count": null,
   "metadata": {},
   "outputs": [],
   "source": [
    "df = df.replace('*', np.nan)\n",
    "df = df.replace('None', np.nan)\n",
    "df = df.replace(' ', np.nan)\n",
    "df = df.replace(-999, np.nan)"
   ]
  },
  {
   "cell_type": "code",
   "execution_count": null,
   "metadata": {
    "scrolled": true
   },
   "outputs": [],
   "source": [
    "df"
   ]
  },
  {
   "cell_type": "code",
   "execution_count": null,
   "metadata": {},
   "outputs": [],
   "source": [
    "df.isna()"
   ]
  },
  {
   "cell_type": "markdown",
   "metadata": {},
   "source": [
    "Ahora que hemos identificado correctamente los datos faltantes, podemos definir qué hacer sobre los datos que faltan."
   ]
  },
  {
   "cell_type": "code",
   "execution_count": null,
   "metadata": {},
   "outputs": [],
   "source": [
    "df.columns"
   ]
  },
  {
   "cell_type": "code",
   "execution_count": null,
   "metadata": {},
   "outputs": [],
   "source": [
    "df.dropna(subset=['col2'])"
   ]
  },
  {
   "cell_type": "markdown",
   "metadata": {},
   "source": [
    "Importante: recuerden que este método no elimina los datos en el DataFrame original y debemos asignarlo para que ello ocurra."
   ]
  },
  {
   "cell_type": "code",
   "execution_count": null,
   "metadata": {},
   "outputs": [],
   "source": [
    "df"
   ]
  },
  {
   "cell_type": "markdown",
   "metadata": {},
   "source": [
    "Hagamos ahora una imputación de valores faltantes."
   ]
  },
  {
   "cell_type": "code",
   "execution_count": null,
   "metadata": {},
   "outputs": [],
   "source": [
    "df2 = df.copy()\n",
    "df2"
   ]
  },
  {
   "cell_type": "code",
   "execution_count": null,
   "metadata": {},
   "outputs": [],
   "source": [
    "df2['col2'] = df2['col2'].fillna(value='d')\n",
    "df2"
   ]
  },
  {
   "cell_type": "markdown",
   "metadata": {},
   "source": [
    "## 2 Limpieza de textos (strings)\n",
    "\n",
    "La limpieza no sólo puede ocurrir a nivel de columnas o filas, también puede que necesitemos limpiar texto para poder procesarlo posteriormente."
   ]
  },
  {
   "cell_type": "code",
   "execution_count": null,
   "metadata": {},
   "outputs": [],
   "source": [
    "import requests\n",
    "from bs4 import BeautifulSoup as bs\n",
    "\n",
    "url = \"https://en.wikipedia.org/wiki/2023_Rugby_World_Cup_squads\"\n",
    "headers = {\"User-Agent\": \"imt2200-class-notebook\"}\n",
    "page = requests.get(url, headers=headers, timeout=10).text\n",
    "soup = bs(page)\n",
    "tables = soup.find_all('table')\n",
    "# procesar la tabla 20 que tiene la escuadra de Chile\n",
    "table = tables[19]"
   ]
  },
  {
   "cell_type": "code",
   "execution_count": null,
   "metadata": {},
   "outputs": [],
   "source": [
    "#creamos un DataFrame vacío con los títulos de la tabla\n",
    "df = pd.DataFrame(columns = ['jugador','posicion','nacimiento','caps', 'club'])\n",
    "\n",
    "# iterar sobre cada fila ('tr') para completar la información\n",
    "for row in table.find_all('tr')[1::]:\n",
    "    cols = row.find_all(\"td\")\n",
    "    #print(cols)\n",
    "    cols = [col.text.strip() for col in cols]\n",
    "    #print(cols)\n",
    "    jugador = cols[0]\n",
    "    posicion = cols[1]\n",
    "    nacimiento = cols[2]\n",
    "    caps = cols[3]\n",
    "    club = cols[4]\n",
    "    new_row = pd.DataFrame({'jugador': jugador, 'posicion': posicion, 'nacimiento': nacimiento,'caps':caps, 'club':club}, index=['jugador'])\n",
    "    df = pd.concat([df, new_row], ignore_index=True)\n",
    "df"
   ]
  },
  {
   "cell_type": "code",
   "execution_count": null,
   "metadata": {},
   "outputs": [],
   "source": [
    "df.info()"
   ]
  },
  {
   "cell_type": "code",
   "execution_count": null,
   "metadata": {},
   "outputs": [],
   "source": [
    "df['caps'] = df['caps'].astype('int')"
   ]
  },
  {
   "cell_type": "code",
   "execution_count": null,
   "metadata": {
    "scrolled": true
   },
   "outputs": [],
   "source": [
    "df.info()"
   ]
  },
  {
   "cell_type": "code",
   "execution_count": null,
   "metadata": {},
   "outputs": [],
   "source": [
    "mean_caps = df['caps'].mean()\n",
    "mean_caps"
   ]
  },
  {
   "cell_type": "code",
   "execution_count": null,
   "metadata": {},
   "outputs": [],
   "source": [
    "df['caps'].describe()"
   ]
  },
  {
   "cell_type": "code",
   "execution_count": null,
   "metadata": {},
   "outputs": [],
   "source": [
    "df['edad'] = df['nacimiento'].str.slice(-3,-1)\n",
    "df['edad'] = df['edad'].astype('int')"
   ]
  },
  {
   "cell_type": "code",
   "execution_count": null,
   "metadata": {},
   "outputs": [],
   "source": [
    "df.head()"
   ]
  },
  {
   "cell_type": "code",
   "execution_count": null,
   "metadata": {
    "scrolled": true
   },
   "outputs": [],
   "source": [
    "df['nacimiento'] = df['nacimiento'].str.slice(1,11)\n",
    "df.head()"
   ]
  },
  {
   "cell_type": "code",
   "execution_count": null,
   "metadata": {},
   "outputs": [],
   "source": [
    "df.info()"
   ]
  },
  {
   "cell_type": "markdown",
   "metadata": {},
   "source": [
    "## 3 Variables categóricas\n",
    "\n",
    "La posición de los jugadores corresponde a una variable categórica pues sólo puede tomar un conjunto de valores predeterminados. Supongamos que para nuestro análisis queremos dividir a los jugadores sólo entre `forwards` y `backs`."
   ]
  },
  {
   "cell_type": "code",
   "execution_count": null,
   "metadata": {},
   "outputs": [],
   "source": [
    "# Ver valores unicos presentes en el dataset\n",
    "categorias = df['posicion'].unique()\n",
    "categorias"
   ]
  },
  {
   "cell_type": "code",
   "execution_count": null,
   "metadata": {},
   "outputs": [],
   "source": [
    "# Definir lista de categorías que queremos\n",
    "cat_simple = ['forwards','backs']\n",
    "\n",
    "# Cuántos registros están en la lista de categorías deseadas?\n",
    "df['posicion'].isin(cat_simple).sum()"
   ]
  },
  {
   "cell_type": "code",
   "execution_count": null,
   "metadata": {},
   "outputs": [],
   "source": [
    "# Mapeo de categorías originales a nuevas categorías\n",
    "map_cats={'Hooker':'forwards',\n",
    "          'Prop':'forwards',\n",
    "          'Lock':'forwards',\n",
    "          'Back row':'forwards',\n",
    "          'Scrum-half':'backs',\n",
    "          'Fly-half':'backs',\n",
    "          'Centre':'backs',\n",
    "          'Wing':'backs',\n",
    "          'Fullback':'backs'}\n",
    "df['posicion_simple'] = df['posicion'].map(map_cats)"
   ]
  },
  {
   "cell_type": "code",
   "execution_count": null,
   "metadata": {},
   "outputs": [],
   "source": [
    "df"
   ]
  },
  {
   "cell_type": "code",
   "execution_count": null,
   "metadata": {},
   "outputs": [],
   "source": []
  }
 ],
 "metadata": {
  "kernelspec": {
   "display_name": "Python 3 (ipykernel)",
   "language": "python",
   "name": "python3"
  },
  "language_info": {
   "codemirror_mode": {
    "name": "ipython",
    "version": 3
   },
   "file_extension": ".py",
   "mimetype": "text/x-python",
   "name": "python",
   "nbconvert_exporter": "python",
   "pygments_lexer": "ipython3",
   "version": "3.12.7"
  }
 },
 "nbformat": 4,
 "nbformat_minor": 4
}
