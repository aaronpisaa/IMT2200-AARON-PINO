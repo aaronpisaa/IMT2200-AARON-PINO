{
 "cells": [
  {
   "cell_type": "markdown",
   "id": "fb4a90bf",
   "metadata": {},
   "source": [
    "# Ayudantía 5 — (Ejercicios)"
   ]
  },
  {
   "cell_type": "code",
   "execution_count": 1,
   "id": "584b919e",
   "metadata": {},
   "outputs": [],
   "source": [
    "import pandas as pd\n",
    "from datetime import datetime"
   ]
  },
  {
   "cell_type": "markdown",
   "id": "0d0f7809",
   "metadata": {},
   "source": [
    "## Ejercicio 1 — Normalización de nombres y correos\n",
    "**Dataset:**\n"
   ]
  },
  {
   "cell_type": "code",
   "execution_count": 2,
   "id": "3509c509",
   "metadata": {},
   "outputs": [
    {
     "data": {
      "text/html": [
       "<div>\n",
       "<style scoped>\n",
       "    .dataframe tbody tr th:only-of-type {\n",
       "        vertical-align: middle;\n",
       "    }\n",
       "\n",
       "    .dataframe tbody tr th {\n",
       "        vertical-align: top;\n",
       "    }\n",
       "\n",
       "    .dataframe thead th {\n",
       "        text-align: right;\n",
       "    }\n",
       "</style>\n",
       "<table border=\"1\" class=\"dataframe\">\n",
       "  <thead>\n",
       "    <tr style=\"text-align: right;\">\n",
       "      <th></th>\n",
       "      <th>id</th>\n",
       "      <th>nombre_completo</th>\n",
       "      <th>emails</th>\n",
       "    </tr>\n",
       "  </thead>\n",
       "  <tbody>\n",
       "    <tr>\n",
       "      <th>0</th>\n",
       "      <td>01</td>\n",
       "      <td>ana GÓMEZ</td>\n",
       "      <td>ana@uc.cl; ANA@GMAIL.COM</td>\n",
       "    </tr>\n",
       "    <tr>\n",
       "      <th>1</th>\n",
       "      <td>02</td>\n",
       "      <td>LUIS   pérez</td>\n",
       "      <td>l.perez@uc.cl</td>\n",
       "    </tr>\n",
       "    <tr>\n",
       "      <th>2</th>\n",
       "      <td>003</td>\n",
       "      <td>soFÍA   díAz</td>\n",
       "      <td>sdiaz@mail.com; sofia@uc.cl</td>\n",
       "    </tr>\n",
       "  </tbody>\n",
       "</table>\n",
       "</div>"
      ],
      "text/plain": [
       "     id nombre_completo                       emails\n",
       "0    01     ana GÓMEZ       ana@uc.cl; ANA@GMAIL.COM\n",
       "1   02     LUIS   pérez                l.perez@uc.cl\n",
       "2   003   soFÍA   díAz   sdiaz@mail.com; sofia@uc.cl"
      ]
     },
     "execution_count": 2,
     "metadata": {},
     "output_type": "execute_result"
    }
   ],
   "source": [
    "df1 = pd.DataFrame({\n",
    "    'id': ['01',' 02 ','003'],\n",
    "    'nombre_completo': [' ana GÓMEZ  ', 'LUIS   pérez', 'soFÍA   díAz '],\n",
    "    'emails': ['ana@uc.cl; ANA@GMAIL.COM', 'l.perez@uc.cl', 'sdiaz@mail.com; sofia@uc.cl']\n",
    "})\n",
    "df1"
   ]
  },
  {
   "cell_type": "markdown",
   "id": "69cafa96",
   "metadata": {},
   "source": [
    "**Tareas:**\n",
    "1) Deja `nombre_completo` en *Title Case* sin espacios extra.\n",
    "\n",
    "2) Convierte correos a minúsculas, elimina espacios internos y separa múltiples correos en **filas** (`explode`).\n",
    "\n",
    "3) Normaliza `id` a tipo entero (`Int64`), quitando espacios y ceros a la izquierda.\n",
    "\n",
    "> Deja tu solución en el DataFrame `res1`."
   ]
  },
  {
   "cell_type": "code",
   "execution_count": 3,
   "id": "b9a0b590",
   "metadata": {},
   "outputs": [
    {
     "data": {
      "text/html": [
       "<div>\n",
       "<style scoped>\n",
       "    .dataframe tbody tr th:only-of-type {\n",
       "        vertical-align: middle;\n",
       "    }\n",
       "\n",
       "    .dataframe tbody tr th {\n",
       "        vertical-align: top;\n",
       "    }\n",
       "\n",
       "    .dataframe thead th {\n",
       "        text-align: right;\n",
       "    }\n",
       "</style>\n",
       "<table border=\"1\" class=\"dataframe\">\n",
       "  <thead>\n",
       "    <tr style=\"text-align: right;\">\n",
       "      <th></th>\n",
       "      <th>id</th>\n",
       "      <th>nombre_completo</th>\n",
       "      <th>emails</th>\n",
       "    </tr>\n",
       "  </thead>\n",
       "  <tbody>\n",
       "    <tr>\n",
       "      <th>0</th>\n",
       "      <td>01</td>\n",
       "      <td>ana GÓMEZ</td>\n",
       "      <td>ana@uc.cl; ANA@GMAIL.COM</td>\n",
       "    </tr>\n",
       "    <tr>\n",
       "      <th>1</th>\n",
       "      <td>02</td>\n",
       "      <td>LUIS   pérez</td>\n",
       "      <td>l.perez@uc.cl</td>\n",
       "    </tr>\n",
       "    <tr>\n",
       "      <th>2</th>\n",
       "      <td>003</td>\n",
       "      <td>soFÍA   díAz</td>\n",
       "      <td>sdiaz@mail.com; sofia@uc.cl</td>\n",
       "    </tr>\n",
       "  </tbody>\n",
       "</table>\n",
       "</div>"
      ],
      "text/plain": [
       "     id nombre_completo                       emails\n",
       "0    01     ana GÓMEZ       ana@uc.cl; ANA@GMAIL.COM\n",
       "1   02     LUIS   pérez                l.perez@uc.cl\n",
       "2   003   soFÍA   díAz   sdiaz@mail.com; sofia@uc.cl"
      ]
     },
     "execution_count": 3,
     "metadata": {},
     "output_type": "execute_result"
    }
   ],
   "source": [
    "# TU CÓDIGO AQUÍ\n",
    "res1 = df1.copy()\n",
    "# ... tu solución ...\n",
    "res1"
   ]
  },
  {
   "cell_type": "markdown",
   "id": "ed9cbb36",
   "metadata": {},
   "source": [
    "## Ejercicio 2 — Limpieza de montos\n",
    "**Dataset (mismos separadores para simplificar):**"
   ]
  },
  {
   "cell_type": "code",
   "execution_count": 4,
   "id": "321ea871",
   "metadata": {},
   "outputs": [
    {
     "data": {
      "text/html": [
       "<div>\n",
       "<style scoped>\n",
       "    .dataframe tbody tr th:only-of-type {\n",
       "        vertical-align: middle;\n",
       "    }\n",
       "\n",
       "    .dataframe tbody tr th {\n",
       "        vertical-align: top;\n",
       "    }\n",
       "\n",
       "    .dataframe thead th {\n",
       "        text-align: right;\n",
       "    }\n",
       "</style>\n",
       "<table border=\"1\" class=\"dataframe\">\n",
       "  <thead>\n",
       "    <tr style=\"text-align: right;\">\n",
       "      <th></th>\n",
       "      <th>monto</th>\n",
       "    </tr>\n",
       "  </thead>\n",
       "  <tbody>\n",
       "    <tr>\n",
       "      <th>0</th>\n",
       "      <td>10.000</td>\n",
       "    </tr>\n",
       "    <tr>\n",
       "      <th>1</th>\n",
       "      <td>12.500</td>\n",
       "    </tr>\n",
       "    <tr>\n",
       "      <th>2</th>\n",
       "      <td>3.000</td>\n",
       "    </tr>\n",
       "    <tr>\n",
       "      <th>3</th>\n",
       "      <td>4.500</td>\n",
       "    </tr>\n",
       "  </tbody>\n",
       "</table>\n",
       "</div>"
      ],
      "text/plain": [
       "    monto\n",
       "0  10.000\n",
       "1  12.500\n",
       "2   3.000\n",
       "3   4.500"
      ]
     },
     "execution_count": 4,
     "metadata": {},
     "output_type": "execute_result"
    }
   ],
   "source": [
    "df2 = pd.DataFrame({\n",
    "    'monto': ['10.000', '12.500', '3.000', '4.500']\n",
    "})\n",
    "df2"
   ]
  },
  {
   "cell_type": "markdown",
   "id": "c53e6705",
   "metadata": {},
   "source": [
    "**Tareas:**\n",
    "1) Interpreta `'.'` como separador de **miles** y deja el separador decimal como `.`.\n",
    "\n",
    "2) Convierte a `float`.\n",
    "\n",
    "3) El DataFrame resultante debe quedar como en la columna `monto_float`.\n",
    "\n",
    "> Deja tu solución en el DataFrame `res2` con una columna `monto_float`."
   ]
  },
  {
   "cell_type": "code",
   "execution_count": 5,
   "id": "4afbc342",
   "metadata": {},
   "outputs": [
    {
     "data": {
      "text/html": [
       "<div>\n",
       "<style scoped>\n",
       "    .dataframe tbody tr th:only-of-type {\n",
       "        vertical-align: middle;\n",
       "    }\n",
       "\n",
       "    .dataframe tbody tr th {\n",
       "        vertical-align: top;\n",
       "    }\n",
       "\n",
       "    .dataframe thead th {\n",
       "        text-align: right;\n",
       "    }\n",
       "</style>\n",
       "<table border=\"1\" class=\"dataframe\">\n",
       "  <thead>\n",
       "    <tr style=\"text-align: right;\">\n",
       "      <th></th>\n",
       "      <th>monto</th>\n",
       "    </tr>\n",
       "  </thead>\n",
       "  <tbody>\n",
       "    <tr>\n",
       "      <th>0</th>\n",
       "      <td>10.000</td>\n",
       "    </tr>\n",
       "    <tr>\n",
       "      <th>1</th>\n",
       "      <td>12.500</td>\n",
       "    </tr>\n",
       "    <tr>\n",
       "      <th>2</th>\n",
       "      <td>3.000</td>\n",
       "    </tr>\n",
       "    <tr>\n",
       "      <th>3</th>\n",
       "      <td>4.500</td>\n",
       "    </tr>\n",
       "  </tbody>\n",
       "</table>\n",
       "</div>"
      ],
      "text/plain": [
       "    monto\n",
       "0  10.000\n",
       "1  12.500\n",
       "2   3.000\n",
       "3   4.500"
      ]
     },
     "execution_count": 5,
     "metadata": {},
     "output_type": "execute_result"
    }
   ],
   "source": [
    "# TU CÓDIGO AQUÍ\n",
    "res2 = df2.copy()\n",
    "# ... tu solución ...\n",
    "res2"
   ]
  },
  {
   "cell_type": "markdown",
   "id": "d4e0de7a",
   "metadata": {},
   "source": [
    "## Ejercicio 3 — Fechas en mismo formato\n",
    "**Dataset (todas en formato `'%d/%m/%Y'`):**"
   ]
  },
  {
   "cell_type": "code",
   "execution_count": 6,
   "id": "4a45b73b",
   "metadata": {},
   "outputs": [
    {
     "data": {
      "text/html": [
       "<div>\n",
       "<style scoped>\n",
       "    .dataframe tbody tr th:only-of-type {\n",
       "        vertical-align: middle;\n",
       "    }\n",
       "\n",
       "    .dataframe tbody tr th {\n",
       "        vertical-align: top;\n",
       "    }\n",
       "\n",
       "    .dataframe thead th {\n",
       "        text-align: right;\n",
       "    }\n",
       "</style>\n",
       "<table border=\"1\" class=\"dataframe\">\n",
       "  <thead>\n",
       "    <tr style=\"text-align: right;\">\n",
       "      <th></th>\n",
       "      <th>fecha</th>\n",
       "    </tr>\n",
       "  </thead>\n",
       "  <tbody>\n",
       "    <tr>\n",
       "      <th>0</th>\n",
       "      <td>12/03/2024</td>\n",
       "    </tr>\n",
       "    <tr>\n",
       "      <th>1</th>\n",
       "      <td>10/05/2024</td>\n",
       "    </tr>\n",
       "    <tr>\n",
       "      <th>2</th>\n",
       "      <td>15/06/2024</td>\n",
       "    </tr>\n",
       "    <tr>\n",
       "      <th>3</th>\n",
       "      <td>01/12/2024</td>\n",
       "    </tr>\n",
       "  </tbody>\n",
       "</table>\n",
       "</div>"
      ],
      "text/plain": [
       "        fecha\n",
       "0  12/03/2024\n",
       "1  10/05/2024\n",
       "2  15/06/2024\n",
       "3  01/12/2024"
      ]
     },
     "execution_count": 6,
     "metadata": {},
     "output_type": "execute_result"
    }
   ],
   "source": [
    "df3 = pd.DataFrame({\n",
    "    'fecha': ['12/03/2024','10/05/2024','15/06/2024','01/12/2024']\n",
    "})\n",
    "df3"
   ]
  },
  {
   "cell_type": "markdown",
   "id": "967239c1",
   "metadata": {},
   "source": [
    "**Tareas:**\n",
    "1) Convierte `fecha` a `datetime` usando `to_datetime` con `format='%d/%m/%Y'` y `errors='coerce'`.\n",
    "\n",
    "2) Devuelve la columna `fecha` **como string** en formato `YYYY-MM-DD` (`dt.strftime`).\n",
    "\n",
    "3) Por último extrae agregue las siguientes nuevas columnas:\n",
    "* `year` con únicamente el año\n",
    "* `month-day` con el mes y dia fecha en formato MM-DD\n",
    "\n",
    "> Deja tu solución en el DataFrame `res3`."
   ]
  },
  {
   "cell_type": "code",
   "execution_count": 7,
   "id": "66559475",
   "metadata": {},
   "outputs": [
    {
     "data": {
      "text/html": [
       "<div>\n",
       "<style scoped>\n",
       "    .dataframe tbody tr th:only-of-type {\n",
       "        vertical-align: middle;\n",
       "    }\n",
       "\n",
       "    .dataframe tbody tr th {\n",
       "        vertical-align: top;\n",
       "    }\n",
       "\n",
       "    .dataframe thead th {\n",
       "        text-align: right;\n",
       "    }\n",
       "</style>\n",
       "<table border=\"1\" class=\"dataframe\">\n",
       "  <thead>\n",
       "    <tr style=\"text-align: right;\">\n",
       "      <th></th>\n",
       "      <th>fecha</th>\n",
       "    </tr>\n",
       "  </thead>\n",
       "  <tbody>\n",
       "    <tr>\n",
       "      <th>0</th>\n",
       "      <td>12/03/2024</td>\n",
       "    </tr>\n",
       "    <tr>\n",
       "      <th>1</th>\n",
       "      <td>10/05/2024</td>\n",
       "    </tr>\n",
       "    <tr>\n",
       "      <th>2</th>\n",
       "      <td>15/06/2024</td>\n",
       "    </tr>\n",
       "    <tr>\n",
       "      <th>3</th>\n",
       "      <td>01/12/2024</td>\n",
       "    </tr>\n",
       "  </tbody>\n",
       "</table>\n",
       "</div>"
      ],
      "text/plain": [
       "        fecha\n",
       "0  12/03/2024\n",
       "1  10/05/2024\n",
       "2  15/06/2024\n",
       "3  01/12/2024"
      ]
     },
     "execution_count": 7,
     "metadata": {},
     "output_type": "execute_result"
    }
   ],
   "source": [
    "# TU CÓDIGO AQUÍ\n",
    "res3 = df3.copy()\n",
    "# ... tu solución ...\n",
    "res3"
   ]
  },
  {
   "cell_type": "markdown",
   "id": "1ddf047a",
   "metadata": {},
   "source": [
    "## Ejercicio 4 — Extracción con `str.split` y `explode`\n",
    "**Dataset:** `región|comuna` en una columna, múltiples hobbies separados por `;`.\n"
   ]
  },
  {
   "cell_type": "code",
   "execution_count": 8,
   "id": "5561c191",
   "metadata": {},
   "outputs": [
    {
     "data": {
      "text/html": [
       "<div>\n",
       "<style scoped>\n",
       "    .dataframe tbody tr th:only-of-type {\n",
       "        vertical-align: middle;\n",
       "    }\n",
       "\n",
       "    .dataframe tbody tr th {\n",
       "        vertical-align: top;\n",
       "    }\n",
       "\n",
       "    .dataframe thead th {\n",
       "        text-align: right;\n",
       "    }\n",
       "</style>\n",
       "<table border=\"1\" class=\"dataframe\">\n",
       "  <thead>\n",
       "    <tr style=\"text-align: right;\">\n",
       "      <th></th>\n",
       "      <th>id</th>\n",
       "      <th>region_comuna</th>\n",
       "      <th>hobbies</th>\n",
       "    </tr>\n",
       "  </thead>\n",
       "  <tbody>\n",
       "    <tr>\n",
       "      <th>0</th>\n",
       "      <td>1</td>\n",
       "      <td>RM|Santiago</td>\n",
       "      <td>futbol;leer</td>\n",
       "    </tr>\n",
       "    <tr>\n",
       "      <th>1</th>\n",
       "      <td>2</td>\n",
       "      <td>V|Viña del Mar</td>\n",
       "      <td>cine</td>\n",
       "    </tr>\n",
       "    <tr>\n",
       "      <th>2</th>\n",
       "      <td>3</td>\n",
       "      <td>VIII|Concepción</td>\n",
       "      <td>musica;ajedrez;gaming</td>\n",
       "    </tr>\n",
       "  </tbody>\n",
       "</table>\n",
       "</div>"
      ],
      "text/plain": [
       "   id    region_comuna                hobbies\n",
       "0   1      RM|Santiago            futbol;leer\n",
       "1   2   V|Viña del Mar                   cine\n",
       "2   3  VIII|Concepción  musica;ajedrez;gaming"
      ]
     },
     "execution_count": 8,
     "metadata": {},
     "output_type": "execute_result"
    }
   ],
   "source": [
    "df4 = pd.DataFrame({\n",
    "    'id': [1,2,3],\n",
    "    'region_comuna': ['RM|Santiago', 'V|Viña del Mar', 'VIII|Concepción'],\n",
    "    'hobbies': ['futbol;leer', 'cine', 'musica;ajedrez;gaming']\n",
    "})\n",
    "df4"
   ]
  },
  {
   "cell_type": "markdown",
   "id": "334001c4",
   "metadata": {},
   "source": [
    "**Tareas:**\n",
    "1) Separa `region_comuna` en `region` y `comuna`.\n",
    "\n",
    "2) Convierte `hobbies` en filas (`explode`).\n",
    "\n",
    "3) Mantén `id`, `region`, `comuna`, `hobbies`.\n",
    "\n",
    "> Deja tu solución en el DataFrame `res4`."
   ]
  },
  {
   "cell_type": "code",
   "execution_count": 9,
   "id": "65010794",
   "metadata": {},
   "outputs": [
    {
     "data": {
      "text/html": [
       "<div>\n",
       "<style scoped>\n",
       "    .dataframe tbody tr th:only-of-type {\n",
       "        vertical-align: middle;\n",
       "    }\n",
       "\n",
       "    .dataframe tbody tr th {\n",
       "        vertical-align: top;\n",
       "    }\n",
       "\n",
       "    .dataframe thead th {\n",
       "        text-align: right;\n",
       "    }\n",
       "</style>\n",
       "<table border=\"1\" class=\"dataframe\">\n",
       "  <thead>\n",
       "    <tr style=\"text-align: right;\">\n",
       "      <th></th>\n",
       "      <th>id</th>\n",
       "      <th>region_comuna</th>\n",
       "      <th>hobbies</th>\n",
       "    </tr>\n",
       "  </thead>\n",
       "  <tbody>\n",
       "    <tr>\n",
       "      <th>0</th>\n",
       "      <td>1</td>\n",
       "      <td>RM|Santiago</td>\n",
       "      <td>futbol;leer</td>\n",
       "    </tr>\n",
       "    <tr>\n",
       "      <th>1</th>\n",
       "      <td>2</td>\n",
       "      <td>V|Viña del Mar</td>\n",
       "      <td>cine</td>\n",
       "    </tr>\n",
       "    <tr>\n",
       "      <th>2</th>\n",
       "      <td>3</td>\n",
       "      <td>VIII|Concepción</td>\n",
       "      <td>musica;ajedrez;gaming</td>\n",
       "    </tr>\n",
       "  </tbody>\n",
       "</table>\n",
       "</div>"
      ],
      "text/plain": [
       "   id    region_comuna                hobbies\n",
       "0   1      RM|Santiago            futbol;leer\n",
       "1   2   V|Viña del Mar                   cine\n",
       "2   3  VIII|Concepción  musica;ajedrez;gaming"
      ]
     },
     "execution_count": 9,
     "metadata": {},
     "output_type": "execute_result"
    }
   ],
   "source": [
    "# TU CÓDIGO AQUÍ\n",
    "res4 = df4.copy()\n",
    "# ... tu solución ...\n",
    "res4"
   ]
  },
  {
   "cell_type": "markdown",
   "id": "377d6b12",
   "metadata": {},
   "source": [
    "## Ejercicio 5 — Conexión de DataFrames y cardinalidad\n",
    "**Dataset:**\n"
   ]
  },
  {
   "cell_type": "code",
   "execution_count": 10,
   "id": "ecce7500",
   "metadata": {},
   "outputs": [
    {
     "name": "stdout",
     "output_type": "stream",
     "text": [
      "ALUMNOS:\n"
     ]
    },
    {
     "data": {
      "text/html": [
       "<div>\n",
       "<style scoped>\n",
       "    .dataframe tbody tr th:only-of-type {\n",
       "        vertical-align: middle;\n",
       "    }\n",
       "\n",
       "    .dataframe tbody tr th {\n",
       "        vertical-align: top;\n",
       "    }\n",
       "\n",
       "    .dataframe thead th {\n",
       "        text-align: right;\n",
       "    }\n",
       "</style>\n",
       "<table border=\"1\" class=\"dataframe\">\n",
       "  <thead>\n",
       "    <tr style=\"text-align: right;\">\n",
       "      <th></th>\n",
       "      <th>id</th>\n",
       "      <th>nombre</th>\n",
       "    </tr>\n",
       "  </thead>\n",
       "  <tbody>\n",
       "    <tr>\n",
       "      <th>0</th>\n",
       "      <td>1</td>\n",
       "      <td>Ana</td>\n",
       "    </tr>\n",
       "    <tr>\n",
       "      <th>1</th>\n",
       "      <td>2</td>\n",
       "      <td>Luis</td>\n",
       "    </tr>\n",
       "    <tr>\n",
       "      <th>2</th>\n",
       "      <td>3</td>\n",
       "      <td>Sofía</td>\n",
       "    </tr>\n",
       "  </tbody>\n",
       "</table>\n",
       "</div>"
      ],
      "text/plain": [
       "   id nombre\n",
       "0   1    Ana\n",
       "1   2   Luis\n",
       "2   3  Sofía"
      ]
     },
     "metadata": {},
     "output_type": "display_data"
    },
    {
     "name": "stdout",
     "output_type": "stream",
     "text": [
      "\n",
      "NOTAS:\n"
     ]
    },
    {
     "data": {
      "text/html": [
       "<div>\n",
       "<style scoped>\n",
       "    .dataframe tbody tr th:only-of-type {\n",
       "        vertical-align: middle;\n",
       "    }\n",
       "\n",
       "    .dataframe tbody tr th {\n",
       "        vertical-align: top;\n",
       "    }\n",
       "\n",
       "    .dataframe thead th {\n",
       "        text-align: right;\n",
       "    }\n",
       "</style>\n",
       "<table border=\"1\" class=\"dataframe\">\n",
       "  <thead>\n",
       "    <tr style=\"text-align: right;\">\n",
       "      <th></th>\n",
       "      <th>id</th>\n",
       "      <th>nota</th>\n",
       "    </tr>\n",
       "  </thead>\n",
       "  <tbody>\n",
       "    <tr>\n",
       "      <th>0</th>\n",
       "      <td>1</td>\n",
       "      <td>6.5</td>\n",
       "    </tr>\n",
       "    <tr>\n",
       "      <th>1</th>\n",
       "      <td>2</td>\n",
       "      <td>5.8</td>\n",
       "    </tr>\n",
       "    <tr>\n",
       "      <th>2</th>\n",
       "      <td>4</td>\n",
       "      <td>7.0</td>\n",
       "    </tr>\n",
       "  </tbody>\n",
       "</table>\n",
       "</div>"
      ],
      "text/plain": [
       "   id  nota\n",
       "0   1   6.5\n",
       "1   2   5.8\n",
       "2   4   7.0"
      ]
     },
     "metadata": {},
     "output_type": "display_data"
    },
    {
     "name": "stdout",
     "output_type": "stream",
     "text": [
      "\n",
      "EMAILS:\n"
     ]
    },
    {
     "data": {
      "text/html": [
       "<div>\n",
       "<style scoped>\n",
       "    .dataframe tbody tr th:only-of-type {\n",
       "        vertical-align: middle;\n",
       "    }\n",
       "\n",
       "    .dataframe tbody tr th {\n",
       "        vertical-align: top;\n",
       "    }\n",
       "\n",
       "    .dataframe thead th {\n",
       "        text-align: right;\n",
       "    }\n",
       "</style>\n",
       "<table border=\"1\" class=\"dataframe\">\n",
       "  <thead>\n",
       "    <tr style=\"text-align: right;\">\n",
       "      <th></th>\n",
       "      <th>id</th>\n",
       "      <th>email</th>\n",
       "    </tr>\n",
       "  </thead>\n",
       "  <tbody>\n",
       "    <tr>\n",
       "      <th>0</th>\n",
       "      <td>1</td>\n",
       "      <td>ana@a.com</td>\n",
       "    </tr>\n",
       "    <tr>\n",
       "      <th>1</th>\n",
       "      <td>1</td>\n",
       "      <td>ana@b.com</td>\n",
       "    </tr>\n",
       "    <tr>\n",
       "      <th>2</th>\n",
       "      <td>2</td>\n",
       "      <td>luis@c.com</td>\n",
       "    </tr>\n",
       "  </tbody>\n",
       "</table>\n",
       "</div>"
      ],
      "text/plain": [
       "   id       email\n",
       "0   1   ana@a.com\n",
       "1   1   ana@b.com\n",
       "2   2  luis@c.com"
      ]
     },
     "metadata": {},
     "output_type": "display_data"
    }
   ],
   "source": [
    "alumnos = pd.DataFrame({'id':[1,2,3], 'nombre':['Ana','Luis','Sofía']})\n",
    "notas   = pd.DataFrame({'id':[1,2,4], 'nota':[6.5,5.8,7.0]})\n",
    "emails  = pd.DataFrame({'id':[1,1,2], 'email':['ana@a.com','ana@b.com','luis@c.com']})\n",
    "print('ALUMNOS:')\n",
    "display(alumnos)\n",
    "print('\\nNOTAS:')\n",
    "display(notas)\n",
    "print('\\nEMAILS:')\n",
    "display(emails)"
   ]
  },
  {
   "cell_type": "markdown",
   "id": "6facf859",
   "metadata": {},
   "source": [
    "**Tareas:**\n",
    "1) `merge` **inner** entre `alumnos` y `notas` (¿cuántos quedan?).\n",
    "\n",
    "2) `merge` **left** entre `alumnos` y `emails` (¿qué cardinalidad se observa?).\n",
    "\n",
    "3) Explica en una celda Markdown por qué aparecen duplicados en el punto (2) si los hay.\n",
    "\n",
    "> Deja tus resultados en `res5_inner` y `res5_left`. La explicación va en Markdown debajo."
   ]
  },
  {
   "cell_type": "code",
   "execution_count": 11,
   "id": "c5a454c5",
   "metadata": {},
   "outputs": [],
   "source": [
    "# TU CÓDIGO AQUÍ\n",
    "\n",
    "#res5_inner = pd.merge(alumnos, notas, on=\"columna\", how='tipo')\n",
    "#res5_left = pd.merge(alumnos, emails, on='columna', how='tipo')\n"
   ]
  },
  {
   "cell_type": "markdown",
   "id": "111ffb44",
   "metadata": {},
   "source": [
    "**Explicación (tu texto aquí):**\n",
    "\n",
    "- ..."
   ]
  }
 ],
 "metadata": {
  "kernelspec": {
   "display_name": "intro_cd (3.13.5)",
   "language": "python",
   "name": "python3"
  },
  "language_info": {
   "codemirror_mode": {
    "name": "ipython",
    "version": 3
   },
   "file_extension": ".py",
   "mimetype": "text/x-python",
   "name": "python",
   "nbconvert_exporter": "python",
   "pygments_lexer": "ipython3",
   "version": "3.13.5"
  }
 },
 "nbformat": 4,
 "nbformat_minor": 5
}
