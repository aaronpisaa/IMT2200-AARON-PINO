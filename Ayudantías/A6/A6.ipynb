{
 "cells": [
  {
   "cell_type": "markdown",
   "id": "02d2b630",
   "metadata": {},
   "source": [
    "<h1 style=\"text-align: center; color: #fff; background: linear-gradient(90deg, #7b2ff2 0%, #f357a8 100%); padding: 2rem 0; border-radius: 1rem; box-shadow: 0 4px 16px #0002; letter-spacing: 0.1em;\">\n",
    "    AYUDANTIA 6 - REPASO I1\n",
    "\n",
    "</h1>\n",
    "<div style=\"text-align: center; margin: 1rem 0;\">\n",
    "    <img src=\"massu.jpeg\" alt=\"Massu\" style=\"width: 200px; height: auto;\">\n",
    "    <p style=\"font-style: italic; color: #555;\">Massú después de un partido de 5 horas que clasifico a Chile al grupo mundial de la Copa Davis</p>\n",
    "    </div>"
   ]
  },
  {
   "cell_type": "code",
   "execution_count": null,
   "id": "1942af2d",
   "metadata": {},
   "outputs": [],
   "source": [
    "import pandas as pd \n",
    "import numpy as np\n",
    "import matplotlib.pyplot as plt\n",
    "import seaborn as sns\n",
    "\n"
   ]
  },
  {
   "cell_type": "code",
   "execution_count": null,
   "id": "56421a0c",
   "metadata": {
    "vscode": {
     "languageId": "html"
    }
   },
   "outputs": [],
   "source": []
  },
  {
   "cell_type": "markdown",
   "id": "ea99d68c",
   "metadata": {},
   "source": [
    "<section style=\"padding: 2rem; background: #979797ff; border-radius: 1rem; box-shadow: 0 2px 8px #0001; margin-bottom: 2rem;\">\n",
    "    <h2 style=\"color: #4b4d65ff; text-align: center; margin-bottom: 1.5rem;\">\n",
    "        Exploración de Datos de Partidos de Tenis\n",
    "    </h2>\n",
    "    <p style=\"font-size: 1.1rem; color: #222; margin-bottom: 1.2rem;\">\n",
    "        Hoy vamos a explorar un set de datos de partidos de tenis. El dataset contiene información de partidos de tenis desde <strong>1991 hasta 2016</strong>, incluyendo detalles como el torneo, los jugadores, el resultado del partido y estadísticas adicionales.\n",
    "    </p>\n",
    "    <p style=\"font-size: 1.1rem; color: #222; margin-bottom: 1.2rem;\">\n",
    "        La idea es que ocupemos la mayoría de las cosas que se han visto a lo largo del curso, y que serán de utilidad para la prueba.\n",
    "    </p>\n",
    "    <p style=\"font-size: 1.1rem; color: #222; margin-bottom: 1.2rem;\">\n",
    "        Los datasets los obtuvimos de \n",
    "        <a href=\"https://datahub.io/core/atp-world-tour-tennis-data#match_scores_1991-2016_unindexed\" target=\"_blank\" style=\"color: #965074ff; text-decoration: underline;\">\n",
    "            este enlace\n",
    "        </a>.\n",
    "    </p>\n",
    "    <div style=\"background: #646464ff; border-radius: 0.5rem; padding: 1rem 1.5rem; border-left: 4px solid #2d2b56ff; margin-bottom: 1.2rem; width: 70%;\">\n",
    "        <strong>Ocuparemos los archivos:</strong>\n",
    "        <ul style=\"margin-top: 0.5rem; margin-bottom: 0;\">\n",
    "            <li style=\"margin-bottom: 0.3rem;\"><code>matches.csv</code></li>\n",
    "            <li><code>players.csv</code></li>\n",
    "        </ul>\n",
    "    </div>\n",
    "    <p style=\"font-size: 1.1rem; color: #222; margin-bottom: 0;\">\n",
    "        <strong>¡Comencemos!</strong>\n",
    "    </p>\n",
    "</section>"
   ]
  },
  {
   "cell_type": "code",
   "execution_count": null,
   "id": "c8318a15",
   "metadata": {},
   "outputs": [],
   "source": [
    "data = pd.read_csv(\"matches.csv\")\n",
    "data.head()"
   ]
  },
  {
   "cell_type": "code",
   "execution_count": null,
   "id": "f2b8c1a2",
   "metadata": {},
   "outputs": [],
   "source": [
    "data.info()"
   ]
  },
  {
   "cell_type": "code",
   "execution_count": null,
   "id": "a3240f14",
   "metadata": {},
   "outputs": [],
   "source": [
    "# si queremos filas aleatorias podemos ocupar :\n",
    "data.sample(5)"
   ]
  },
  {
   "cell_type": "code",
   "execution_count": null,
   "id": "190f1930",
   "metadata": {},
   "outputs": [],
   "source": [
    "data['tourney_slug'].unique()"
   ]
  },
  {
   "cell_type": "markdown",
   "id": "c6bab465",
   "metadata": {},
   "source": [
    "Vamos a filtrar los datos para quedarnos solo con los partidos de Grand Slam y luego hacer un análisis exploratorio de los datos. "
   ]
  },
  {
   "cell_type": "code",
   "execution_count": null,
   "id": "f00b3a7c",
   "metadata": {},
   "outputs": [],
   "source": [
    "grand_slams = data.copy()\n",
    "grand_slams = grand_slams[grand_slams['tourney_slug'].isin(['australian-open', 'roland-garros', 'wimbledon', 'us-open'])]\n",
    "grand_slams.head()"
   ]
  },
  {
   "cell_type": "code",
   "execution_count": null,
   "id": "e64fff4c",
   "metadata": {},
   "outputs": [],
   "source": [
    "\n",
    "grand_slams['tourney_slug'].value_counts()"
   ]
  },
  {
   "cell_type": "markdown",
   "id": "167e3606",
   "metadata": {},
   "source": [
    "Vamos a quedarnos con las columnas que nos interesan: 'tourney_slug', 'winner_name', 'loser_name', 'winner_sets_won', 'loser_sets_won', 'winner_games_won', 'loser_games_won'. Y vamos quedarnos con el año tambien pero tenemos que editar la columna \"tourney_year_id\". "
   ]
  },
  {
   "cell_type": "code",
   "execution_count": null,
   "id": "ce8257cd",
   "metadata": {},
   "outputs": [],
   "source": [
    "grand_slams = grand_slams[['tourney_year_id', 'tourney_slug','tourney_round_name', 'winner_name', 'loser_name', 'winner_sets_won', 'loser_sets_won', 'winner_games_won', 'loser_games_won','match_stats_url_suffix']]\n",
    "grand_slams['year'] = grand_slams['tourney_year_id'].apply(lambda x : int(x.split('-')[0]))\n",
    "grand_slams = grand_slams.drop(columns=['tourney_year_id'])\n",
    "grand_slams.head()"
   ]
  },
  {
   "cell_type": "markdown",
   "id": "3dd3172c",
   "metadata": {},
   "source": [
    "<section style=\"max-width: 100%; margin: 2rem auto; padding: 2rem; background: linear-gradient(90deg, #868688ff 0%, #363143ff 100%); border-radius: 1rem; box-shadow: 0 4px 16px #0002;\">\n",
    "    <div style=\"background: #2a2a29; border-radius: 0.7rem; border-left: 5px solid #626283ff; padding: 1.5rem 2rem; color: #fff; width: 90%; margin: 0 auto;\">\n",
    "        <span style=\"font-style: italic; display: block; margin-bottom: 1rem;\">\n",
    "            <strong style=\"padding-right: 10px; color: #ee11ff;\">Nota:</strong>\n",
    "            Si no recuerdas cómo hacer alguna de las cosas que hemos hecho en clase, revisa los notebooks de las clases anteriores o la documentación de pandas.\n",
    "        </span>\n",
    "        <h3 style=\"color: #fff; margin-top: 1.5rem; margin-bottom: 1rem; letter-spacing: 0.03em;\">\n",
    "            Ahora, poniéndonos en una situación de prueba, contestemos las siguientes preguntas (PARTE 1):\n",
    "        </h3>\n",
    "        <ol style=\"font-size: 1.08rem; color: #f3eaff; margin-left: 1.2rem;\">\n",
    "            <li style=\"margin-bottom: 0.7rem;\">\n",
    "                Obtenga el nombre del ganador de cada Grand Slam de cada año. [4 por año] en el siguiente formato:<br>\n",
    "                <span style=\"color: #ffe066;\">Año - Torneo - Ganador</span> Ej: <em>2023 - Australian Open - Novak Djokovic</em> <span style=\"color: #ee11ff;\">[guardarlo en un archivo .txt]</span>\n",
    "                <ul style=\"margin-top: 0.5rem;\">\n",
    "                    <li>¿Quién ha ganado más torneos en el período de tiempo cubierto por los datos?</li>\n",
    "                    <li>¿Quién ha ganado más torneos de cada Grand Slam? (el que más australian-open ha ganado, el que más wimbledon ha ganado, etc.)</li>\n",
    "                </ul>\n",
    "            </li>\n",
    "            <li style=\"margin-bottom: 0.7rem;\">\n",
    "                Grafique, por cada Grand Slam, la cantidad de sets ganados por el ganador del torneo en función del año. <span style=\"color: #ee11ff;\">[4 gráficos]</span>\n",
    "                ¿Hay algo extraño? ¿Qué deberíamos esperar? ¿A qué se debe?\n",
    "            </li>\n",
    "            <li style=\"margin-bottom: 0.7rem;\">\n",
    "                Grafique, por cada Grand Slam, la cantidad de juegos ganados por el ganador del torneo en función del año. <span style=\"color: #ee11ff;\">[4 gráficos]</span>\n",
    "            </li>\n",
    "            <li>\n",
    "                Encuentre el/los jugadores, por Grand Slam, que hayan perdido menos juegos en la final.\n",
    "            </li>\n",
    "        </ol>\n",
    "    </div>\n",
    "</section>"
   ]
  },
  {
   "cell_type": "markdown",
   "id": "4751f9bc",
   "metadata": {},
   "source": [
    "### 1. Obtenga el nombre del ganador de cada Grand Slam de cada año. [4 por año] en el siguiente formato: \n",
    "    - Año - Torneo - Ganador Ej : 2023 - Australian Open - Novak Djokovic"
   ]
  },
  {
   "cell_type": "code",
   "execution_count": null,
   "id": "adbeee49",
   "metadata": {},
   "outputs": [],
   "source": [
    "# obtenemos las finales \n",
    "grand_slam_finals = grand_slams[grand_slams['tourney_round_name'] == 'Finals']  \n",
    "# ordenamos por año y torneo\n",
    "grand_slam_finals = grand_slam_finals.sort_values(by=['year', 'tourney_slug'])\n",
    "# escribimos en un archivo de texto\n",
    "with open('finales.txt', 'w') as f: \n",
    "    for index, row in grand_slam_finals.iterrows():\n",
    "        f.write(f\"{row['year']} - {row['tourney_slug'].replace('-', ' ').title()} - {row['winner_name']}\\n\")\n"
   ]
  },
  {
   "cell_type": "code",
   "execution_count": null,
   "id": "4aa5653f",
   "metadata": {},
   "outputs": [],
   "source": [
    "grand_slam_finals['winner_name'].value_counts().head(10).plot(kind='barh')\n",
    "plt.xlabel('Número de títulos de Grand Slam')\n",
    "plt.ylabel('Jugador')\n",
    "plt.title('Jugadores con más títulos de Grand Slam (Finales ganadas) de 1991 a 2016')\n",
    "plt.gca().invert_yaxis()\n",
    "plt.show()"
   ]
  },
  {
   "cell_type": "code",
   "execution_count": null,
   "id": "acd693c2",
   "metadata": {},
   "outputs": [],
   "source": [
    "roland_garros = grand_slam_finals[grand_slam_finals['tourney_slug'] == 'roland-garros']\n",
    "roland_garros_c = roland_garros.sort_values(by='year') \n",
    "roland_garros_c = roland_garros_c.groupby('winner_name').size().reset_index(name='counts').sort_values(by='counts', ascending=False)\n",
    "\n",
    "autralian_open = grand_slam_finals[grand_slam_finals['tourney_slug'] == 'australian-open']\n",
    "autralian_open_c = autralian_open.sort_values(by='year')\n",
    "autralian_open_c = autralian_open_c.groupby('winner_name').size().reset_index(name='counts').sort_values(by='counts', ascending=False)\n",
    "\n",
    "wimbledon= grand_slam_finals[grand_slam_finals['tourney_slug'] == 'wimbledon']\n",
    "wimbledon_c = wimbledon.sort_values(by='year')\n",
    "wimbledon_c = wimbledon_c.groupby('winner_name').size().reset_index(name='counts').sort_values(by='counts', ascending=False)\n",
    "\n",
    "us_open= grand_slam_finals[grand_slam_finals['tourney_slug'] == 'us-open']\n",
    "us_open_c = us_open.sort_values(by='year') \n",
    "us_open_c = us_open_c.groupby('winner_name').size().reset_index(name='counts').sort_values(by='counts', ascending=False)\n",
    "\n",
    "\n",
    "fig, ax = plt.subplots(2, 2, figsize=(15, 10))\n",
    "fig.suptitle('Top 10 Ganadores de Grand Slams (1991-2016)', fontsize=16)\n",
    "sns.barplot(data=roland_garros_c.head(10), x='counts', y='winner_name', ax=ax[0, 0], palette='viridis' , hue=0.5)\n",
    "ax[0, 0].set_title('Top 10 Ganadores de Roland Garros')\n",
    "ax[0, 0].set_xlabel('Número de Títulos')\n",
    "ax[0, 0].set_ylabel('Jugador')  \n",
    "\n",
    "sns.barplot(data=autralian_open_c.head(10), x='counts', y='winner_name', ax=ax[0, 1], palette='magma', hue=0.5)\n",
    "ax[0, 1].set_title('Top 10 Ganadores del Australian Open')\n",
    "ax[0, 1].set_xlabel('Número de Títulos')\n",
    "ax[0, 1].set_ylabel('Jugador')  \n",
    "\n",
    "sns.barplot(data=wimbledon_c.head(10), x='counts', y='winner_name', ax=ax[1, 0], palette='plasma', hue=0.5)\n",
    "ax[1, 0].set_title('Top 10 Ganadores de Wimbledon')\n",
    "ax[1, 0].set_xlabel('Número de Títulos')\n",
    "ax[1, 0].set_ylabel('Jugador')  \n",
    "\n",
    "sns.barplot(data=us_open_c.head(10), x='counts', y='winner_name', ax=ax[1, 1], palette='cividis', hue=0.5)\n",
    "ax[1, 1].set_title('Top 10 Ganadores del US Open')\n",
    "ax[1, 1].set_xlabel('Número de Títulos')\n",
    "ax[1, 1].set_ylabel('Jugador')  \n",
    "plt.tight_layout()\n",
    "plt.show()\n",
    "\n"
   ]
  },
  {
   "cell_type": "markdown",
   "id": "8c4952e2",
   "metadata": {},
   "source": [
    "## 2. Grafique, por cada Grand Slam, la cantidad de sets ganados por el ganador del torneo en función del año."
   ]
  },
  {
   "cell_type": "code",
   "execution_count": null,
   "id": "78e37c99",
   "metadata": {},
   "outputs": [],
   "source": [
    "## 2. Grafique, por cada Grand Slam, la cantidad de sets ganados por el ganador del torneo en función del año.\n",
    "\n",
    "fig, ax = plt.subplots(2, 2, figsize=(15, 10))\n",
    "fig.suptitle('Sets Ganados por el Ganador en Función del Año (1991-2016)', fontsize=16)\n",
    "\n",
    "sns.lineplot(data=roland_garros, x='year', y='winner_sets_won', ax=ax[0, 0], palette='viridis', hue=0.5)\n",
    "ax[0, 0].set_title('Roland Garros')\n",
    "ax[0, 0].set_xlabel('Año')\n",
    "ax[0, 0].set_ylabel('Sets Ganados')\n",
    "\n",
    "sns.lineplot(data=autralian_open, x='year', y='winner_sets_won', ax=ax[0, 1], palette='magma', hue=0.5)\n",
    "ax[0, 1].set_title('Australian Open')\n",
    "ax[0, 1].set_xlabel('Año')\n",
    "ax[0, 1].set_ylabel('Sets Ganados')\n",
    "\n",
    "sns.lineplot(data=wimbledon, x='year', y='winner_sets_won', ax=ax[1, 0], palette='plasma', hue=0.5)\n",
    "ax[1, 0].set_title('Wimbledon')\n",
    "ax[1, 0].set_xlabel('Año')\n",
    "ax[1, 0].set_ylabel('Sets Ganados') \n",
    "\n",
    "sns.lineplot(data=us_open, x='year', y='winner_sets_won', ax=ax[1, 1], palette='cividis', hue=0.5)\n",
    "ax[1, 1].set_title('US Open')\n",
    "ax[1, 1].set_xlabel('Año')\n",
    "ax[1, 1].set_ylabel('Sets Ganados')\n",
    "plt.tight_layout()\n",
    "plt.show()"
   ]
  },
  {
   "cell_type": "code",
   "execution_count": null,
   "id": "44d258d4",
   "metadata": {},
   "outputs": [],
   "source": [
    "wimbledon[wimbledon['winner_sets_won'] != 3]"
   ]
  },
  {
   "cell_type": "markdown",
   "id": "9f7acba2",
   "metadata": {},
   "source": [
    "*los invito a revisar el partido de la final 2009. Probablemente el data set tiene un error, porque sí se ganaron 3 sets, pero el útlimo set fue 16-14. Uno de los sets más largos de la historia.* Puede que esto se haya interpretado como un tie-break, y por eso el conteo de sets es erróneo. Este tipo de exploraciones nos permite verificar la calidad de los datos. Y los errores pueden ser por muchas razones, desde errores humanos al ingresar los datos, hasta problemas en la recolección automática de los mismos. "
   ]
  },
  {
   "cell_type": "markdown",
   "id": "dd9bbb53",
   "metadata": {},
   "source": [
    "## 3. Grafique, por cada Grand Slam, la cantidad de juegos ganados por el ganador del torneo en función del año. "
   ]
  },
  {
   "cell_type": "code",
   "execution_count": null,
   "id": "57d5b209",
   "metadata": {},
   "outputs": [],
   "source": [
    "fig, ax = plt.subplots(2, 2, figsize=(25, 20))\n",
    "\n",
    "fig.suptitle('Juegos Ganados por el Ganador en Función del Año (1991-2016)', fontsize=16)\n",
    "sns.barplot(data=roland_garros, x='year', y='winner_games_won', ax=ax[0, 0], palette='viridis', hue=0.5)\n",
    "ax[0, 0].set_title('Roland Garros')\n",
    "ax[0, 0].set_xlabel('Año')\n",
    "ax[0,0].set_xticklabels(ax[0,0].get_xticklabels(), rotation=45)\n",
    "ax[0, 0].set_ylabel('Juegos Ganados')\n",
    "\n",
    "sns.barplot(data=autralian_open, x='year', y='winner_games_won', ax=ax[0, 1], palette='magma', hue=0.5)\n",
    "ax[0, 1].set_title('Australian Open')\n",
    "ax[0, 1].set_xlabel('Año')\n",
    "ax[0, 1].set_xticklabels(ax[0, 1].get_xticklabels(), rotation=45)\n",
    "ax[0, 1].set_ylabel('Juegos Ganados')\n",
    "\n",
    "sns.barplot(data=wimbledon, x='year', y='winner_games_won', ax=ax[1, 0], palette='plasma', hue=0.5)\n",
    "ax[1, 0].set_title('Wimbledon')\n",
    "ax[1, 0].set_xlabel('Año')\n",
    "ax[1, 0].set_xticklabels(ax[1, 0].get_xticklabels(), rotation=45)\n",
    "ax[1, 0].set_ylabel('Juegos Ganados')\n",
    "\n",
    "sns.barplot(data=us_open, x='year', y='winner_games_won', ax=ax[1, 1], palette='cividis', hue=0.5)\n",
    "ax[1, 1].set_title('US Open')\n",
    "ax[1, 1].set_xlabel('Año')\n",
    "ax[1, 1].set_xticklabels(ax[1, 1].get_xticklabels(), rotation=45)\n",
    "ax[1, 1].set_ylabel('Juegos Ganados')\n",
    "plt.show()"
   ]
  },
  {
   "cell_type": "markdown",
   "id": "f8cde291",
   "metadata": {},
   "source": [
    "## 4. Encuentre el/los jugadores, por Grand Slam, que hayan perdido menos juegos en la final."
   ]
  },
  {
   "cell_type": "code",
   "execution_count": null,
   "id": "e6e960df",
   "metadata": {},
   "outputs": [],
   "source": [
    "# podemos buscarlos simplemente como : \n",
    "\n",
    "\n",
    "roland_min = roland_garros[roland_garros['loser_games_won'] == roland_garros['loser_games_won'].min()]\n",
    "australia_min = autralian_open[autralian_open['loser_games_won'] == autralian_open['loser_games_won'].min()]\n",
    "wimbledon_min = wimbledon[wimbledon['loser_games_won'] == wimbledon['loser_games_won'].min()]\n",
    "usopen_min = us_open[us_open['loser_games_won'] == us_open['loser_games_won'].min()]\n",
    "\n",
    "for df in [roland_min, australia_min, wimbledon_min, usopen_min]:\n",
    "    if len(df) == 1:\n",
    "        print(f\"El jugador {df['winner_name'].values[0]} ganó el {df['tourney_slug'].values[0].replace('-', ' ').title()} en {df['year'].values[0]} y perdio solo {df['loser_games_won'].values[0]} juegos.\")\n",
    "        print(\"=\"*50)\n",
    "    else:\n",
    "        for index, row in df.iterrows():\n",
    "            print(f\"El jugador {row['winner_name']} ganó el {row['tourney_slug'].replace('-', ' ').title()} en {row['year']} y perdio solo {row['loser_games_won']} juegos.\")"
   ]
  },
  {
   "cell_type": "code",
   "execution_count": null,
   "id": "5484f115",
   "metadata": {},
   "outputs": [],
   "source": [
    "# pero si nos queremos hacer una idea de como se comporta en general, podemos graficarlo:\n",
    "\n",
    "fig, ax = plt.subplots(2, 2, figsize=(25, 20))\n",
    "fig.suptitle('Juegos Perdidos por el Ganador en Función del Año (1991-2016)', fontsize=16)\n",
    "\n",
    "sns.barplot(data=roland_garros, x='year', y='loser_games_won', ax=ax[0, 0], palette='viridis', hue=0.5)\n",
    "ax[0, 0].set_title('Roland Garros')\n",
    "ax[0, 0].set_xlabel('Año')\n",
    "ax[0,0].set_xticklabels(ax[0,0].get_xticklabels(), rotation=45)\n",
    "ax[0, 0].set_ylabel('Juegos Perdidos')\n",
    "\n",
    "sns.barplot(data=autralian_open, x='year', y='loser_games_won', ax=ax[0, 1], palette='magma', hue=0.5)\n",
    "ax[0, 1].set_title('Australian Open')\n",
    "ax[0, 1].set_xlabel('Año')\n",
    "ax[0, 1].set_xticklabels(ax[0, 1].get_xticklabels(), rotation=45)\n",
    "ax[0, 1].set_ylabel('Juegos Perdidos')\n",
    "\n",
    "sns.barplot(data=wimbledon, x='year', y='loser_games_won', ax=ax[1, 0], palette='plasma', hue=0.5)\n",
    "ax[1, 0].set_title('Wimbledon')\n",
    "ax[1, 0].set_xlabel('Año')\n",
    "ax[1, 0].set_xticklabels(ax[1, 0].get_xticklabels(), rotation=45)\n",
    "ax[1, 0].set_ylabel('Juegos Perdidos')\n",
    "\n",
    "sns.barplot(data=us_open, x='year', y='loser_games_won', ax=ax[1, 1], palette='cividis', hue=0.5)\n",
    "ax[1, 1].set_title('US Open')\n",
    "ax[1, 1].set_xlabel('Año')\n",
    "ax[1, 1].set_xticklabels(ax[1, 1].get_xticklabels(), rotation=45)\n",
    "ax[1, 1].set_ylabel('Juegos Perdidos')\n",
    "plt.show()"
   ]
  },
  {
   "cell_type": "markdown",
   "id": "d3010728",
   "metadata": {},
   "source": [
    "<section style=\"padding: 2rem; background: #979797ff; border-radius: 1rem; box-shadow: 0 2px 8px #0001; margin-bottom: 2rem;\">\n",
    "    <h2 style=\"color: #4b4d65ff; text-align: center; margin-bottom: 1.5rem;\">\n",
    "        PARTE 2\n",
    "    </h2>\n",
    "    <p style=\"font-size: 1.1rem; color: #222; margin-bottom: 1.2rem;\">\n",
    "        Ahora vamos a poner en práctica la unión de dataframes para encontrar información más específica. Debemos lograr lo siguiente:\n",
    "    </p>\n",
    "    <ol style=\"font-size: 1.08rem; color: #f3eaff; margin-left: 1.2rem;\">\n",
    "        <li style=\"margin-bottom: 0.7rem;\">\n",
    "            Obtenga un dataframe con la información de los jugadores obtenidos en <strong>(4)</strong> y guárdelo en un archivo <code>.txt</code>.\n",
    "        </li>\n",
    "        <li style=\"margin-bottom: 0.7rem;\">\n",
    "            Obtenga el dataframe con la información de los jugadores que han ganado  3 o más Grand Slams en el período de tiempo cubierto por los datos.\n",
    "        </li>\n",
    "        <li style=\"margin-bottom: 0.7rem;\">\n",
    "            ¿Cuál es el peso y altura promedio de los campeones de Grand Slam?\n",
    "        </li>\n",
    "    </ol>\n",
    "    <div style=\"background: #646464ff; border-radius: 0.5rem; padding: 1rem 1.5rem; border-left: 4px solid #2d2b56ff; margin-bottom: 1.2rem; width: 70%;\">\n",
    "        <strong>Extras:</strong>\n",
    "        <ul style=\"margin-top: 0.5rem; margin-bottom: 0;\">\n",
    "            <li>¿Quién fue el jugador más joven en ganar un Grand Slam?</li>\n",
    "            <li>¿Y el más viejo?</li>\n",
    "        </ul>\n",
    "    </div>\n",
    "</section>\n",
    "\n"
   ]
  },
  {
   "cell_type": "code",
   "execution_count": null,
   "id": "6a0a50e4",
   "metadata": {},
   "outputs": [],
   "source": [
    "# primero cargamos los datos de los jugadores\n",
    "players = pd.read_csv(\"players.csv\")\n",
    "players.head()"
   ]
  },
  {
   "cell_type": "markdown",
   "id": "baf351dc",
   "metadata": {},
   "source": [
    "## 1 Informacion de los jugadores obtenidos en (4) y guárdelo en un archivo .txt. \n",
    "\n"
   ]
  },
  {
   "cell_type": "code",
   "execution_count": null,
   "id": "4509d990",
   "metadata": {},
   "outputs": [],
   "source": [
    "# primero fijemonos que el formato de los nombres es distinto, pero lo arreglamos facilmente: \n",
    "players[\"full_name\"] = players['first_name'] + ' ' + players['last_name']\n",
    "players.head()"
   ]
  },
  {
   "cell_type": "code",
   "execution_count": null,
   "id": "e2a7d615",
   "metadata": {},
   "outputs": [],
   "source": [
    "players.info()"
   ]
  },
  {
   "cell_type": "code",
   "execution_count": null,
   "id": "5c350036",
   "metadata": {},
   "outputs": [],
   "source": [
    "# ahora podemos hacer el merge con los datos de (4) \n",
    "ganadores_ejercicio_4 = pd.concat([roland_min, australia_min, wimbledon_min, usopen_min])\n",
    "ganadores_ejercicio_4"
   ]
  },
  {
   "cell_type": "code",
   "execution_count": null,
   "id": "5d79e8a3",
   "metadata": {},
   "outputs": [],
   "source": [
    "# ahora hacemos el merge con players - \n",
    "\n",
    "mejores_ganadores = pd.merge(ganadores_ejercicio_4, players, left_on='winner_name', right_on='full_name', how=\"inner\")\n",
    "mejores_ganadores"
   ]
  },
  {
   "cell_type": "code",
   "execution_count": null,
   "id": "4b63ca68",
   "metadata": {},
   "outputs": [],
   "source": [
    "# guadraos en un archivo .txt \n",
    "\n",
    "with open(\"player_4.txt\", \"w\") as f: \n",
    "    for i, row in mejores_ganadores.iterrows():\n",
    "        f.write(f\"Nombre: {row['full_name']}\\n\")\n",
    "        f.write(f\"Nacionalidad: {row['flag_code']}\\n\")\n",
    "        f.write(f\"Fecha de Nacimiento: {row['birthdate'].replace('.', '/')}\\n\")\n",
    "        f.write(f\"Inicio de Carrera: {int(row['turned_pro'])}\\n\")\n",
    "        f.write(f\"Altura: {row['height_cm']}\\n\")\n",
    "        f.write(f\"Peso: {row['weight_kg']}\\n\")\n",
    "        f.write(f\"Mano Hábil: {row['handedness']}\\n\")\n",
    "        f.write(\"=\"*90 + \"\\n\\n\")"
   ]
  },
  {
   "cell_type": "markdown",
   "id": "e40023dd",
   "metadata": {},
   "source": [
    "## 2. Obtenga el dataframe con la información de los jugadores que han ganado 3 o más Grand Slams en el período de tiempo cubierto por los datos."
   ]
  },
  {
   "cell_type": "code",
   "execution_count": null,
   "id": "35952c42",
   "metadata": {},
   "outputs": [],
   "source": [
    "# ocuparemos el data frame que ocupamos al principio \n",
    "\n",
    "grand_slam_finals.head()"
   ]
  },
  {
   "cell_type": "code",
   "execution_count": null,
   "id": "9380b517",
   "metadata": {},
   "outputs": [],
   "source": [
    "# agrupamos nuevamente por ganador y luego filtramos \n",
    "\n",
    "top_ganadores = grand_slam_finals.groupby('winner_name').size().reset_index(name='counts') \n",
    "top_ganadores = top_ganadores[top_ganadores['counts'] >= 3]\n",
    "top_ganadores"
   ]
  },
  {
   "cell_type": "code",
   "execution_count": null,
   "id": "059153cd",
   "metadata": {},
   "outputs": [],
   "source": [
    "# ahora podemos buscar la informacion de los jugadores que ganaron mas finales:\n",
    "ganadores_info = pd.merge(top_ganadores, players, left_on='winner_name', right_on='full_name', how=\"inner\")\n",
    "ganadores_info"
   ]
  },
  {
   "cell_type": "markdown",
   "id": "8b6e82f6",
   "metadata": {},
   "source": [
    "<div style=\"background: #fffbe6; border-left: 8px solid #ffe066; border-radius: 0.7rem; padding: 1.5rem 2rem; margin: 2rem 0; display: flex; align-items: flex-start; box-shadow: 0 2px 8px #0001; font-family: 'VT323', 'Fira Mono', 'Consolas', monospace; font-size: 1.25rem; width: 90%;\">\n",
    "    <img src=\"warn.png\" alt=\"Advertencia\" style=\"width: 10rem; height: 10rem; margin-right: 1.5rem;\">\n",
    "    <div>\n",
    "        <span style=\"color: #d7263d; font-weight: bold; font-size: 1.3em;\">...</span><br>\n",
    "        <span STYLE=\"color: #333;\"  >\n",
    "            Estamos haciendo uniones y comparaciones más o menos sencillas. Consideren que en un escenario de prueba puede ser algo similar, pero llegar a preguntarnos algo más específico sobre los datos que cruzamos. Quizá información que no está textual en los datos, pero que debemos analizar y reflexionar [ o elocubrar], siempre y cuando tengamos algún tipo de respaldo en la información que hemos ido obteniendo. Recuerden que, en realidad, todos estos procedimientos están en función de una pregunta <b style=\"color: #d7263d;\">real</b> y eso es lo que buscamos resolver.\n",
    "        </span>\n",
    "    </div>\n",
    "</div>\n",
    "<link href=\"https://fonts.googleapis.com/css2?family=VT323&display=swap\" rel=\"stylesheet\">"
   ]
  },
  {
   "cell_type": "markdown",
   "id": "b19adf51",
   "metadata": {},
   "source": [
    "## 3 ¿Cuál es el peso y altura promedio de los campeones de Grand Slam? "
   ]
  },
  {
   "cell_type": "code",
   "execution_count": null,
   "id": "2d5a5dda",
   "metadata": {},
   "outputs": [],
   "source": [
    "# tomemos nuevamente la informacion que guardamos\n",
    "# por esto es relevante que guardemos los datos que vamos obteniendo [con nombres coherentes y que nos ayuden a recordar que contienen]\n",
    "\n",
    "grand_slam_finals.head()"
   ]
  },
  {
   "cell_type": "code",
   "execution_count": null,
   "id": "b1c465d8",
   "metadata": {},
   "outputs": [],
   "source": [
    "# hacemos el merge con players para obtener la informacion de los ganadores \n",
    "all_winners_info = pd.merge(grand_slam_finals, players, left_on='winner_name', right_on='full_name', how=\"inner\")\n",
    "all_winners_info.head()"
   ]
  },
  {
   "cell_type": "code",
   "execution_count": null,
   "id": "d8ba91c0",
   "metadata": {},
   "outputs": [],
   "source": [
    "all_winners_info.info()"
   ]
  },
  {
   "cell_type": "code",
   "execution_count": null,
   "id": "397529ef",
   "metadata": {},
   "outputs": [],
   "source": [
    "# vemos que no hay datos nulos en height_cm y weight_kg asi que podemos calcular el promedio directamente: \n",
    "all_winners_info[['height_cm', 'weight_kg']].mean()\n"
   ]
  },
  {
   "cell_type": "code",
   "execution_count": null,
   "id": "9d27a9c1",
   "metadata": {},
   "outputs": [],
   "source": [
    "# tambien nos podrian pedir la distribucion de alturas y pesos: \n",
    "fig, ax = plt.subplots(2, 2, figsize=(15, 15))\n",
    "fig.suptitle('Distribución de Altura y Peso de los Campeones de Grand Slam (1991-2016)', fontsize=16)\n",
    "sns.histplot(all_winners_info['height_cm'], bins=4, kde=True, color='skyblue', ax=ax[0,0])\n",
    "ax[0,0].set_title('Distribución de Altura')\n",
    "ax[0,0].set_xlabel('Altura (cm)')\n",
    "ax[0,0].set_ylabel('Frecuencia')\n",
    "\n",
    "sns.histplot(all_winners_info['weight_kg'], bins=4, kde=True, color='salmon', ax=ax[0,1])\n",
    "ax[0,1].set_title('Distribución de Peso')\n",
    "ax[0,1].set_xlabel('Peso (kg)')\n",
    "ax[0,1].set_ylabel('Frecuencia')\n",
    "\n",
    "# podemos jugar con los bins para ver mejor la distribucion\n",
    "sns.scatterplot(x=all_winners_info['winner_name'], y=all_winners_info['height_cm'], color='green', ax=ax[1,0])\n",
    "ax[1,0].set_title('Scatter de Altura')\n",
    "ax[1,0].set_xlabel('Sujetos')\n",
    "ax[1,0].set_ylabel('Altura (cm)') \n",
    "\n",
    "sns.scatterplot(x=all_winners_info['winner_name'], y=all_winners_info['weight_kg'], color='orange', ax=ax[1,1])\n",
    "ax[1,1].set_title('Scatter de Peso')\n",
    "ax[1,1].set_xlabel('Sujetos')\n",
    "ax[1,1].set_ylabel('Peso (kg)')\n",
    "ax[1,0].set_xticklabels([])\n",
    "ax[1,1].set_xticklabels([])\n",
    "plt.tight_layout()\n",
    "\n",
    "\n",
    "\n",
    "\n",
    "plt.show()\n",
    "\n",
    "# el parametro kde=True nos ayuda a ver la \"curva\" de distribucion, pero no es estrictamente necesario "
   ]
  },
  {
   "cell_type": "markdown",
   "id": "51b32a10",
   "metadata": {},
   "source": [
    "## EXTRAS : A desarrollar por ustedes."
   ]
  },
  {
   "cell_type": "code",
   "execution_count": null,
   "id": "f84def67",
   "metadata": {},
   "outputs": [],
   "source": []
  }
 ],
 "metadata": {
  "kernelspec": {
   "display_name": "base",
   "language": "python",
   "name": "python3"
  },
  "language_info": {
   "codemirror_mode": {
    "name": "ipython",
    "version": 3
   },
   "file_extension": ".py",
   "mimetype": "text/x-python",
   "name": "python",
   "nbconvert_exporter": "python",
   "pygments_lexer": "ipython3",
   "version": "3.12.4"
  }
 },
 "nbformat": 4,
 "nbformat_minor": 5
}
