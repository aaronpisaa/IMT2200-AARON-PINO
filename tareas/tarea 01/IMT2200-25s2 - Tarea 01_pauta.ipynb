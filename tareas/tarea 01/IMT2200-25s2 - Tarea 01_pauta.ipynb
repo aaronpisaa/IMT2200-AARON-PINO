{
 "cells": [
  {
   "cell_type": "markdown",
   "id": "a34d140a",
   "metadata": {},
   "source": [
    "IMT 2200 - Introducción a Ciencia de Datos<br>\n",
    "**Pontificia Universidad Católica de Chile**<br>\n",
    "**Instituto de Ingeniería Matemática y Computacional**<br>\n",
    "**Semestre 2025-S2**<br>\n",
    "**Profesor:** Rodrigo A. Carrasco <br>\n",
    "\n",
    "---\n",
    "\n",
    "## Tarea 01 – Cargando y Analizando Datos\n",
    "\n",
    "- **Fecha de Entrega:** martes 26 de agosto de 2025, a las 23:59.\n",
    "- \n",
    "**Formato de entrega:** Notebook ejecutado y comentado (`.ipynb`) en el módulo de Tarea 01 habilitado en Canvas.\n",
    "\n",
    "\n"
   ]
  },
  {
   "cell_type": "markdown",
   "id": "b6928ed9-0a2b-4588-8282-b3f3e5e24a8c",
   "metadata": {},
   "source": [
    "## Instrucciones\n",
    "\n",
    "- Esta Tarea debe desarrollarse de manera totalmente *individual*, de acuerdo a lo establecido en la sección de Integridad Académica en el programa del curso.\n",
    "- La Tarea debe ser desarrollada en lenguaje de programación Python y la entrega en formato Jupyter Notebook.\n",
    "- El desarrollo del Notebook debe ser claro y ordenado, incluyendo anotaciones (markdown) y comentarios que permitan seguir fácilmente el código y los pasos implementados a los correctores, y siguiendo buenas prácticas de programación. La presentación y claridad del notebook y código forman parte de la evaluación de la tarea.\n",
    "- Notebook **autocontenible** que:\n",
    "   - Ejecute sin errores todas las celdas.\n",
    "  - Contenga tanto el código como los comentarios y explicaciones necesarias.\n",
    "  - Incluya visualizaciones claras y correctamente etiquetadas.\n",
    "- No se aceptarán notebooks con celdas rotas o que dependan de rutas externas no indicadas en la tara.\n",
    "\n",
    "- Deben hacer sus consultas y comentarios sobre la Tarea a traves del canal de Tareas en eo del curso en Canvas.os.\n",
    "cteriza."
   ]
  },
  {
   "cell_type": "markdown",
   "id": "35a88d5e-b718-4b8e-81c8-dc169d02e88e",
   "metadata": {},
   "source": [
    "## 1. Objetivos\n",
    "\n",
    "- Aplicar los conceptos iniciales de manejo de datos y análisis exploratorio vistos en clases.\n",
    "- Practicar la lectura, limpieza y manipulación de datos en Python.\n",
    "- Desarrollar habilidades para visualizar y describir patrones y tendencias en conjuntos de datos reales.\n",
    "- Fomentar la capacidad de comunicar resultados de forma clara y fundamentada.\n",
    "\n",
    "### 1.1 Objetivo educacional\n",
    "\n",
    "Esta Tarea tiene como objetivo que los estudiantes desarrollen la capacidad de manejar algunas de las librerías centrales para el desarrollo de Ciencia de Datos, con foco en la lectura y exploración de datos. \n",
    "\n",
    "Para los ejercicios a continuación, usted deberá leer, inspeccionar, manipular y graficar conjuntos de datos en distintos formatos, de manera de responder las preguntas de cada parte de la Tarea.\n",
    "\n",
    "### 1.2 Pregunta de ciencia de datos\n",
    "\n",
    "Para esta tarea, tendremos como objetivo comprender cómo han cambiado los juegos de mesa en los últimos 40 años. Específicamente queremos saber qué tipos de juegos se han vuelto más comunes hoy en día y qué los caracteriza.\n",
    "\n",
    "### 1.3 Recomendaciones\n",
    "- Utiliza las librerías sugeridas en el notebook o justifica brevemente si incorporas otras.\n",
    "- Revisa que todas las celdas se ejecuten en orden, desde el inicio, sin errores.\n",
    "- Comenta tu código para explicar qué hace cada sección relevante.\n",
    "- Asegúrate de que las visualizaciones sean fáciles de interpretar y tengan títulos y etiquetas adecuados."
   ]
  },
  {
   "cell_type": "markdown",
   "id": "116596ef",
   "metadata": {},
   "source": [
    "## 2. Datos\n",
    "\n",
    "Estaremos utilizando información extraída desde [BoardGameGeek.com](https://boardgamegeek.com/), una plataforma para aficionados de los juegos de mesa, que permite a sus usuarios registrar, calificar e intercambiar sus juegos favoritos. Actualmente, BGG es una de las bases de datos más extensa y diversa de juegos de mesa.\n",
    "\n",
    "El dataset con el que trabajaremos consiste en un grupo de archivos CSV que contienen información sobre más de 100.000 juegos de mesa almacenados en la plataforma. Este puede descargarse directamente desde el siguiente enlace: https://www.kaggle.com/datasets/mshepherd/board-games Para descargar los datos, haga click en el botón de **Download**, donde podrá descargar los archivos como `.zip`, o bien utilizar la API de Kaggle.\n",
    "\n",
    "Para el desarrollo de esta tarea, solo utilizaremos los archivos con el prefijo `bgg_`.\n",
    "\n",
    "**Si utiliza la API de Kaggle para descargar los datos, deje el código utilizado en la siguiente celda:**"
   ]
  },
  {
   "cell_type": "code",
   "execution_count": 1,
   "id": "3499fd7e",
   "metadata": {},
   "outputs": [],
   "source": [
    "# Descarga de datos desde Kaggle"
   ]
  },
  {
   "cell_type": "markdown",
   "id": "c32f6e52",
   "metadata": {},
   "source": [
    "### 2.1 Librerías\n",
    "\n",
    "Para esta tarea recomendamos al menos usar las librerías indicadas en la siguiente celda del Notebook. Puede agregar otras si lo estima conveniente para responder de mejor forma las preguntas de la Tarea."
   ]
  },
  {
   "cell_type": "code",
   "execution_count": 2,
   "id": "87be9d83",
   "metadata": {},
   "outputs": [],
   "source": [
    "import numpy as np\n",
    "import pandas as pd\n",
    "import matplotlib.pyplot as plt"
   ]
  },
  {
   "cell_type": "markdown",
   "id": "49c9c1e7",
   "metadata": {},
   "source": [
    "## 3. Desarrollo\n",
    "\n",
    "Para cada una de las siguientes preguntas o actividades incluya una o más celdas de código y Markdown con las respuestas o comentarios necesarios para contestar la pregunta o lograr la actividad. Agregue sus celdas a continuación de cada pregunta para que el Notebook quede ordenado.\n",
    "\n",
    "En el caso de gráficos, figuras o tablas, asegúrese que todas tengan título, etiquetas en los ejes o haya claridad de los contenidos."
   ]
  },
  {
   "cell_type": "markdown",
   "id": "dfc274ca",
   "metadata": {},
   "source": [
    "### 3.1 DataFrame unificado (1 punto)\n",
    "\n",
    "Vamos a cargar en un DataFrame los datos de juegos guardados en el documento `bgg_GameItem.csv`. Al inspeccionar nuestros datos, podemos notar que los valores de ciertas comunas vienen \"codificados\" con ID. Para comenzar, vamos a juntar la información de los distintos archivos descargados.\n",
    "\n",
    "**a) (0.8 pts)** Genere un DataFrame único con toda la información de cada juego, incluyendo: nombres de artistas y diseñadores involucrados, mecánicas, categorías, tipo, familia y editorial. Guarde este DataFrame en un nuevo archivo CSV."
   ]
  },
  {
   "cell_type": "code",
   "execution_count": 3,
   "id": "12aabf07",
   "metadata": {},
   "outputs": [
    {
     "name": "stdout",
     "output_type": "stream",
     "text": [
      "<class 'pandas.core.frame.DataFrame'>\n",
      "RangeIndex: 113904 entries, 0 to 113903\n",
      "Data columns (total 38 columns):\n",
      " #   Column               Non-Null Count   Dtype  \n",
      "---  ------               --------------   -----  \n",
      " 0   bgg_id               113904 non-null  int64  \n",
      " 1   name                 113904 non-null  object \n",
      " 2   year                 104219 non-null  float64\n",
      " 3   game_type            25830 non-null   object \n",
      " 4   designer             95653 non-null   object \n",
      " 5   artist               47872 non-null   object \n",
      " 6   publisher            113852 non-null  object \n",
      " 7   min_players          111966 non-null  float64\n",
      " 8   max_players          108448 non-null  float64\n",
      " 9   min_players_rec      111966 non-null  float64\n",
      " 10  max_players_rec      108448 non-null  float64\n",
      " 11  min_players_best     111966 non-null  float64\n",
      " 12  max_players_best     108448 non-null  float64\n",
      " 13  min_age              90641 non-null   float64\n",
      " 14  min_age_rec          1126 non-null    float64\n",
      " 15  min_time             91342 non-null   float64\n",
      " 16  max_time             91342 non-null   float64\n",
      " 17  category             111690 non-null  object \n",
      " 18  mechanic             97137 non-null   object \n",
      " 19  cooperative          6354 non-null    float64\n",
      " 20  compilation          915 non-null     float64\n",
      " 21  compilation_of       915 non-null     object \n",
      " 22  family               79045 non-null   object \n",
      " 23  implementation       5865 non-null    object \n",
      " 24  integration          4120 non-null    object \n",
      " 25  rank                 24479 non-null   float64\n",
      " 26  num_votes            86182 non-null   float64\n",
      " 27  avg_rating           86182 non-null   float64\n",
      " 28  stddev_rating        68497 non-null   float64\n",
      " 29  bayes_rating         24934 non-null   float64\n",
      " 30  complexity           48290 non-null   float64\n",
      " 31  language_dependency  854 non-null     float64\n",
      " 32  bga_id               0 non-null       float64\n",
      " 33  dbpedia_id           0 non-null       float64\n",
      " 34  luding_id            0 non-null       float64\n",
      " 35  spielen_id           0 non-null       float64\n",
      " 36  wikidata_id          0 non-null       float64\n",
      " 37  wikipedia_id         0 non-null       float64\n",
      "dtypes: float64(26), int64(1), object(11)\n",
      "memory usage: 33.0+ MB\n"
     ]
    }
   ],
   "source": [
    "path = \"data_2025/bgg_GameItem.csv\" # Colocar PATH acorde la ubicacion de los datos descargados\n",
    "games = pd.read_csv(path)\n",
    "games.info()"
   ]
  },
  {
   "cell_type": "markdown",
   "id": "4ebe3249",
   "metadata": {},
   "source": [
    "Los valores codificados vienen como un string de la forma `\"id1,id2,...idN\"`, donde cada ID es un número entero. Vamos a crear unas funciones de utilidad."
   ]
  },
  {
   "cell_type": "code",
   "execution_count": 4,
   "id": "ff37c1ea",
   "metadata": {},
   "outputs": [],
   "source": [
    "from typing import List\n",
    "\n",
    "def str2list(x: str) -> List[int]:\n",
    "    # Para transformar strings de forma \"id1,id2,...\"\" en listas [id1, id2, ...]\n",
    "    if x is None or x == '':\n",
    "        return []\n",
    "    return [int(i) if i.isnumeric() else None for i in str(x).split(',')]\n",
    "\n",
    "def search_by_game_id(id_value: int, df: pd.DataFrame) -> str:\n",
    "    # Busca el valor a partir de su bgg_id y un dataframe\n",
    "    # El DataFrame tendrá dos columnas: bgg_id y name\n",
    "    by_id = df[df.bgg_id == id_value]\n",
    "    if by_id.shape[0] == 0:\n",
    "        return None\n",
    "    return df[df.bgg_id == id_value].values[0][1]\n",
    "\n",
    "def read_numbers(x: str, df: pd.DataFrame) -> List[str]:\n",
    "    id_list = str2list(x)\n",
    "    name_list = []\n",
    "    for i in id_list:\n",
    "        name = search_by_game_id(i, df)\n",
    "        if name:\n",
    "            name_list.append(name)\n",
    "    return name_list"
   ]
  },
  {
   "cell_type": "code",
   "execution_count": 6,
   "id": "d88b6a54",
   "metadata": {},
   "outputs": [],
   "source": [
    "# Carga de datos complementarios - Esta celda puede tardar 3-4 min! Paciencia...\n",
    "publisher_df = pd.read_csv(\"data_2025/bgg_Publisher.csv\")\n",
    "category_df = pd.read_csv(\"data_2025/bgg_Category.csv\")\n",
    "mechanic_df = pd.read_csv(\"data_2025/bgg_Mechanic.csv\")\n",
    "person_df = pd.read_csv(\"data_2025/bgg_Person.csv\")\n",
    "family_df = pd.read_csv(\"data_2025/bgg_GameFamily.csv\")\n",
    "gametype_df = pd.read_csv(\"data_2025/bgg_GameType.csv\")\n",
    "\n",
    "list_columns = ['publisher', 'category', 'mechanic', 'designer', 'artist', 'family', 'game_type']\n",
    "list_dataframes = [publisher_df, category_df, mechanic_df, person_df, person_df, family_df, gametype_df]\n",
    "\n",
    "# El formato final de las columnas puede ser List[str], str con nombres separados por comas\n",
    "# O bien algo similar\n",
    "for col_name, dataframe in zip(list_columns, list_dataframes):\n",
    "    # Tranforma columna en una List[str]\n",
    "    games[col_name] = games[col_name].apply(lambda x: read_numbers(x, dataframe))\n",
    "    # Transforma columna en un str con nombres separados por comas\n",
    "    games[col_name] = games[col_name].apply(lambda x: ','.join(x) if isinstance(x, list) else x)"
   ]
  },
  {
   "cell_type": "code",
   "execution_count": 7,
   "id": "a3eb0b9b",
   "metadata": {},
   "outputs": [],
   "source": [
    "# Guardar DataFrame unificado\n",
    "games.to_csv(\"data_2025/full_dataframe.csv\", index=False)"
   ]
  },
  {
   "cell_type": "code",
   "execution_count": 8,
   "id": "5b5f36c8",
   "metadata": {},
   "outputs": [],
   "source": [
    "# Si queremos volver a cargar el DF,\n",
    "# no tenemos que procesarlo de nuevo!\n",
    "games = pd.read_csv(\"data_2025/full_dataframe.csv\")"
   ]
  },
  {
   "cell_type": "markdown",
   "id": "dec5cbbb",
   "metadata": {},
   "source": [
    "**b) (0.2 pts)** ¿Cuánto espacio en disco ocupa este DataFrame? ¿Cuánto espacio en disco ocupan los documentos CSV separados? ¿A qué se debe esta diferencia? Comente.\n",
    "\n"
   ]
  },
  {
   "cell_type": "markdown",
   "id": "030904e0",
   "metadata": {},
   "source": [
    "Todos los documentos juntos ocupan alrededor de 17 MB. En cambio, nuestro nuevo dataset unificado ocupa cerca de 30 MB. Esto se debe a que almacenar strings largos, como una lista de nombres o características separadas por comas ocupará más bytes que strings pequeños, como números de 4 dígitos.\n",
    "\n",
    "Aunque sea una diferencia leve entre un string de nombres y otro de números, estas se acumulan, y para un dataset de más de 100.000 filas, termina significando múltiples MB de espacio. Por esta razón muchas veces es más eficiente almacenar datos en tablas o archivos separados (sobre todo para datasets mucho más grandes!)."
   ]
  },
  {
   "cell_type": "code",
   "execution_count": null,
   "id": "aa576209",
   "metadata": {},
   "outputs": [],
   "source": [
    "import sys\n",
    "\n",
    "# Un ejemplo, no es necesario como respuesta mientras haya una buena explicación \n",
    "print(f\"Categoría codificada (ejemplo > '1041,1094,1045'): {sys.getsizeof(\"1041,1094,1045\")} bytes\")\n",
    "print(f\"Categoría decodificada (ejemplo > 'Children's Game,Educational,Memory'): {sys.getsizeof(\"Children's Game,Educational,Memory\")} bytes\")\n"
   ]
  },
  {
   "cell_type": "markdown",
   "id": "b8c7bec6",
   "metadata": {},
   "source": [
    "### 3.2 Juegos publicados anualmente (1.5 puntos)\n",
    "\n",
    "\n",
    "**a) (0.5 pts)** Limpie los datos para dejar solo aquellos que tienen valores válidos de año de publicación. Luego responda: ¿cuál es el rango de años con el que estamos trabajando? ¿Tienen sentido estos años?\n"
   ]
  },
  {
   "cell_type": "code",
   "execution_count": 10,
   "id": "a8c60679",
   "metadata": {},
   "outputs": [
    {
     "name": "stdout",
     "output_type": "stream",
     "text": [
      "(104219, 38)\n"
     ]
    }
   ],
   "source": [
    "games_filter1 = games[games.year.notna()].copy()\n",
    "games_filter1['year'] = games_filter1['year'].astype(int)\n",
    "print(games_filter1.shape)"
   ]
  },
  {
   "cell_type": "code",
   "execution_count": 11,
   "id": "58d049a2",
   "metadata": {},
   "outputs": [
    {
     "data": {
      "text/html": [
       "<div>\n",
       "<style scoped>\n",
       "    .dataframe tbody tr th:only-of-type {\n",
       "        vertical-align: middle;\n",
       "    }\n",
       "\n",
       "    .dataframe tbody tr th {\n",
       "        vertical-align: top;\n",
       "    }\n",
       "\n",
       "    .dataframe thead th {\n",
       "        text-align: right;\n",
       "    }\n",
       "</style>\n",
       "<table border=\"1\" class=\"dataframe\">\n",
       "  <thead>\n",
       "    <tr style=\"text-align: right;\">\n",
       "      <th></th>\n",
       "      <th>bgg_id</th>\n",
       "      <th>name</th>\n",
       "      <th>year</th>\n",
       "      <th>game_type</th>\n",
       "      <th>designer</th>\n",
       "      <th>artist</th>\n",
       "      <th>publisher</th>\n",
       "      <th>min_players</th>\n",
       "      <th>max_players</th>\n",
       "      <th>min_players_rec</th>\n",
       "      <th>...</th>\n",
       "      <th>stddev_rating</th>\n",
       "      <th>bayes_rating</th>\n",
       "      <th>complexity</th>\n",
       "      <th>language_dependency</th>\n",
       "      <th>bga_id</th>\n",
       "      <th>dbpedia_id</th>\n",
       "      <th>luding_id</th>\n",
       "      <th>spielen_id</th>\n",
       "      <th>wikidata_id</th>\n",
       "      <th>wikipedia_id</th>\n",
       "    </tr>\n",
       "  </thead>\n",
       "  <tbody>\n",
       "    <tr>\n",
       "      <th>2060</th>\n",
       "      <td>2399</td>\n",
       "      <td>Senet</td>\n",
       "      <td>-3500</td>\n",
       "      <td>Abstract Game</td>\n",
       "      <td>(Uncredited)</td>\n",
       "      <td>Johan Andreasson,Elizabeth Carpenter,David McC...</td>\n",
       "      <td>(Public Domain),(Self-Published),ABRA,Cadaco,C...</td>\n",
       "      <td>2.0</td>\n",
       "      <td>2.0</td>\n",
       "      <td>2.0</td>\n",
       "      <td>...</td>\n",
       "      <td>1.66428</td>\n",
       "      <td>5.56898</td>\n",
       "      <td>NaN</td>\n",
       "      <td>NaN</td>\n",
       "      <td>NaN</td>\n",
       "      <td>NaN</td>\n",
       "      <td>NaN</td>\n",
       "      <td>NaN</td>\n",
       "      <td>NaN</td>\n",
       "      <td>NaN</td>\n",
       "    </tr>\n",
       "  </tbody>\n",
       "</table>\n",
       "<p>1 rows × 38 columns</p>\n",
       "</div>"
      ],
      "text/plain": [
       "      bgg_id   name  year      game_type      designer  \\\n",
       "2060    2399  Senet -3500  Abstract Game  (Uncredited)   \n",
       "\n",
       "                                                 artist  \\\n",
       "2060  Johan Andreasson,Elizabeth Carpenter,David McC...   \n",
       "\n",
       "                                              publisher  min_players  \\\n",
       "2060  (Public Domain),(Self-Published),ABRA,Cadaco,C...          2.0   \n",
       "\n",
       "      max_players  min_players_rec  ...  stddev_rating  bayes_rating  \\\n",
       "2060          2.0              2.0  ...        1.66428       5.56898   \n",
       "\n",
       "      complexity  language_dependency  bga_id  dbpedia_id  luding_id  \\\n",
       "2060         NaN                  NaN     NaN         NaN        NaN   \n",
       "\n",
       "     spielen_id wikidata_id  wikipedia_id  \n",
       "2060        NaN         NaN           NaN  \n",
       "\n",
       "[1 rows x 38 columns]"
      ]
     },
     "execution_count": 11,
     "metadata": {},
     "output_type": "execute_result"
    }
   ],
   "source": [
    "# Juego más antiguo\n",
    "games_filter1[games_filter1.year == games_filter1.year.min()]"
   ]
  },
  {
   "cell_type": "code",
   "execution_count": 12,
   "id": "03c16543",
   "metadata": {},
   "outputs": [
    {
     "data": {
      "text/html": [
       "<div>\n",
       "<style scoped>\n",
       "    .dataframe tbody tr th:only-of-type {\n",
       "        vertical-align: middle;\n",
       "    }\n",
       "\n",
       "    .dataframe tbody tr th {\n",
       "        vertical-align: top;\n",
       "    }\n",
       "\n",
       "    .dataframe thead th {\n",
       "        text-align: right;\n",
       "    }\n",
       "</style>\n",
       "<table border=\"1\" class=\"dataframe\">\n",
       "  <thead>\n",
       "    <tr style=\"text-align: right;\">\n",
       "      <th></th>\n",
       "      <th>bgg_id</th>\n",
       "      <th>name</th>\n",
       "      <th>year</th>\n",
       "      <th>game_type</th>\n",
       "      <th>designer</th>\n",
       "      <th>artist</th>\n",
       "      <th>publisher</th>\n",
       "      <th>min_players</th>\n",
       "      <th>max_players</th>\n",
       "      <th>min_players_rec</th>\n",
       "      <th>...</th>\n",
       "      <th>stddev_rating</th>\n",
       "      <th>bayes_rating</th>\n",
       "      <th>complexity</th>\n",
       "      <th>language_dependency</th>\n",
       "      <th>bga_id</th>\n",
       "      <th>dbpedia_id</th>\n",
       "      <th>luding_id</th>\n",
       "      <th>spielen_id</th>\n",
       "      <th>wikidata_id</th>\n",
       "      <th>wikipedia_id</th>\n",
       "    </tr>\n",
       "  </thead>\n",
       "  <tbody>\n",
       "    <tr>\n",
       "      <th>87637</th>\n",
       "      <td>279876</td>\n",
       "      <td>Template of War</td>\n",
       "      <td>2026</td>\n",
       "      <td>NaN</td>\n",
       "      <td>Eric Beevis,Paul Toderas</td>\n",
       "      <td>NaN</td>\n",
       "      <td>(Self-Published)</td>\n",
       "      <td>1.0</td>\n",
       "      <td>10.0</td>\n",
       "      <td>1.0</td>\n",
       "      <td>...</td>\n",
       "      <td>NaN</td>\n",
       "      <td>NaN</td>\n",
       "      <td>NaN</td>\n",
       "      <td>NaN</td>\n",
       "      <td>NaN</td>\n",
       "      <td>NaN</td>\n",
       "      <td>NaN</td>\n",
       "      <td>NaN</td>\n",
       "      <td>NaN</td>\n",
       "      <td>NaN</td>\n",
       "    </tr>\n",
       "    <tr>\n",
       "      <th>99711</th>\n",
       "      <td>331318</td>\n",
       "      <td>Citytrip Junior</td>\n",
       "      <td>2026</td>\n",
       "      <td>NaN</td>\n",
       "      <td>Christof Van Conkelberge</td>\n",
       "      <td>Christof Van Conkelberge</td>\n",
       "      <td>(Self-Published)</td>\n",
       "      <td>1.0</td>\n",
       "      <td>6.0</td>\n",
       "      <td>1.0</td>\n",
       "      <td>...</td>\n",
       "      <td>NaN</td>\n",
       "      <td>NaN</td>\n",
       "      <td>NaN</td>\n",
       "      <td>NaN</td>\n",
       "      <td>NaN</td>\n",
       "      <td>NaN</td>\n",
       "      <td>NaN</td>\n",
       "      <td>NaN</td>\n",
       "      <td>NaN</td>\n",
       "      <td>NaN</td>\n",
       "    </tr>\n",
       "  </tbody>\n",
       "</table>\n",
       "<p>2 rows × 38 columns</p>\n",
       "</div>"
      ],
      "text/plain": [
       "       bgg_id             name  year game_type                  designer  \\\n",
       "87637  279876  Template of War  2026       NaN  Eric Beevis,Paul Toderas   \n",
       "99711  331318  Citytrip Junior  2026       NaN  Christof Van Conkelberge   \n",
       "\n",
       "                         artist         publisher  min_players  max_players  \\\n",
       "87637                       NaN  (Self-Published)          1.0         10.0   \n",
       "99711  Christof Van Conkelberge  (Self-Published)          1.0          6.0   \n",
       "\n",
       "       min_players_rec  ...  stddev_rating  bayes_rating  complexity  \\\n",
       "87637              1.0  ...            NaN           NaN         NaN   \n",
       "99711              1.0  ...            NaN           NaN         NaN   \n",
       "\n",
       "       language_dependency  bga_id  dbpedia_id  luding_id spielen_id  \\\n",
       "87637                  NaN     NaN         NaN        NaN        NaN   \n",
       "99711                  NaN     NaN         NaN        NaN        NaN   \n",
       "\n",
       "      wikidata_id  wikipedia_id  \n",
       "87637         NaN           NaN  \n",
       "99711         NaN           NaN  \n",
       "\n",
       "[2 rows x 38 columns]"
      ]
     },
     "execution_count": 12,
     "metadata": {},
     "output_type": "execute_result"
    }
   ],
   "source": [
    "# Juego más nuevo\n",
    "games_filter1[games_filter1.year == games_filter1.year.max()]"
   ]
  },
  {
   "cell_type": "markdown",
   "id": "f8ecc476",
   "metadata": {},
   "source": [
    "El juego más antiguo en nuestro dataset es el \"[Senet](https://es.wikipedia.org/wiki/Senet)\", del 3500 AC. Los juegos más recientes son Template of War y Citytrip Junior del 2026.\n",
    "\n",
    "\n",
    "Podemos considerar \"válidos\" ambos extremos, siendo los juegos de 2026 aquellos que están anunciados, pero no publicados aún. Ahora sabemos que BoardGameGeek tiene registros de juegos de hace más de 5000 años (!), lo que sugiere establecer un rango de años más acotado para analizar."
   ]
  },
  {
   "cell_type": "markdown",
   "id": "7b8d452e",
   "metadata": {},
   "source": [
    "**b) (0.5 pts)** Seleccione solamente los juegos entre los años 1980 y 2025. Luego grafique la cantidad de juegos publicados por año. ¿Cómo es esta tendencia? Comente."
   ]
  },
  {
   "cell_type": "code",
   "execution_count": 13,
   "id": "f073e58e",
   "metadata": {},
   "outputs": [
    {
     "data": {
      "text/html": [
       "<div>\n",
       "<style scoped>\n",
       "    .dataframe tbody tr th:only-of-type {\n",
       "        vertical-align: middle;\n",
       "    }\n",
       "\n",
       "    .dataframe tbody tr th {\n",
       "        vertical-align: top;\n",
       "    }\n",
       "\n",
       "    .dataframe thead th {\n",
       "        text-align: right;\n",
       "    }\n",
       "</style>\n",
       "<table border=\"1\" class=\"dataframe\">\n",
       "  <thead>\n",
       "    <tr style=\"text-align: right;\">\n",
       "      <th></th>\n",
       "      <th>year</th>\n",
       "      <th>count</th>\n",
       "    </tr>\n",
       "  </thead>\n",
       "  <tbody>\n",
       "    <tr>\n",
       "      <th>0</th>\n",
       "      <td>1981</td>\n",
       "      <td>623</td>\n",
       "    </tr>\n",
       "    <tr>\n",
       "      <th>1</th>\n",
       "      <td>1982</td>\n",
       "      <td>586</td>\n",
       "    </tr>\n",
       "    <tr>\n",
       "      <th>2</th>\n",
       "      <td>1983</td>\n",
       "      <td>733</td>\n",
       "    </tr>\n",
       "    <tr>\n",
       "      <th>3</th>\n",
       "      <td>1984</td>\n",
       "      <td>777</td>\n",
       "    </tr>\n",
       "    <tr>\n",
       "      <th>4</th>\n",
       "      <td>1985</td>\n",
       "      <td>855</td>\n",
       "    </tr>\n",
       "  </tbody>\n",
       "</table>\n",
       "</div>"
      ],
      "text/plain": [
       "   year  count\n",
       "0  1981    623\n",
       "1  1982    586\n",
       "2  1983    733\n",
       "3  1984    777\n",
       "4  1985    855"
      ]
     },
     "execution_count": 13,
     "metadata": {},
     "output_type": "execute_result"
    }
   ],
   "source": [
    "games_in_range = games_filter1[(games_filter1.year > 1980) & (games_filter1.year < 2025)]\n",
    "by_year = games_in_range.groupby(by='year').size().reset_index(name='count')\n",
    "by_year.head()"
   ]
  },
  {
   "cell_type": "code",
   "execution_count": 14,
   "id": "dccae88c",
   "metadata": {},
   "outputs": [
    {
     "data": {
      "image/png": "[encoded data removed]",
      "text/plain": [
       "<Figure size 1000x500 with 1 Axes>"
      ]
     },
     "metadata": {},
     "output_type": "display_data"
    }
   ],
   "source": [
    "# Graficar con by_year\n",
    "fig = plt.figure(figsize=(10, 5))\n",
    "plt.plot(by_year['year'], by_year['count'], marker='o')\n",
    "\n",
    "plt.title('Cantidad de juegos publicados por año')\n",
    "plt.xlabel('Año')\n",
    "plt.ylabel('Cantidad')\n",
    "plt.grid(alpha=0.2)\n",
    "plt.xticks(range(1980, 2025, 3))\n",
    "plt.show()"
   ]
  },
  {
   "cell_type": "markdown",
   "id": "768bb70a",
   "metadata": {},
   "source": [
    "Posibles comentarios:\n",
    "* El gráfico muestra un crecimiento constante en la cantidad de juegos registrados desde inicios del 1980.\n",
    "* También vemos una caída desde el 2019, primero leve y finalmente drástica hacia el 2025, donde no parecemos tener ningún juego registrado este último año.\n",
    "* Esta caída **no** indica necesariamente que se haya desplomado la publicación de juegos en los últimos años; más bien indica que tenemos muchos menos datos disponibles debido a la fecha en la que fueron extraídos los datos de la plataforma. Debemos tener cuidado con esta caída al analizar los juegos más adelante."
   ]
  },
  {
   "cell_type": "markdown",
   "id": "047c1e61",
   "metadata": {},
   "source": [
    "**c) (0.5 pts)** ¿Entre qué años hubo un mayor aumento de publicación de juegos de mesa según los registros de BGG?"
   ]
  },
  {
   "cell_type": "code",
   "execution_count": 15,
   "id": "e09fa10b",
   "metadata": {},
   "outputs": [
    {
     "data": {
      "text/html": [
       "<div>\n",
       "<style scoped>\n",
       "    .dataframe tbody tr th:only-of-type {\n",
       "        vertical-align: middle;\n",
       "    }\n",
       "\n",
       "    .dataframe tbody tr th {\n",
       "        vertical-align: top;\n",
       "    }\n",
       "\n",
       "    .dataframe thead th {\n",
       "        text-align: right;\n",
       "    }\n",
       "</style>\n",
       "<table border=\"1\" class=\"dataframe\">\n",
       "  <thead>\n",
       "    <tr style=\"text-align: right;\">\n",
       "      <th></th>\n",
       "      <th>year</th>\n",
       "      <th>count</th>\n",
       "      <th>increase</th>\n",
       "    </tr>\n",
       "  </thead>\n",
       "  <tbody>\n",
       "    <tr>\n",
       "      <th>43</th>\n",
       "      <td>2024</td>\n",
       "      <td>261</td>\n",
       "      <td>-2336.0</td>\n",
       "    </tr>\n",
       "    <tr>\n",
       "      <th>42</th>\n",
       "      <td>2023</td>\n",
       "      <td>2597</td>\n",
       "      <td>-1839.0</td>\n",
       "    </tr>\n",
       "    <tr>\n",
       "      <th>41</th>\n",
       "      <td>2022</td>\n",
       "      <td>4436</td>\n",
       "      <td>-257.0</td>\n",
       "    </tr>\n",
       "    <tr>\n",
       "      <th>40</th>\n",
       "      <td>2021</td>\n",
       "      <td>4693</td>\n",
       "      <td>-233.0</td>\n",
       "    </tr>\n",
       "    <tr>\n",
       "      <th>39</th>\n",
       "      <td>2020</td>\n",
       "      <td>4926</td>\n",
       "      <td>-161.0</td>\n",
       "    </tr>\n",
       "  </tbody>\n",
       "</table>\n",
       "</div>"
      ],
      "text/plain": [
       "    year  count  increase\n",
       "43  2024    261   -2336.0\n",
       "42  2023   2597   -1839.0\n",
       "41  2022   4436    -257.0\n",
       "40  2021   4693    -233.0\n",
       "39  2020   4926    -161.0"
      ]
     },
     "execution_count": 15,
     "metadata": {},
     "output_type": "execute_result"
    }
   ],
   "source": [
    "# Si consideramos el aumento absoluto, simplemente vemos la diferencia entre cada año\n",
    "by_year['increase'] = by_year['count'].diff().fillna(0)\n",
    "by_year.sort_values('year', ascending=False).head()"
   ]
  },
  {
   "cell_type": "code",
   "execution_count": 16,
   "id": "8d9c7d93",
   "metadata": {},
   "outputs": [
    {
     "name": "stdout",
     "output_type": "stream",
     "text": [
      "Entre 2013 y 2014 hubo el mayor aumento absoluto en cantidad de juegos.\n",
      "Según nuestros registros, se publicaron 484 juegos nuevos.\n"
     ]
    }
   ],
   "source": [
    "max_increase = by_year[by_year.increase == by_year.increase.max()]\n",
    "y = max_increase.year.values[0]\n",
    "num = max_increase.increase.values[0]\n",
    "print(f\"Entre {y-1} y {y} hubo el mayor aumento absoluto en cantidad de juegos.\")\n",
    "print(f\"Según nuestros registros, se publicaron {int(num)} juegos nuevos.\")"
   ]
  },
  {
   "cell_type": "markdown",
   "id": "6c22b65f",
   "metadata": {},
   "source": [
    "### 3.3 Análisis de duración y complejidad (1.5 puntos)\n",
    "\n",
    "Si bien hay muchas posibles características que podemos explorar para los juegos de mesa, esta vez nos centraremos en el tiempo de juego y la complejidad. En esta sección queremos comprender si se ha modificado notablemente la duración promedio y la percepción de complejidad de los juegos de mesa a través de los años."
   ]
  },
  {
   "cell_type": "markdown",
   "id": "e6f0c875",
   "metadata": {},
   "source": [
    "**a) (0.3 pts)** Inspecciones y filtre los datos que tengan valores válidos para: tiempo mínimo de juego, tiempo máximo de juego y complejidad. En el caso de que existan \"outliers\", puede descartarlos, cosiderando un rango razonable para las variables anteriores. Justifique su desición."
   ]
  },
  {
   "cell_type": "code",
   "execution_count": 17,
   "id": "0e87bbc2",
   "metadata": {},
   "outputs": [
    {
     "data": {
      "text/plain": [
       "(43454, 38)"
      ]
     },
     "execution_count": 17,
     "metadata": {},
     "output_type": "execute_result"
    }
   ],
   "source": [
    "# Descartamos cualquier valor nulo para los 3 atributos\n",
    "games_filter2 = games[(games.min_time.notna()) &\n",
    "              (games.max_time.notna()) &\n",
    "              (games.complexity.notna())].copy()\n",
    "games_filter2.shape"
   ]
  },
  {
   "cell_type": "code",
   "execution_count": 18,
   "id": "3af7e4de",
   "metadata": {},
   "outputs": [
    {
     "data": {
      "text/html": [
       "<div>\n",
       "<style scoped>\n",
       "    .dataframe tbody tr th:only-of-type {\n",
       "        vertical-align: middle;\n",
       "    }\n",
       "\n",
       "    .dataframe tbody tr th {\n",
       "        vertical-align: top;\n",
       "    }\n",
       "\n",
       "    .dataframe thead th {\n",
       "        text-align: right;\n",
       "    }\n",
       "</style>\n",
       "<table border=\"1\" class=\"dataframe\">\n",
       "  <thead>\n",
       "    <tr style=\"text-align: right;\">\n",
       "      <th></th>\n",
       "      <th>min_time</th>\n",
       "      <th>max_time</th>\n",
       "      <th>complexity</th>\n",
       "    </tr>\n",
       "  </thead>\n",
       "  <tbody>\n",
       "    <tr>\n",
       "      <th>count</th>\n",
       "      <td>43454.000000</td>\n",
       "      <td>43454.000000</td>\n",
       "      <td>43454.000000</td>\n",
       "    </tr>\n",
       "    <tr>\n",
       "      <th>mean</th>\n",
       "      <td>58.699291</td>\n",
       "      <td>87.706218</td>\n",
       "      <td>1.904462</td>\n",
       "    </tr>\n",
       "    <tr>\n",
       "      <th>std</th>\n",
       "      <td>433.832809</td>\n",
       "      <td>733.971386</td>\n",
       "      <td>0.823448</td>\n",
       "    </tr>\n",
       "    <tr>\n",
       "      <th>min</th>\n",
       "      <td>1.000000</td>\n",
       "      <td>1.000000</td>\n",
       "      <td>1.000000</td>\n",
       "    </tr>\n",
       "    <tr>\n",
       "      <th>25%</th>\n",
       "      <td>20.000000</td>\n",
       "      <td>20.000000</td>\n",
       "      <td>1.000000</td>\n",
       "    </tr>\n",
       "    <tr>\n",
       "      <th>50%</th>\n",
       "      <td>30.000000</td>\n",
       "      <td>45.000000</td>\n",
       "      <td>1.972950</td>\n",
       "    </tr>\n",
       "    <tr>\n",
       "      <th>75%</th>\n",
       "      <td>60.000000</td>\n",
       "      <td>90.000000</td>\n",
       "      <td>2.408875</td>\n",
       "    </tr>\n",
       "    <tr>\n",
       "      <th>max</th>\n",
       "      <td>60120.000000</td>\n",
       "      <td>84000.000000</td>\n",
       "      <td>5.000000</td>\n",
       "    </tr>\n",
       "  </tbody>\n",
       "</table>\n",
       "</div>"
      ],
      "text/plain": [
       "           min_time      max_time    complexity\n",
       "count  43454.000000  43454.000000  43454.000000\n",
       "mean      58.699291     87.706218      1.904462\n",
       "std      433.832809    733.971386      0.823448\n",
       "min        1.000000      1.000000      1.000000\n",
       "25%       20.000000     20.000000      1.000000\n",
       "50%       30.000000     45.000000      1.972950\n",
       "75%       60.000000     90.000000      2.408875\n",
       "max    60120.000000  84000.000000      5.000000"
      ]
     },
     "execution_count": 18,
     "metadata": {},
     "output_type": "execute_result"
    }
   ],
   "source": [
    "# Inspeccionamos los datos \n",
    "games_filter2[['min_time', 'max_time', 'complexity']].describe()"
   ]
  },
  {
   "cell_type": "markdown",
   "id": "c7124ac0",
   "metadata": {},
   "source": [
    "Para complejidad los valores se mueven entre 1 y 5, lo que tiene sentido con el atributo, por lo que no parece haber ningún \"outlier\". Sin embargo, para los atributos de tiempo, existen valores máximos extremos de 60.120 (para `min_time`) minutos a 84.000 minutos (`max_time`).\n",
    "\n",
    "Podemos inspeccionar estos valores particulares."
   ]
  },
  {
   "cell_type": "code",
   "execution_count": 19,
   "id": "911d0633",
   "metadata": {},
   "outputs": [
    {
     "data": {
      "text/html": [
       "<div>\n",
       "<style scoped>\n",
       "    .dataframe tbody tr th:only-of-type {\n",
       "        vertical-align: middle;\n",
       "    }\n",
       "\n",
       "    .dataframe tbody tr th {\n",
       "        vertical-align: top;\n",
       "    }\n",
       "\n",
       "    .dataframe thead th {\n",
       "        text-align: right;\n",
       "    }\n",
       "</style>\n",
       "<table border=\"1\" class=\"dataframe\">\n",
       "  <thead>\n",
       "    <tr style=\"text-align: right;\">\n",
       "      <th></th>\n",
       "      <th>name</th>\n",
       "      <th>min_time</th>\n",
       "      <th>max_time</th>\n",
       "      <th>game_type</th>\n",
       "      <th>year</th>\n",
       "    </tr>\n",
       "  </thead>\n",
       "  <tbody>\n",
       "    <tr>\n",
       "      <th>10114</th>\n",
       "      <td>The Eagle and the Sun</td>\n",
       "      <td>120.0</td>\n",
       "      <td>84000.0</td>\n",
       "      <td>War Game</td>\n",
       "      <td>1991.0</td>\n",
       "    </tr>\n",
       "    <tr>\n",
       "      <th>63469</th>\n",
       "      <td>Hammer's Slammers: The Crucible</td>\n",
       "      <td>60120.0</td>\n",
       "      <td>60120.0</td>\n",
       "      <td>NaN</td>\n",
       "      <td>2010.0</td>\n",
       "    </tr>\n",
       "    <tr>\n",
       "      <th>97312</th>\n",
       "      <td>Operation Crusader: The Winter Battles for Tob...</td>\n",
       "      <td>240.0</td>\n",
       "      <td>72000.0</td>\n",
       "      <td>War Game</td>\n",
       "      <td>2021.0</td>\n",
       "    </tr>\n",
       "  </tbody>\n",
       "</table>\n",
       "</div>"
      ],
      "text/plain": [
       "                                                    name  min_time  max_time  \\\n",
       "10114                              The Eagle and the Sun     120.0   84000.0   \n",
       "63469                    Hammer's Slammers: The Crucible   60120.0   60120.0   \n",
       "97312  Operation Crusader: The Winter Battles for Tob...     240.0   72000.0   \n",
       "\n",
       "      game_type    year  \n",
       "10114  War Game  1991.0  \n",
       "63469       NaN  2010.0  \n",
       "97312  War Game  2021.0  "
      ]
     },
     "execution_count": 19,
     "metadata": {},
     "output_type": "execute_result"
    }
   ],
   "source": [
    "games_filter2[(games_filter2.min_time > 60_000) | (games_filter2.max_time > 60_000)][['name', 'min_time', 'max_time', 'game_type', 'year']]"
   ]
  },
  {
   "cell_type": "markdown",
   "id": "cbb3a9e4",
   "metadata": {},
   "source": [
    "Estos valores podrían distorsionar el promedio de tiempo de juego que queremos calclular, por lo tanto vamos a descartarlos. Aquí pueden descartarse valores de distintas formas: podemos ignorar juegos específicos, seleccionándolos individualmente (si es que son los juegos más largos), o bien establecer un rango de tiempo límite. \n",
    "\n",
    "Como ejemplo, vamos a considerar solo juegos cuyo tiempo (sea mínimo o máximo) sea menor a 1 día (1440 minutos), para quedarnos con hartos datos, pero descartando valores extremos como los vistos anteriormente.\n",
    "\n",
    "Esta decisión puede variar de alumno a alumno: lo importante es la justificación, y que ojalá se muestre cuántos juegos estamos descartando o considerando \"outliers\"."
   ]
  },
  {
   "cell_type": "code",
   "execution_count": 20,
   "id": "b9d94425",
   "metadata": {},
   "outputs": [
    {
     "name": "stdout",
     "output_type": "stream",
     "text": [
      "Juegos descartados:  128\n",
      "Tamaño dataset filtrado:  43326\n"
     ]
    }
   ],
   "source": [
    "# Siendo 24*60 la cantidad de minutos en un día\n",
    "games_filter3 = games_filter2[(games_filter2.min_time < 24*60) & (games_filter2.max_time < 24*60)] \n",
    "\n",
    "# Cantidad de juegos descartados\n",
    "print(\"Juegos descartados: \", games_filter2.shape[0] - games_filter3.shape[0])\n",
    "print(\"Tamaño dataset filtrado: \", games_filter3.shape[0])"
   ]
  },
  {
   "cell_type": "markdown",
   "id": "848e2dee",
   "metadata": {},
   "source": [
    "**b) (0.2 pts)** Veremos ahora si ha cambiado la duración promedio de los juegos de mesa en nuestro rango de años seleccionado. Primero, cree una nueva columna `avg_time` en el dataset con la duración promedio supuesta para cada juego."
   ]
  },
  {
   "cell_type": "code",
   "execution_count": 21,
   "id": "204778d8",
   "metadata": {},
   "outputs": [],
   "source": [
    "games_filter2['avg_time'] = games_filter2.apply(lambda row: np.mean([row['min_time'], row['max_time']]), axis=1)"
   ]
  },
  {
   "cell_type": "markdown",
   "id": "89df6ae6",
   "metadata": {},
   "source": [
    "**c) (0.5 pts)** Grafique la duración promedio de juegos al año entre 1980 y 2025. ¿Existe alguna tendencia? Asegúrese de colocar las unidades correspondientes en sus ejes si es necesario. Comente sus resultados."
   ]
  },
  {
   "cell_type": "code",
   "execution_count": 22,
   "id": "765da813",
   "metadata": {},
   "outputs": [
    {
     "data": {
      "image/png": "[encoded data removed]",
      "text/plain": [
       "<Figure size 1000x500 with 1 Axes>"
      ]
     },
     "metadata": {},
     "output_type": "display_data"
    }
   ],
   "source": [
    "data = games_filter2[['year', 'avg_time']].groupby('year').mean().reset_index()\n",
    "\n",
    "fig = plt.figure(figsize=(10, 5))\n",
    "plt.plot(data['year'], data['avg_time'], marker='o')\n",
    "plt.title('Duración promedio de juegos por año')\n",
    "plt.xlabel('Año')\n",
    "plt.ylabel('Tiempo de juego promedio (min)')\n",
    "plt.grid(alpha=0.2)\n",
    "plt.xlim((1980, 2025))\n",
    "plt.ylim((0, 250))\n",
    "plt.show()\n"
   ]
  },
  {
   "cell_type": "markdown",
   "id": "5364d4e9",
   "metadata": {},
   "source": [
    "Si bien es leve, desde 1980 el tiempo promedio de un juego de mesa parece haber caído, quedándose cerca de los 50-70 minutos para juegos del 2010 en adelante. Existen ciertos \"peaks\" en nuestra línea de tiempo, que pueden ocurrir cuando tenemos pocos datos de juegos publicados en un año en particular."
   ]
  },
  {
   "cell_type": "markdown",
   "id": "a5847905",
   "metadata": {},
   "source": [
    "**d) (0.5 pts)** Nos interesa saber si los juegos de mesa recientes son más complejos que aquellos publicados antes de los 2000. BoardGameGeek permite evaluar la complejidad (o \"weight\") de un juego en una escala de 1 a 5, siendo 1 un juego \"liviano\" o fácil de entender, y 5 un juego \"pesado\" o complejo. Primero, seleccione los juegos que han sido evaluados por al menos 100 usuarios. Luego grafique la complejidad promedio de los juegos según año. Responda: ¿ha cambiado la percepción de complejidad entre juegos entre 1980 y la actualidad?"
   ]
  },
  {
   "cell_type": "code",
   "execution_count": 23,
   "id": "776553e6",
   "metadata": {},
   "outputs": [
    {
     "data": {
      "image/png": "[encoded data removed]",
      "text/plain": [
       "<Figure size 1000x500 with 1 Axes>"
      ]
     },
     "metadata": {},
     "output_type": "display_data"
    }
   ],
   "source": [
    "# Filtramos solo juegos con al menos 100 votos\n",
    "games_filter3 = games[games.num_votes >= 100]\n",
    "\n",
    "# Agrupamos segun año, calculando la complejidad promedio por año\n",
    "by_complexity = games_filter3[['year', 'complexity']].groupby('year').mean().reset_index()\n",
    "\n",
    "# Graficamos\n",
    "data = games[['year', 'complexity']].groupby('year').mean().reset_index()\n",
    "fig = plt.figure(figsize=(10, 5))\n",
    "plt.plot(data['year'], data['complexity'], marker='o')\n",
    "plt.title(\"Complejidad promedio de juegos según año\")\n",
    "plt.xlabel('Año')\n",
    "plt.ylabel('Complejidad promedio')\n",
    "plt.grid(alpha=0.2)\n",
    "plt.xlim((1980, 2025))\n",
    "plt.show()\n"
   ]
  },
  {
   "cell_type": "markdown",
   "id": "5d259e6c",
   "metadata": {},
   "source": [
    "No podemos concluir que haya habido un cambio significativo en la percepción de complejidad entre juegos de mesa en los últimos 40 años. Si bien vemos un aumento en la complejidad  desde el 2023 en adelante, esto se debe a la baja cantidad de juegos que contiene el dataset en estos años, más que a una tendencia \"confiable\" de que los juegos se hayan vuelto más complejos."
   ]
  },
  {
   "cell_type": "markdown",
   "id": "9a241f39",
   "metadata": {},
   "source": [
    "### 3.4 Análisis de categorías comunes (2 puntos)\n",
    "\n",
    "Existe una gran diversidad de categorías de juegos de mesa. Ahora nos concentraremos en un grupo específico de ellas, con el fin de analizar cómo a cambiado la cantidad de juegos de estas clases desde 1980 hasta hoy.\n",
    "\n",
    "**a) (0.7 pts)** ¿Cuáles son las 5 categorías más comunes en los juegos del dataset? Muestre la cantidad de juegos que hay de cada una. Puede graficar estos valores, o bien, entregar un DataFrame con sus valores."
   ]
  },
  {
   "cell_type": "code",
   "execution_count": 24,
   "id": "13730de1",
   "metadata": {},
   "outputs": [],
   "source": [
    "# Podemos crear una función de utilidad\n",
    "def count_appearances(df: pd.DataFrame, col_name: str):\n",
    "    data = df[(df[col_name].notna())]\n",
    "    counts = dict()\n",
    "    for i in range(data.shape[0]):\n",
    "        row = data.iloc[i]\n",
    "        for v in row[col_name].split(','):\n",
    "            v = str(v)\n",
    "            if v in counts.keys():\n",
    "                counts[v] += 1\n",
    "            else:\n",
    "                counts[v] = 1\n",
    "    return counts"
   ]
  },
  {
   "cell_type": "code",
   "execution_count": 25,
   "id": "329b2332",
   "metadata": {},
   "outputs": [
    {
     "data": {
      "text/html": [
       "<div>\n",
       "<style scoped>\n",
       "    .dataframe tbody tr th:only-of-type {\n",
       "        vertical-align: middle;\n",
       "    }\n",
       "\n",
       "    .dataframe tbody tr th {\n",
       "        vertical-align: top;\n",
       "    }\n",
       "\n",
       "    .dataframe thead th {\n",
       "        text-align: right;\n",
       "    }\n",
       "</style>\n",
       "<table border=\"1\" class=\"dataframe\">\n",
       "  <thead>\n",
       "    <tr style=\"text-align: right;\">\n",
       "      <th></th>\n",
       "      <th>name</th>\n",
       "      <th>count</th>\n",
       "    </tr>\n",
       "  </thead>\n",
       "  <tbody>\n",
       "    <tr>\n",
       "      <th>0</th>\n",
       "      <td>Economic</td>\n",
       "      <td>6819</td>\n",
       "    </tr>\n",
       "    <tr>\n",
       "      <th>1</th>\n",
       "      <td>Negotiation</td>\n",
       "      <td>3417</td>\n",
       "    </tr>\n",
       "    <tr>\n",
       "      <th>2</th>\n",
       "      <td>Political</td>\n",
       "      <td>2074</td>\n",
       "    </tr>\n",
       "    <tr>\n",
       "      <th>3</th>\n",
       "      <td>Card Game</td>\n",
       "      <td>29070</td>\n",
       "    </tr>\n",
       "    <tr>\n",
       "      <th>4</th>\n",
       "      <td>Fantasy</td>\n",
       "      <td>8946</td>\n",
       "    </tr>\n",
       "    <tr>\n",
       "      <th>...</th>\n",
       "      <td>...</td>\n",
       "      <td>...</td>\n",
       "    </tr>\n",
       "    <tr>\n",
       "      <th>79</th>\n",
       "      <td>Mature / Adult</td>\n",
       "      <td>1269</td>\n",
       "    </tr>\n",
       "    <tr>\n",
       "      <th>80</th>\n",
       "      <td>Vietnam War</td>\n",
       "      <td>264</td>\n",
       "    </tr>\n",
       "    <tr>\n",
       "      <th>81</th>\n",
       "      <td>Korean War</td>\n",
       "      <td>113</td>\n",
       "    </tr>\n",
       "    <tr>\n",
       "      <th>82</th>\n",
       "      <td>Expansion for Base-game</td>\n",
       "      <td>300</td>\n",
       "    </tr>\n",
       "    <tr>\n",
       "      <th>83</th>\n",
       "      <td>Fan Expansion</td>\n",
       "      <td>20</td>\n",
       "    </tr>\n",
       "  </tbody>\n",
       "</table>\n",
       "<p>84 rows × 2 columns</p>\n",
       "</div>"
      ],
      "text/plain": [
       "                       name  count\n",
       "0                  Economic   6819\n",
       "1               Negotiation   3417\n",
       "2                 Political   2074\n",
       "3                 Card Game  29070\n",
       "4                   Fantasy   8946\n",
       "..                      ...    ...\n",
       "79           Mature / Adult   1269\n",
       "80              Vietnam War    264\n",
       "81               Korean War    113\n",
       "82  Expansion for Base-game    300\n",
       "83            Fan Expansion     20\n",
       "\n",
       "[84 rows x 2 columns]"
      ]
     },
     "execution_count": 25,
     "metadata": {},
     "output_type": "execute_result"
    }
   ],
   "source": [
    "counts = count_appearances(games, 'category')\n",
    "category_counts = pd.DataFrame(counts, index=[0]).T.reset_index(names=\"name\")\n",
    "category_counts = category_counts.rename(columns={0: \"count\"})\n",
    "category_counts"
   ]
  },
  {
   "cell_type": "code",
   "execution_count": 26,
   "id": "0bc9ae11",
   "metadata": {},
   "outputs": [
    {
     "data": {
      "text/html": [
       "<div>\n",
       "<style scoped>\n",
       "    .dataframe tbody tr th:only-of-type {\n",
       "        vertical-align: middle;\n",
       "    }\n",
       "\n",
       "    .dataframe tbody tr th {\n",
       "        vertical-align: top;\n",
       "    }\n",
       "\n",
       "    .dataframe thead th {\n",
       "        text-align: right;\n",
       "    }\n",
       "</style>\n",
       "<table border=\"1\" class=\"dataframe\">\n",
       "  <thead>\n",
       "    <tr style=\"text-align: right;\">\n",
       "      <th></th>\n",
       "      <th>name</th>\n",
       "      <th>count</th>\n",
       "    </tr>\n",
       "  </thead>\n",
       "  <tbody>\n",
       "    <tr>\n",
       "      <th>3</th>\n",
       "      <td>Card Game</td>\n",
       "      <td>29070</td>\n",
       "    </tr>\n",
       "    <tr>\n",
       "      <th>11</th>\n",
       "      <td>Children's Game</td>\n",
       "      <td>15488</td>\n",
       "    </tr>\n",
       "    <tr>\n",
       "      <th>27</th>\n",
       "      <td>Wargame</td>\n",
       "      <td>14577</td>\n",
       "    </tr>\n",
       "    <tr>\n",
       "      <th>40</th>\n",
       "      <td>Party Game</td>\n",
       "      <td>10722</td>\n",
       "    </tr>\n",
       "    <tr>\n",
       "      <th>20</th>\n",
       "      <td>Dice</td>\n",
       "      <td>10308</td>\n",
       "    </tr>\n",
       "  </tbody>\n",
       "</table>\n",
       "</div>"
      ],
      "text/plain": [
       "               name  count\n",
       "3         Card Game  29070\n",
       "11  Children's Game  15488\n",
       "27          Wargame  14577\n",
       "40       Party Game  10722\n",
       "20             Dice  10308"
      ]
     },
     "execution_count": 26,
     "metadata": {},
     "output_type": "execute_result"
    }
   ],
   "source": [
    "# Obtenemos las categorías con mayor valor en \"count\"\n",
    "category_counts.sort_values(\"count\", ascending=False).head(5)"
   ]
  },
  {
   "cell_type": "code",
   "execution_count": 27,
   "id": "b0a834ec",
   "metadata": {},
   "outputs": [
    {
     "data": {
      "image/png": "[encoded data removed]",
      "text/plain": [
       "<Figure size 1000x500 with 1 Axes>"
      ]
     },
     "metadata": {},
     "output_type": "display_data"
    }
   ],
   "source": [
    "# Opcionalmente podemos graficar estas cantidades\n",
    "data = category_counts.sort_values(\"count\", ascending=False).head(5)\n",
    "fig = plt.figure(figsize=(10, 5))\n",
    "plt.bar(data['name'], data['count'])\n",
    "plt.title(\"Top 5 categorías más comunes\")\n",
    "plt.xlabel('Categoría')\n",
    "plt.ylabel('Cantidad de juegos')\n",
    "plt.show()\n"
   ]
  },
  {
   "cell_type": "markdown",
   "id": "d9aa153e",
   "metadata": {},
   "source": [
    "**b) (0.3 pts)** Para cada una de estas 5 categorías, cree un DataFrame que contenga la cantidad de juegos en el dataset según año. Luego junte estos DataFrames en uno solo con los atributos de \"Año\", \"Categoría\" y \"Cantidad\"."
   ]
  },
  {
   "cell_type": "code",
   "execution_count": 28,
   "id": "325d450d",
   "metadata": {},
   "outputs": [],
   "source": [
    "# Obtenemos los nombres de las 5 categorias\n",
    "top5_cats = category_counts.sort_values(\"count\", ascending=False).head(5)['name'].values\n",
    "\n",
    "# Podemos crear un array para guardar cada DataFrame, uno por categoria\n",
    "category_dataframes = []\n",
    "\n",
    "for cat in top5_cats:\n",
    "    # Filtramos solo aquellos juegos que contienen a la categoria\n",
    "    games_in_category = games[games.category.str.contains(cat, na=False)]\n",
    "    # Agrupamos por año\n",
    "    category_by_year = games_in_category.groupby('year').size().reset_index(name='count')\n",
    "    # Agregamos este DataFrame al array\n",
    "    category_dataframes.append(category_by_year)\n"
   ]
  },
  {
   "cell_type": "code",
   "execution_count": 29,
   "id": "004294b7",
   "metadata": {},
   "outputs": [
    {
     "name": "stdout",
     "output_type": "stream",
     "text": [
      "Mostrando DataFrame para Categoría: Card Game\n"
     ]
    },
    {
     "data": {
      "text/html": [
       "<div>\n",
       "<style scoped>\n",
       "    .dataframe tbody tr th:only-of-type {\n",
       "        vertical-align: middle;\n",
       "    }\n",
       "\n",
       "    .dataframe tbody tr th {\n",
       "        vertical-align: top;\n",
       "    }\n",
       "\n",
       "    .dataframe thead th {\n",
       "        text-align: right;\n",
       "    }\n",
       "</style>\n",
       "<table border=\"1\" class=\"dataframe\">\n",
       "  <thead>\n",
       "    <tr style=\"text-align: right;\">\n",
       "      <th></th>\n",
       "      <th>year</th>\n",
       "      <th>count</th>\n",
       "    </tr>\n",
       "  </thead>\n",
       "  <tbody>\n",
       "    <tr>\n",
       "      <th>222</th>\n",
       "      <td>2025.0</td>\n",
       "      <td>5</td>\n",
       "    </tr>\n",
       "    <tr>\n",
       "      <th>221</th>\n",
       "      <td>2024.0</td>\n",
       "      <td>58</td>\n",
       "    </tr>\n",
       "    <tr>\n",
       "      <th>220</th>\n",
       "      <td>2023.0</td>\n",
       "      <td>889</td>\n",
       "    </tr>\n",
       "    <tr>\n",
       "      <th>219</th>\n",
       "      <td>2022.0</td>\n",
       "      <td>1612</td>\n",
       "    </tr>\n",
       "    <tr>\n",
       "      <th>218</th>\n",
       "      <td>2021.0</td>\n",
       "      <td>1684</td>\n",
       "    </tr>\n",
       "    <tr>\n",
       "      <th>...</th>\n",
       "      <td>...</td>\n",
       "      <td>...</td>\n",
       "    </tr>\n",
       "    <tr>\n",
       "      <th>4</th>\n",
       "      <td>1426.0</td>\n",
       "      <td>1</td>\n",
       "    </tr>\n",
       "    <tr>\n",
       "      <th>3</th>\n",
       "      <td>1425.0</td>\n",
       "      <td>2</td>\n",
       "    </tr>\n",
       "    <tr>\n",
       "      <th>2</th>\n",
       "      <td>1200.0</td>\n",
       "      <td>1</td>\n",
       "    </tr>\n",
       "    <tr>\n",
       "      <th>1</th>\n",
       "      <td>1120.0</td>\n",
       "      <td>1</td>\n",
       "    </tr>\n",
       "    <tr>\n",
       "      <th>0</th>\n",
       "      <td>1100.0</td>\n",
       "      <td>2</td>\n",
       "    </tr>\n",
       "  </tbody>\n",
       "</table>\n",
       "<p>223 rows × 2 columns</p>\n",
       "</div>"
      ],
      "text/plain": [
       "       year  count\n",
       "222  2025.0      5\n",
       "221  2024.0     58\n",
       "220  2023.0    889\n",
       "219  2022.0   1612\n",
       "218  2021.0   1684\n",
       "..      ...    ...\n",
       "4    1426.0      1\n",
       "3    1425.0      2\n",
       "2    1200.0      1\n",
       "1    1120.0      1\n",
       "0    1100.0      2\n",
       "\n",
       "[223 rows x 2 columns]"
      ]
     },
     "execution_count": 29,
     "metadata": {},
     "output_type": "execute_result"
    }
   ],
   "source": [
    "# Como resultado tenemos 5 DataFrames\n",
    "i = 0\n",
    "\n",
    "print(f'Mostrando DataFrame para Categoría: {top5_cats[i]}')\n",
    "category_dataframes[i].sort_values('year', ascending=False)"
   ]
  },
  {
   "cell_type": "markdown",
   "id": "d299aa4c",
   "metadata": {},
   "source": [
    "**c) (1 pto)** Grafique, en un solo gráfico y con distintos colores, la cantidad de juegos por año según categoría. Preocúpese de ponerle etiquetas al gráfico para identificar cada categoría y una leyenda donde se muestre cada una. Comente: ¿ha habido un cambio entre los juegos más comunes en los años 80 y hoy?\n"
   ]
  },
  {
   "cell_type": "code",
   "execution_count": 30,
   "id": "7ad14cda",
   "metadata": {},
   "outputs": [
    {
     "data": {
      "image/png": "[encoded data removed]",
      "text/plain": [
       "<Figure size 1000x500 with 1 Axes>"
      ]
     },
     "metadata": {},
     "output_type": "display_data"
    }
   ],
   "source": [
    "# Graficamos, una linea por categoria\n",
    "fig = plt.figure(figsize=(10,5))\n",
    "\n",
    "for cat_name, cat_df in zip(top5_cats, category_dataframes):\n",
    "    plt.plot(cat_df['year'], cat_df['count'], marker='*', label=cat_name)\n",
    "\n",
    "plt.title(\"Top 5 categorías con más juegos según año\")\n",
    "plt.xlabel(\"Año\")\n",
    "plt.ylabel('Cantidad')\n",
    "plt.grid(alpha=0.2)\n",
    "plt.legend()\n",
    "plt.xlim((1980, 2025))\n",
    "plt.show()"
   ]
  },
  {
   "cell_type": "markdown",
   "id": "bad1aa67",
   "metadata": {},
   "source": [
    "Posibles comentarios:\n",
    "* Existe una explosión de juegos de cartas desde el 2000 en adelante, cuyo crecimiento es mucho más marcado que para otras categorías de juego.\n",
    "* A inicios de los 80, los juegos de guerra eran los más comunes, y existían pocos juegos categorizados como \"Party Games\". Sin embargo, en años recientes, se nota el crecimiento de Party Games, con un aumento notorio entre 2013 y 2017. Últimamente estos superan en publicaciones anuales a los juegos de guerra.\n",
    "*\n"
   ]
  },
  {
   "cell_type": "markdown",
   "id": "9db1ea34-4030-4b3a-8853-4ef75f894298",
   "metadata": {},
   "source": [
    "### 3.5 Análisis Crítico (Bono +0.5 puntos)\n",
    "\n",
    "¿Qué limitaciones o problemas encontraste en los datos?"
   ]
  },
  {
   "cell_type": "markdown",
   "id": "5cb06270",
   "metadata": {},
   "source": [
    "*"
   ]
  },
  {
   "cell_type": "markdown",
   "id": "6ae28be9",
   "metadata": {},
   "source": []
  }
 ],
 "metadata": {
  "kernelspec": {
   "display_name": "Python 3 (ipykernel)",
   "language": "python",
   "name": "python3"
  },
  "language_info": {
   "codemirror_mode": {
    "name": "ipython",
    "version": 3
   },
   "file_extension": ".py",
   "mimetype": "text/x-python",
   "name": "python",
   "nbconvert_exporter": "python",
   "pygments_lexer": "ipython3",
   "version": "3.11.5"
  }
 },
 "nbformat": 4,
 "nbformat_minor": 5
}
