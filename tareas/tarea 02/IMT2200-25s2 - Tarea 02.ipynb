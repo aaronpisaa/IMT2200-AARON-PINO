{
 "cells": [
  {
   "cell_type": "markdown",
   "id": "63948f0b-11ed-4a9b-9709-53d3fe53977b",
   "metadata": {},
   "source": [
    "# <img style=\"float: left; padding-right: 20px; width: 200px\" src=\"https://raw.githubusercontent.com/raxlab/imt2200-data/main/media/logo.jpg\">  IMT 2200 - Introducción a Ciencia de Datos\n",
    "**Pontificia Universidad Católica de Chile**<br>\n",
    "**Instituto de Ingeniería Matemática y Computacional**<br>\n",
    "**Semestre 2025-S2**<br>\n",
    "**Profesor:** Rodrigo A. Carrasco <br>"
   ]
  },
  {
   "cell_type": "markdown",
   "id": "a34d140a",
   "metadata": {},
   "source": [
    "# <h1><center>Tarea 02: Extracción y Transformación de Datos </center></h1>\n",
    "\n",
    "**Fecha de Entrega:** 25 de septiembre de 2025, a las 23:59.\n",
    "\n",
    "**Fecha de publicación**: 2 de septiembre de 2025.\n",
    "\n",
    "**Formato de entrega:** Notebook ejecutado y comentado (`.ipynb`) en el módulo de Tarea 02 habilitado en Canvas."
   ]
  },
  {
   "cell_type": "markdown",
   "id": "b6928ed9-0a2b-4588-8282-b3f3e5e24a8c",
   "metadata": {},
   "source": [
    "## Instrucciones\n",
    "\n",
    "- Esta Tarea debe desarrollarse de manera totalmente *individual*, de acuerdo a lo establecido en la sección de Integridad Académica en el programa del curso.\n",
    "- La Tarea debe ser desarrollada en lenguaje de programación Python y la entrega en formato Jupyter Notebook.\n",
    "- El desarrollo del Notebook debe ser claro y ordenado, incluyendo anotaciones (markdown) y comentarios que permitan seguir fácilmente el código y los pasos implementados a los correctores, y siguiendo buenas prácticas de programación. La presentación y claridad del notebook y código forman parte de la evaluación de la tarea.\n",
    "- Notebook **autocontenible** que:\n",
    "   - Ejecute sin errores todas las celdas.\n",
    "  - Contenga tanto el código como los comentarios y explicaciones necesarias.\n",
    "  - Incluya visualizaciones claras y correctamente etiquetadas.\n",
    "- No se aceptarán notebooks con celdas rotas o que dependan de rutas externas no indicadas en la tarea.\n",
    "\n",
    "- Deben hacer sus consultas y comentarios sobre la Tarea a través del canal de Tareas en el Foro del curso en Canvas."
   ]
  },
  {
   "cell_type": "markdown",
   "id": "35a88d5e-b718-4b8e-81c8-dc169d02e88e",
   "metadata": {},
   "source": [
    "## 1. Objetivos\n",
    "\n",
    "- Aplicar los conceptos iniciales de manejo de datos y análisis exploratorio vistos en clases.\n",
    "- Practicar la lectura, limpieza y manipulación de datos en Python.\n",
    "- Desarrollar habilidades para visualizar y describir patrones y tendencias en conjuntos de datos reales.\n",
    "- Fomentar la capacidad de comunicar resultados de forma clara y fundamentada.\n",
    "\n",
    "### 1.1 Objetivo educacional\n",
    "\n",
    "Esta Tarea tiene como objetivo que los estudiantes desarrollen la capacidad de manejar algunas de las librerías centrales para el desarrollo de Ciencia de Datos, con foco en la lectura y exploración de datos. \n",
    "\n",
    "Para los ejercicios a continuación, usted deberá leer, inspeccionar, manipular y graficar conjuntos de datos en distintos formatos, de manera de responder las preguntas de cada parte de la Tarea.\n",
    "\n",
    "### 1.2 Pregunta de ciencia de datos\n",
    "\n",
    "Para esta tarea, queremos comprender y visualizar la distribución de aves migratorias en el territorio chileno. Específicamente, queremos entender las diferencias entre las migraciones de 2 especies en particular, el run-run y la dormilona tontita, a partir de los avistamientos registrados en eBird durante un periodo de 3 años y medio.\n",
    "\n",
    "### 1.3 Recomendaciones\n",
    "- Utiliza las librerías sugeridas en el notebook o justifica brevemente si incorporas otras.\n",
    "- Revisa que todas las celdas se ejecuten en orden, desde el inicio, sin errores.\n",
    "- Comenta tu código para explicar qué hace cada sección relevante.\n",
    "- Asegúrate de que las visualizaciones sean fáciles de interpretar y tengan títulos y etiquetas adecuados."
   ]
  },
  {
   "cell_type": "markdown",
   "id": "5fe3239f-8e60-43c8-83bf-ce9c02718c70",
   "metadata": {},
   "source": [
    "### 1.4 Ejemplo de visualización\n",
    "\n",
    "Esta tarea se enfoca en datos de aves. Para complementarla, les compartimos la siguiente página web, llamada \"Bird Migration Explorer\" que les permite visualizar, de una forma novedosa e interesante, las rutas de migración de aves en las Americas. Visiten la página para que vean cómo se puede visualizar datos de una manera interesante y novedosa, que podría ustedes usar en el futuro para sus proyectos."
   ]
  },
  {
   "cell_type": "code",
   "execution_count": 1,
   "id": "bff071a8-bc6e-42e0-ad2e-c23eb4022a1c",
   "metadata": {},
   "outputs": [
    {
     "data": {
      "text/html": [
       "\n",
       "        <iframe\n",
       "            width=\"900\"\n",
       "            height=\"600\"\n",
       "            src=\"https://explorer.audubon.org/home?layersPanel=expand\"\n",
       "            frameborder=\"0\"\n",
       "            allowfullscreen\n",
       "            \n",
       "        ></iframe>\n",
       "        "
      ],
      "text/plain": [
       "<IPython.lib.display.IFrame at 0x225a8c85d90>"
      ]
     },
     "execution_count": 1,
     "metadata": {},
     "output_type": "execute_result"
    }
   ],
   "source": [
    "from IPython.display import IFrame\n",
    "IFrame(\"https://explorer.audubon.org/home?layersPanel=expand\", width=900, height=600)"
   ]
  },
  {
   "cell_type": "markdown",
   "id": "116596ef",
   "metadata": {},
   "source": [
    "## 2. Datos\n",
    "\n",
    "Los datos a utilizar provienen de la plataforma **[eBird](https://ebird.org/)**, una aplicación desarrollada por The Cornell Lab of Ornithology que permite a sus usuarios registrar y compartir avistamientos de aves en todo el mundo. La plataforma dispone de una API mediante la cual se pueden realizar consultas sobre avistamientos de aves recientes e históricos, especies según región, taxonomía, entre otros. \n",
    "\n",
    "### 2.1 Acceso a la API\n",
    "\n",
    "Muchas API pueden utilizarse solo mediante el uso de una clave única, o \"API key\". Para conseguir una API key en eBird, primero debe ser usuario de la plataforma. Puede crear una cuenta aquí: https://secure.birds.cornell.edu/identity/account/create\n",
    "\n",
    "\n",
    "Con una cuenta ya creada, puede ingresar a https://ebird.org/api/keygen para generar su llave. Debe llenar un formulario de solicitud al pedir su llave. Como sugerencia, puede llenar los campos con la siguiente información:\n",
    "\n",
    "* **Organización:** Pontificia Universidad Católica de Chile\n",
    "* **Título del Proyecto:** Tarea IMT2200 Introducción a Ciencia de Datos\n",
    "* **Descripción:** \"Uso educativo para exploración y análisis de distribución de aves migratorias en Chile.\"\n",
    "* **Tipo de Proyecto:** Academic/Student\n",
    "* **Casos de uso:** Materiales educativos y artíticos (...)\n",
    "\n",
    "Debería recibir su llave inmediatamente después de enviar su solicitud. Como recomendación, puede revisar la documentación de la API en el siguiente link: https://documenter.getpostman.com/view/664302/S1ENwy59#intro\n",
    "\n",
    "#### 2.2 Mapoteca de BCN\n",
    "\n",
    "Para esta tarea queremos visualizar el movimiento de aves a lo largo de nuestro país. Para ello, también necesitaremos manejar datos geoespaciales: específicamente, trabajaremos con un mapa vectorial de Chile disponible en la página web de la Biblioteca del Congreso Nacional: https://www.bcn.cl/siit/mapas_vectoriales/index_html\n",
    "\n",
    "Descargue el archivo `.zip` para las **Divisiones regionales** y descomprímalo. Dentro de esta carpeta, habrá un archivo llamado `Regional.shp`, que utilizaremos con `geopandas` para graficar nuestro mapa de Chile."
   ]
  },
  {
   "cell_type": "markdown",
   "id": "c32f6e52",
   "metadata": {},
   "source": [
    "### 2.3 Librerías\n",
    "\n",
    "Para esta tarea recomendamos al menos usar las librerías indicadas en la siguiente celda del Notebook. Puede agregar otras si lo estima conveniente para responder de mejor forma las preguntas de la Tarea."
   ]
  },
  {
   "cell_type": "code",
   "execution_count": null,
   "id": "87be9d83",
   "metadata": {},
   "outputs": [],
   "source": [
    "import requests\n",
    "import datetime\n",
    "import numpy as np\n",
    "import pandas as pd\n",
    "import matplotlib.pyplot as plt\n",
    "import geopandas as gpd"
   ]
  },
  {
   "cell_type": "markdown",
   "id": "ef270eb0",
   "metadata": {},
   "source": [
    "## 3. Desarrollo\n",
    "\n",
    "Para cada una de las siguientes preguntas o actividades incluya una o más celdas de código y Markdown con las respuestas o comentarios necesarios para contestar la pregunta o lograr la actividad. Agregue sus celdas a continuación de cada pregunta para que el Notebook quede ordenado.\n",
    "\n",
    "En el caso de gráficos, figuras o tablas, asegúrese que todas tengan título, etiquetas en los ejes o haya claridad de los contenidos.\n",
    "\n",
    "### 3.1 Extracción de datos (1.5 puntos)\n",
    "\n",
    "**(1 pto)** Vamos a crear nuestra base de datos con los avistamientos registrados en eBird dentro de Chile desde 2022 hasta 2025. Revise la documentación de la API y averigue cómo extraer los avistamientos de un día. Luego extraiga los avistamientos para todos los días desde el **1 de enero de 2022 hasta el 31 de julio de 2025.** Cuando haya logrado extraer todos los datos, guárdelos en un archivo CSV o parquet.\n",
    "\n",
    "Responda:\n",
    "\n",
    "**a) (0.2 pts)** ¿Cuántos avistamientos tiene su dataset?\n",
    "\n",
    "**b) (0.3 pts)** Obtenga la cantidad de veces que se repite cada especie en su dataset y ordénelas de mayor a menor. ¿Qué pasa con la cantidad de avistamientos según especie? ¿Por qué?\n",
    "\n",
    "**Recomendaciones:** \n",
    "* Puede usar la librería `datetime` para generar fechas: cree una lista con todas las fechas e itere sobre esta lista para hacer los llamados a la API.\n",
    "* **Pruebe primero con uno o dos días** para verificar el funcionamiento de su código y de la API.\n",
    "* Inspeccione la forma en la que vienen los datos.\n",
    "* Vaya guardando los datos extraídos en archivos (CSV o parquet), de modo que no tenga que repetir los llamados en caso de algún error.\n",
    "\n",
    "**Hint**: Los códigos regionales chilenos para la API son los siguientes,\n",
    "* `regionCode = CL`\n",
    "* `sppLocale = es_CL` (para obtener nombres chilenos de las aves)"
   ]
  },
  {
   "cell_type": "code",
   "execution_count": null,
   "id": "1e49c044",
   "metadata": {},
   "outputs": [],
   "source": [
    "# Respuesta a"
   ]
  },
  {
   "cell_type": "code",
   "execution_count": null,
   "id": "b2a8b82b",
   "metadata": {},
   "outputs": [],
   "source": [
    "# Respuesta b"
   ]
  },
  {
   "cell_type": "markdown",
   "id": "6bdd42b6",
   "metadata": {},
   "source": [
    "### 3.2 Tranformación (1 punto)"
   ]
  },
  {
   "cell_type": "markdown",
   "id": "1f1150ca",
   "metadata": {},
   "source": [
    "**a) (0.5 pts)** Transforme la columna `obsDt` de string a un objeto de tipo `datetime` únicamente con año, mes y día (YYYY-MM-DD). Luego, agregue las siguientes nuevas columnas:\n",
    "* `month` con únicamente el mes del avistamiento (puede dejar el mes como número entero de 1 a 12).\n",
    "* `year-month` con el mes y año fecha en formato YYYY-MM"
   ]
  },
  {
   "cell_type": "code",
   "execution_count": null,
   "id": "31b5921c",
   "metadata": {},
   "outputs": [],
   "source": [
    "# Respuesta"
   ]
  },
  {
   "cell_type": "markdown",
   "id": "ca35763d",
   "metadata": {},
   "source": [
    "**b) (0.5 pts)** Averigue cómo tranformar su DataFrame de Pandas en un GeoDataFrame de GeoPandas. Para esto, utilice las columnas `lat`y `lng` para generar los puntos de la nueva columna `geometry`. Para las visualizaciones siguientes utilizaremos el Coordinate Reference System (CRS) EPSG 4326 (también llamado [WGS 84](https://es.wikipedia.org/wiki/WGS84)). Asegúrese que sus coordenadas correspondan a este CRS al crear su GeoDataFrame."
   ]
  },
  {
   "cell_type": "code",
   "execution_count": null,
   "id": "41908248",
   "metadata": {},
   "outputs": [],
   "source": [
    "# Respuesta"
   ]
  },
  {
   "cell_type": "markdown",
   "id": "818778f5",
   "metadata": {},
   "source": [
    "### 3.3 Exploración del dataset (1 punto)\n",
    "\n",
    "**a) (0.3 pts)** Utilice `geopandas` para leer el archivo `Regional.shp` descargado de BCN. Asegúrese de que su CRS sea el mismo que utilizó en la sección anterior."
   ]
  },
  {
   "cell_type": "code",
   "execution_count": null,
   "id": "cda8942b",
   "metadata": {},
   "outputs": [],
   "source": [
    "# Respuesta"
   ]
  },
  {
   "cell_type": "markdown",
   "id": "6c8865ba",
   "metadata": {},
   "source": [
    "**b) (0.7 pts)** Grafique un mapa de Chile con todos los avistamientos de su dataset como puntos en el mapa. Comente: ¿Cómo se distribuyen estos avistamientos? ¿Hay lugares en Chile donde haya una menor densidad de datos? ¿Cuáles? "
   ]
  },
  {
   "cell_type": "code",
   "execution_count": null,
   "id": "5358f802",
   "metadata": {},
   "outputs": [],
   "source": [
    "# Respuesta"
   ]
  },
  {
   "cell_type": "markdown",
   "id": "2ec9b455",
   "metadata": {},
   "source": [
    "### 3.4 Visualización de migraciones (2.5 puntos)\n",
    "\n",
    "**a) (0.2 pts)** Vamos a inspeccionar los avistamientos de las siguientes 2 especies en particular:\n",
    "\n",
    "* Run-run [(*Hymenops perspicillatus*)](https://www.avesdechile.cl/171.htm)\n",
    "* Dormilona tontita [(*Muscisaxicola maclovianus*)](https://www.avesdechile.cl/043.htm)\n",
    "\n",
    "Primero, genere dos nuevos dataframes con los avistamientos de cada especie por separado."
   ]
  },
  {
   "cell_type": "code",
   "execution_count": null,
   "id": "396fb3b6",
   "metadata": {},
   "outputs": [],
   "source": [
    "# Respuesta"
   ]
  },
  {
   "cell_type": "markdown",
   "id": "f1fab986",
   "metadata": {},
   "source": [
    "**b) (0.8 pts)** Para cada una de estas especies, agrupe los datos según `year-month`. Luego, realice un gráfico que muestre la cantidad de avistamientos en el tiempo, empezando desde enero del 2022 hasta julio de 2025. Responda: ¿cómo varía cantidad de avistamientos para estas dos especies? ¿Cuáles son sus diferencias?"
   ]
  },
  {
   "cell_type": "code",
   "execution_count": null,
   "id": "40246ac9",
   "metadata": {},
   "outputs": [],
   "source": [
    "# Respuesta"
   ]
  },
  {
   "cell_type": "markdown",
   "id": "68c51261",
   "metadata": {},
   "source": [
    "**b) (1 pto)** Grafique en un mapa de Chile la ubicación de cada avistamiento para cada especie mencionada por separado. Utilice el color de cada punto como indicador del mes de avistamiento (columna `month`). Para esto, utilice un **colormap cíclico** para representar los meses del año. Puede utilizar el colormap disponible en la siguiente celda, o bien utilizar otro (siempre y cuando sea cíclico)."
   ]
  },
  {
   "cell_type": "code",
   "execution_count": null,
   "id": "7207c825",
   "metadata": {},
   "outputs": [],
   "source": [
    "import matplotlib.colors as mcolors\n",
    "colors = [\"coral\", \"blue\", \"coral\"]\n",
    "positions = [0, 0.5, 1]\n",
    "\n",
    "# Creamos un colormap cíclico para representar meses del año\n",
    "custom_cmap = mcolors.LinearSegmentedColormap.from_list(\"cyclic_cmap\", list(zip(positions, colors)))"
   ]
  },
  {
   "cell_type": "code",
   "execution_count": null,
   "id": "8f0e3117",
   "metadata": {},
   "outputs": [],
   "source": [
    "# Respuesta"
   ]
  },
  {
   "cell_type": "markdown",
   "id": "7c3b9028",
   "metadata": {},
   "source": [
    "**c) (0.5 pts)** Describa las migraciones de estas dos especies. ¿Cómo se diferencian?"
   ]
  },
  {
   "cell_type": "markdown",
   "id": "985db7c4",
   "metadata": {},
   "source": [
    "Respuesta"
   ]
  },
  {
   "cell_type": "code",
   "execution_count": null,
   "id": "69faac4e",
   "metadata": {},
   "outputs": [],
   "source": []
  }
 ],
 "metadata": {
  "kernelspec": {
   "display_name": "Python 3 (ipykernel)",
   "language": "python",
   "name": "python3"
  },
  "language_info": {
   "codemirror_mode": {
    "name": "ipython",
    "version": 3
   },
   "file_extension": ".py",
   "mimetype": "text/x-python",
   "name": "python",
   "nbconvert_exporter": "python",
   "pygments_lexer": "ipython3",
   "version": "3.11.5"
  }
 },
 "nbformat": 4,
 "nbformat_minor": 5
}
