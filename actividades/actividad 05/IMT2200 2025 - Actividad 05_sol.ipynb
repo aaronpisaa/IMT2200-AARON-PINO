{
 "cells": [
  {
   "cell_type": "markdown",
   "id": "c7c4fcaf-7d91-49d0-bc8b-cafe6bb3a1d0",
   "metadata": {},
   "source": [
    "# <img style=\"float: left; padding-right: 20px; width: 200px\" src=\"https://raw.githubusercontent.com/raxlab/imt2200-data/main/media/logo.jpg\">  IMT 2200 - Introducción a Ciencia de Datos\n",
    "**Pontificia Universidad Católica de Chile**<br>\n",
    "**Instituto de Ingeniería Matemática y Computacional**<br>\n",
    "**Semestre 2025-S2**<br>\n",
    "**Profesor:** Rodrigo A. Carrasco <br>"
   ]
  },
  {
   "cell_type": "markdown",
   "id": "a6311079",
   "metadata": {},
   "source": [
    "# <h1><center>Actividad 05: Limpieza y Transformación de Datos</center></h1>\n",
    "\n",
    "Esta actividad busca aplicar los conocimientos en transformación de datos para contestar algunas preguntas."
   ]
  },
  {
   "cell_type": "markdown",
   "id": "a2c54596",
   "metadata": {},
   "source": [
    "## Instrucciones\n",
    "\n",
    "Esto Notebook contiene las instrucciones a realizar para la actividad. \n",
    "\n",
    "<b>Al finalizarla, deben subir el Notebook y los archivos generados en un único archivo .zip, al módulo de la Actividad 05 en Canvas.</b>\n",
    "\n",
    "Para esta actividad trabajarán con el archivo `spotify_history.csv`, que contiene el historial de actividad de un usuario de Spotify durante varios años."
   ]
  },
  {
   "cell_type": "markdown",
   "id": "f66e4487",
   "metadata": {},
   "source": [
    "## Rúbrica\n",
    "\n",
    "- Si han logrado todo (con errores menores): 7.0\n",
    "- Si han logrado los puntos 1 y 2 (con errores menores): 5.0\n",
    "- Si no han logrado hasta el punto 2.0: 1.0\n"
   ]
  },
  {
   "cell_type": "markdown",
   "id": "d4c7c6b5",
   "metadata": {},
   "source": [
    "## 1. Lectura y selección de columnas\n",
    "\n",
    "a. Primero, lea el `spotify_history.csv` con Pandas como un único DataFrame y muestre todas las columnas del archivo original.\n",
    "\n",
    "b. Para esta actividad, las columnas de nuestro interés son las siguientes:\n",
    "```\n",
    "['ts','ms_played',\n",
    "'master_metadata_track_name', 'master_metadata_album_artist_name',\n",
    "'master_metadata_album_album_name', 'episode_name',\n",
    "'episode_show_name',\n",
    "'reason_start', 'reason_end']\n",
    "```\n",
    "Seleccione solamente estas columnas para su DataFrame de trabajo.\n",
    "\n",
    "c. Responda:\n",
    "* ¿Cuántas filas tiene su dataset?"
   ]
  },
  {
   "cell_type": "code",
   "execution_count": 1,
   "id": "b5cae6a2",
   "metadata": {},
   "outputs": [
    {
     "name": "stdout",
     "output_type": "stream",
     "text": [
      "<class 'pandas.core.frame.DataFrame'>\n",
      "RangeIndex: 41827 entries, 0 to 41826\n",
      "Data columns (total 21 columns):\n",
      " #   Column                             Non-Null Count  Dtype  \n",
      "---  ------                             --------------  -----  \n",
      " 0   ts                                 41827 non-null  object \n",
      " 1   platform                           41827 non-null  object \n",
      " 2   ms_played                          41827 non-null  int64  \n",
      " 3   conn_country                       41827 non-null  object \n",
      " 4   master_metadata_track_name         40859 non-null  object \n",
      " 5   master_metadata_album_artist_name  40859 non-null  object \n",
      " 6   master_metadata_album_album_name   40859 non-null  object \n",
      " 7   spotify_track_uri                  40859 non-null  object \n",
      " 8   episode_name                       968 non-null    object \n",
      " 9   episode_show_name                  968 non-null    object \n",
      " 10  spotify_episode_uri                968 non-null    object \n",
      " 11  audiobook_title                    0 non-null      float64\n",
      " 12  audiobook_uri                      0 non-null      float64\n",
      " 13  audiobook_chapter_uri              0 non-null      float64\n",
      " 14  audiobook_chapter_title            0 non-null      float64\n",
      " 15  reason_start                       41827 non-null  object \n",
      " 16  reason_end                         41827 non-null  object \n",
      " 17  shuffle                            41827 non-null  bool   \n",
      " 18  offline                            41827 non-null  bool   \n",
      " 19  offline_timestamp                  41827 non-null  int64  \n",
      " 20  incognito_mode                     41827 non-null  bool   \n",
      "dtypes: bool(3), float64(4), int64(2), object(12)\n",
      "memory usage: 5.9+ MB\n"
     ]
    }
   ],
   "source": [
    "import pandas as pd\n",
    "\n",
    "df = pd.read_csv(\"data2025/spotify_history.csv\")\n",
    "df.info() # o bien df.columns"
   ]
  },
  {
   "cell_type": "code",
   "execution_count": 2,
   "id": "7586f8d6",
   "metadata": {},
   "outputs": [],
   "source": [
    "columns = ['ts','ms_played',\n",
    "'master_metadata_track_name', 'master_metadata_album_artist_name',\n",
    "'master_metadata_album_album_name', 'episode_name',\n",
    "'episode_show_name',\n",
    "'reason_start', 'reason_end']\n",
    "\n",
    "df = df[columns]"
   ]
  },
  {
   "cell_type": "code",
   "execution_count": 3,
   "id": "cfe4b2a5",
   "metadata": {},
   "outputs": [
    {
     "name": "stdout",
     "output_type": "stream",
     "text": [
      "<class 'pandas.core.frame.DataFrame'>\n",
      "RangeIndex: 41827 entries, 0 to 41826\n",
      "Data columns (total 9 columns):\n",
      " #   Column                             Non-Null Count  Dtype \n",
      "---  ------                             --------------  ----- \n",
      " 0   ts                                 41827 non-null  object\n",
      " 1   ms_played                          41827 non-null  int64 \n",
      " 2   master_metadata_track_name         40859 non-null  object\n",
      " 3   master_metadata_album_artist_name  40859 non-null  object\n",
      " 4   master_metadata_album_album_name   40859 non-null  object\n",
      " 5   episode_name                       968 non-null    object\n",
      " 6   episode_show_name                  968 non-null    object\n",
      " 7   reason_start                       41827 non-null  object\n",
      " 8   reason_end                         41827 non-null  object\n",
      "dtypes: int64(1), object(8)\n",
      "memory usage: 2.9+ MB\n",
      "\n",
      "El dataset inicial tiene 41,827 filas de datos.\n"
     ]
    }
   ],
   "source": [
    "df.info()\n",
    "\n",
    "print(f\"\\nEl dataset inicial tiene {df.shape[0]:,} filas de datos.\")"
   ]
  },
  {
   "cell_type": "markdown",
   "id": "c34ec737",
   "metadata": {},
   "source": [
    "## 2. Limpieza\n",
    "\n",
    "\n",
    "a. Revise si existen filas duplicadas en su dataset. Si es así, deje solamente la última aparición de la fila duplicada en su DataFrame. ¿Cuántas filas duplicadas hay?\n",
    "\n",
    "b. Ahora, revise si hay filas cuyo valor en `ms_played` (milisegundos reproducidos) es menor a 1. Descarte todas estas filas.\n",
    "\n",
    "c. ¿Cuántas filas quedaron en su DataFrame después de la limpieza?"
   ]
  },
  {
   "cell_type": "code",
   "execution_count": 4,
   "id": "42701a0f",
   "metadata": {},
   "outputs": [
    {
     "name": "stdout",
     "output_type": "stream",
     "text": [
      "Hay 72 filas duplicadas.\n"
     ]
    },
    {
     "data": {
      "text/html": [
       "<div>\n",
       "<style scoped>\n",
       "    .dataframe tbody tr th:only-of-type {\n",
       "        vertical-align: middle;\n",
       "    }\n",
       "\n",
       "    .dataframe tbody tr th {\n",
       "        vertical-align: top;\n",
       "    }\n",
       "\n",
       "    .dataframe thead th {\n",
       "        text-align: right;\n",
       "    }\n",
       "</style>\n",
       "<table border=\"1\" class=\"dataframe\">\n",
       "  <thead>\n",
       "    <tr style=\"text-align: right;\">\n",
       "      <th></th>\n",
       "      <th>ts</th>\n",
       "      <th>ms_played</th>\n",
       "      <th>master_metadata_track_name</th>\n",
       "      <th>master_metadata_album_artist_name</th>\n",
       "      <th>master_metadata_album_album_name</th>\n",
       "      <th>episode_name</th>\n",
       "      <th>episode_show_name</th>\n",
       "      <th>reason_start</th>\n",
       "      <th>reason_end</th>\n",
       "    </tr>\n",
       "  </thead>\n",
       "  <tbody>\n",
       "    <tr>\n",
       "      <th>15</th>\n",
       "      <td>2022-12-30T13:07:18Z</td>\n",
       "      <td>2957</td>\n",
       "      <td>No One Knows</td>\n",
       "      <td>Queens of the Stone Age</td>\n",
       "      <td>Songs For The Deaf</td>\n",
       "      <td>NaN</td>\n",
       "      <td>NaN</td>\n",
       "      <td>appload</td>\n",
       "      <td>endplay</td>\n",
       "    </tr>\n",
       "    <tr>\n",
       "      <th>691</th>\n",
       "      <td>2023-01-10T13:05:27Z</td>\n",
       "      <td>59773</td>\n",
       "      <td>Think Twice</td>\n",
       "      <td>Mo’Ju</td>\n",
       "      <td>Native Tongue</td>\n",
       "      <td>NaN</td>\n",
       "      <td>NaN</td>\n",
       "      <td>clickrow</td>\n",
       "      <td>endplay</td>\n",
       "    </tr>\n",
       "    <tr>\n",
       "      <th>883</th>\n",
       "      <td>2023-01-16T18:12:20Z</td>\n",
       "      <td>201786</td>\n",
       "      <td>Clean</td>\n",
       "      <td>Big Data</td>\n",
       "      <td>2.0</td>\n",
       "      <td>NaN</td>\n",
       "      <td>NaN</td>\n",
       "      <td>clickrow</td>\n",
       "      <td>trackdone</td>\n",
       "    </tr>\n",
       "    <tr>\n",
       "      <th>1298</th>\n",
       "      <td>2023-02-19T23:40:58Z</td>\n",
       "      <td>4945</td>\n",
       "      <td>Shapes in the Snow</td>\n",
       "      <td>Lewis Clarke</td>\n",
       "      <td>Upon White Winds</td>\n",
       "      <td>NaN</td>\n",
       "      <td>NaN</td>\n",
       "      <td>clickrow</td>\n",
       "      <td>endplay</td>\n",
       "    </tr>\n",
       "    <tr>\n",
       "      <th>2189</th>\n",
       "      <td>2023-03-19T00:38:49Z</td>\n",
       "      <td>265400</td>\n",
       "      <td>Beautiful Tango - Unplugged</td>\n",
       "      <td>Hindi Zahra</td>\n",
       "      <td>Handmade</td>\n",
       "      <td>NaN</td>\n",
       "      <td>NaN</td>\n",
       "      <td>trackdone</td>\n",
       "      <td>trackdone</td>\n",
       "    </tr>\n",
       "    <tr>\n",
       "      <th>...</th>\n",
       "      <td>...</td>\n",
       "      <td>...</td>\n",
       "      <td>...</td>\n",
       "      <td>...</td>\n",
       "      <td>...</td>\n",
       "      <td>...</td>\n",
       "      <td>...</td>\n",
       "      <td>...</td>\n",
       "      <td>...</td>\n",
       "    </tr>\n",
       "    <tr>\n",
       "      <th>37404</th>\n",
       "      <td>2025-04-20T18:35:12Z</td>\n",
       "      <td>247000</td>\n",
       "      <td>Calma</td>\n",
       "      <td>Nano Stern</td>\n",
       "      <td>Voy y Vuelvo</td>\n",
       "      <td>NaN</td>\n",
       "      <td>NaN</td>\n",
       "      <td>trackdone</td>\n",
       "      <td>trackdone</td>\n",
       "    </tr>\n",
       "    <tr>\n",
       "      <th>38215</th>\n",
       "      <td>2025-05-15T15:36:09Z</td>\n",
       "      <td>218720</td>\n",
       "      <td>De Selby (Part 1)</td>\n",
       "      <td>Hozier</td>\n",
       "      <td>Unreal Unearth</td>\n",
       "      <td>NaN</td>\n",
       "      <td>NaN</td>\n",
       "      <td>clickrow</td>\n",
       "      <td>trackdone</td>\n",
       "    </tr>\n",
       "    <tr>\n",
       "      <th>38750</th>\n",
       "      <td>2025-05-19T19:43:41Z</td>\n",
       "      <td>174600</td>\n",
       "      <td>UP IN SMOKE</td>\n",
       "      <td>RIN</td>\n",
       "      <td>UP IN SMOKE</td>\n",
       "      <td>NaN</td>\n",
       "      <td>NaN</td>\n",
       "      <td>trackdone</td>\n",
       "      <td>trackdone</td>\n",
       "    </tr>\n",
       "    <tr>\n",
       "      <th>39162</th>\n",
       "      <td>2025-05-26T20:18:04Z</td>\n",
       "      <td>96717</td>\n",
       "      <td>Girl's Song In Winter</td>\n",
       "      <td>Vashti Bunyan</td>\n",
       "      <td>Some Things Just Stick In Your Mind</td>\n",
       "      <td>NaN</td>\n",
       "      <td>NaN</td>\n",
       "      <td>trackdone</td>\n",
       "      <td>trackdone</td>\n",
       "    </tr>\n",
       "    <tr>\n",
       "      <th>41808</th>\n",
       "      <td>2025-07-11T16:27:21Z</td>\n",
       "      <td>292506</td>\n",
       "      <td>Bittersweet</td>\n",
       "      <td>Lianne La Havas</td>\n",
       "      <td>Lianne La Havas</td>\n",
       "      <td>NaN</td>\n",
       "      <td>NaN</td>\n",
       "      <td>trackdone</td>\n",
       "      <td>trackdone</td>\n",
       "    </tr>\n",
       "  </tbody>\n",
       "</table>\n",
       "<p>72 rows × 9 columns</p>\n",
       "</div>"
      ],
      "text/plain": [
       "                         ts  ms_played   master_metadata_track_name  \\\n",
       "15     2022-12-30T13:07:18Z       2957                 No One Knows   \n",
       "691    2023-01-10T13:05:27Z      59773                  Think Twice   \n",
       "883    2023-01-16T18:12:20Z     201786                        Clean   \n",
       "1298   2023-02-19T23:40:58Z       4945           Shapes in the Snow   \n",
       "2189   2023-03-19T00:38:49Z     265400  Beautiful Tango - Unplugged   \n",
       "...                     ...        ...                          ...   \n",
       "37404  2025-04-20T18:35:12Z     247000                        Calma   \n",
       "38215  2025-05-15T15:36:09Z     218720            De Selby (Part 1)   \n",
       "38750  2025-05-19T19:43:41Z     174600                  UP IN SMOKE   \n",
       "39162  2025-05-26T20:18:04Z      96717        Girl's Song In Winter   \n",
       "41808  2025-07-11T16:27:21Z     292506                  Bittersweet   \n",
       "\n",
       "      master_metadata_album_artist_name     master_metadata_album_album_name  \\\n",
       "15              Queens of the Stone Age                   Songs For The Deaf   \n",
       "691                               Mo’Ju                        Native Tongue   \n",
       "883                            Big Data                                  2.0   \n",
       "1298                       Lewis Clarke                     Upon White Winds   \n",
       "2189                        Hindi Zahra                             Handmade   \n",
       "...                                 ...                                  ...   \n",
       "37404                        Nano Stern                         Voy y Vuelvo   \n",
       "38215                            Hozier                       Unreal Unearth   \n",
       "38750                               RIN                          UP IN SMOKE   \n",
       "39162                     Vashti Bunyan  Some Things Just Stick In Your Mind   \n",
       "41808                   Lianne La Havas                      Lianne La Havas   \n",
       "\n",
       "      episode_name episode_show_name reason_start reason_end  \n",
       "15             NaN               NaN      appload    endplay  \n",
       "691            NaN               NaN     clickrow    endplay  \n",
       "883            NaN               NaN     clickrow  trackdone  \n",
       "1298           NaN               NaN     clickrow    endplay  \n",
       "2189           NaN               NaN    trackdone  trackdone  \n",
       "...            ...               ...          ...        ...  \n",
       "37404          NaN               NaN    trackdone  trackdone  \n",
       "38215          NaN               NaN     clickrow  trackdone  \n",
       "38750          NaN               NaN    trackdone  trackdone  \n",
       "39162          NaN               NaN    trackdone  trackdone  \n",
       "41808          NaN               NaN    trackdone  trackdone  \n",
       "\n",
       "[72 rows x 9 columns]"
      ]
     },
     "execution_count": 4,
     "metadata": {},
     "output_type": "execute_result"
    }
   ],
   "source": [
    "print(f\"Hay {df[df.duplicated].shape[0]:,} filas duplicadas.\")\n",
    "df[df.duplicated]"
   ]
  },
  {
   "cell_type": "code",
   "execution_count": 5,
   "id": "ec0365b8",
   "metadata": {},
   "outputs": [],
   "source": [
    "clean_df = df.drop_duplicates(keep='last').copy()"
   ]
  },
  {
   "cell_type": "code",
   "execution_count": 6,
   "id": "7ec99fb6",
   "metadata": {},
   "outputs": [
    {
     "name": "stdout",
     "output_type": "stream",
     "text": [
      "Hay 268 reproducciones con 0ms de reproducción\n"
     ]
    }
   ],
   "source": [
    "non_played = clean_df[clean_df.ms_played < 1]\n",
    "print(f\"Hay {non_played.shape[0]:,} reproducciones con 0ms de reproducción\")"
   ]
  },
  {
   "cell_type": "code",
   "execution_count": 7,
   "id": "015e370e",
   "metadata": {},
   "outputs": [],
   "source": [
    "clean_df = clean_df[clean_df.ms_played > 0]"
   ]
  },
  {
   "cell_type": "code",
   "execution_count": 8,
   "id": "7d31342f",
   "metadata": {},
   "outputs": [
    {
     "name": "stdout",
     "output_type": "stream",
     "text": [
      "En el nuevo DF limpio hay 41,487 filas\n"
     ]
    }
   ],
   "source": [
    "print(f\"En el nuevo DF limpio hay {clean_df.shape[0]:,} filas\")"
   ]
  },
  {
   "cell_type": "markdown",
   "id": "1251b305",
   "metadata": {},
   "source": [
    "## 3. Transformación\n",
    "\n",
    "Aplique las siguientes transformaciones a su DataFrame:\n",
    "\n",
    "a. La columna `ts` (timestamp) muestra la fecha y hora de reproducción de la canción. Extraiga únicamente el año y agregue una nueva columna con este dato como número entero. ¿En qué año hubo más reproducciones?\n",
    "\n",
    "b. El dataset contiene canciones y episodios de podcasts. Genere una nueva columna (categórica o booleana) que identifique a cada fila como \"canción\" o \"episodio\" y explique cómo realizó esta clasificación. ¿Cuántas filas hay de cada una de estas categorías? \n",
    "\n",
    "c. Responda:\n",
    "¿Cuál es el podcast con mayor número de reproducciones en total?"
   ]
  },
  {
   "cell_type": "code",
   "execution_count": 9,
   "id": "7f7831b6",
   "metadata": {},
   "outputs": [
    {
     "data": {
      "text/plain": [
       "year\n",
       "2022      122\n",
       "2023    15426\n",
       "2024    18860\n",
       "2025     7079\n",
       "dtype: int64"
      ]
     },
     "execution_count": 9,
     "metadata": {},
     "output_type": "execute_result"
    }
   ],
   "source": [
    "# Tambien pueden usar datetime\n",
    "clean_df['year'] = clean_df.ts.apply(lambda x: int(x[:4]))\n",
    "\n",
    "clean_df.groupby(\"year\").size()"
   ]
  },
  {
   "cell_type": "markdown",
   "id": "1b4b789c",
   "metadata": {},
   "source": [
    "El año con más reproducciones fue 2024."
   ]
  },
  {
   "cell_type": "code",
   "execution_count": 10,
   "id": "51e9e606",
   "metadata": {},
   "outputs": [
    {
     "data": {
      "text/plain": [
       "category\n",
       "song       40563\n",
       "episode      924\n",
       "Name: count, dtype: int64"
      ]
     },
     "execution_count": 10,
     "metadata": {},
     "output_type": "execute_result"
    }
   ],
   "source": [
    "def song_or_episode(row):\n",
    "    if pd.isna(row['episode_name']):\n",
    "        return \"song\"\n",
    "    return \"episode\"\n",
    "\n",
    "clean_df['category'] = clean_df.apply(song_or_episode, axis=1)\n",
    "clean_df.category.value_counts()"
   ]
  },
  {
   "cell_type": "markdown",
   "id": "b47f18c5",
   "metadata": {},
   "source": [
    "Esto puede hacerse de varias formas. Un ejemplo: la columna \"episode_name\" solo tiene valor para los capítulos de podcasts. En la función `song_or_episode` revisamos si esta columna en nula (NaN): si lo es, la fila es una canción. En caso contrario, es un episodio."
   ]
  },
  {
   "cell_type": "code",
   "execution_count": 11,
   "id": "dcf14c7a",
   "metadata": {},
   "outputs": [
    {
     "data": {
      "text/html": [
       "<div>\n",
       "<style scoped>\n",
       "    .dataframe tbody tr th:only-of-type {\n",
       "        vertical-align: middle;\n",
       "    }\n",
       "\n",
       "    .dataframe tbody tr th {\n",
       "        vertical-align: top;\n",
       "    }\n",
       "\n",
       "    .dataframe thead th {\n",
       "        text-align: right;\n",
       "    }\n",
       "</style>\n",
       "<table border=\"1\" class=\"dataframe\">\n",
       "  <thead>\n",
       "    <tr style=\"text-align: right;\">\n",
       "      <th></th>\n",
       "      <th>episode_show_name</th>\n",
       "      <th>count</th>\n",
       "    </tr>\n",
       "  </thead>\n",
       "  <tbody>\n",
       "    <tr>\n",
       "      <th>16</th>\n",
       "      <td>Lateral with Tom Scott</td>\n",
       "      <td>211</td>\n",
       "    </tr>\n",
       "    <tr>\n",
       "      <th>18</th>\n",
       "      <td>Let's Learn Everything!</td>\n",
       "      <td>159</td>\n",
       "    </tr>\n",
       "    <tr>\n",
       "      <th>55</th>\n",
       "      <td>Wolf 359</td>\n",
       "      <td>153</td>\n",
       "    </tr>\n",
       "    <tr>\n",
       "      <th>24</th>\n",
       "      <td>Mom Can't Cook! A DCOM Podcast</td>\n",
       "      <td>94</td>\n",
       "    </tr>\n",
       "    <tr>\n",
       "      <th>42</th>\n",
       "      <td>The Case of the Greater Gatsby</td>\n",
       "      <td>33</td>\n",
       "    </tr>\n",
       "  </tbody>\n",
       "</table>\n",
       "</div>"
      ],
      "text/plain": [
       "                 episode_show_name  count\n",
       "16          Lateral with Tom Scott    211\n",
       "18         Let's Learn Everything!    159\n",
       "55                        Wolf 359    153\n",
       "24  Mom Can't Cook! A DCOM Podcast     94\n",
       "42  The Case of the Greater Gatsby     33"
      ]
     },
     "execution_count": 11,
     "metadata": {},
     "output_type": "execute_result"
    }
   ],
   "source": [
    "episodes = clean_df[clean_df.category == 'episode']\n",
    "\n",
    "episodes.groupby(\"episode_show_name\").size().reset_index(name='count').sort_values(\"count\", ascending=False).head()"
   ]
  },
  {
   "cell_type": "markdown",
   "id": "7f8eb2f4",
   "metadata": {},
   "source": [
    "El podcast con más reproducciones es Lateral with Tom Scott, con 211 reproducciones."
   ]
  },
  {
   "cell_type": "markdown",
   "id": "5fb02bcd",
   "metadata": {},
   "source": [
    "## 4. Variables categóricas\n",
    "\n",
    "a. Las columnas `reason_start`y `reason_end` muestran, respectivamente, por qué se comenzó y se terminó la reproducción de una pista. Estas son columnas categóricas. Para ambas, muestre todas las categorías que aparecen en su dataset.\n",
    "¿Son las mismas? Comente.\n",
    "\n",
    "b. Vamos a crear una nueva columna llamada `skipped` (categórica o booleana), que identificará si la reproducción de la pista fue interrumpida intencionalmente por el usuario (saltada). Para esto, nos fijaremos en el valor de `reason_end` de cada fila. Considere una pista como \"skipped\" si su término está entre las siguientes categorías: `endplay`, `fwdbtn`, `backbtn`, y como \"not skipped\" en caso contrario.\n",
    "\n",
    "c. Finalmente, responda:\n",
    "¿Cuál es la canción más interrumpida (o saltada)? Responda con el nombre de la canción y el artista."
   ]
  },
  {
   "cell_type": "code",
   "execution_count": 12,
   "id": "9ab82467",
   "metadata": {},
   "outputs": [
    {
     "data": {
      "text/plain": [
       "array(['fwdbtn', 'backbtn', 'trackdone', 'playbtn', 'appload', 'clickrow',\n",
       "       'remote', 'trackerror', 'unknown'], dtype=object)"
      ]
     },
     "execution_count": 12,
     "metadata": {},
     "output_type": "execute_result"
    }
   ],
   "source": [
    "clean_df.reason_start.unique()"
   ]
  },
  {
   "cell_type": "code",
   "execution_count": 13,
   "id": "088c1f6a",
   "metadata": {},
   "outputs": [
    {
     "data": {
      "text/plain": [
       "array(['fwdbtn', 'backbtn', 'trackdone', 'logout', 'endplay',\n",
       "       'unexpected-exit-while-paused', 'remote', 'unexpected-exit',\n",
       "       'unknown', 'trackerror'], dtype=object)"
      ]
     },
     "execution_count": 13,
     "metadata": {},
     "output_type": "execute_result"
    }
   ],
   "source": [
    "clean_df.reason_end.unique()"
   ]
  },
  {
   "cell_type": "markdown",
   "id": "f42f60a0",
   "metadata": {},
   "source": [
    "Hay algunas categorías compartidas (como fwdbtn, backbtn, trackdone, unknown), pero no son las mismas. Las razones de término incluyen \"exits\" (unexpected-exit, unexpected-exit-while-paused) que solo tienen sentido como término de una reproducción, no como comienzo."
   ]
  },
  {
   "cell_type": "code",
   "execution_count": 14,
   "id": "5aa7a967",
   "metadata": {},
   "outputs": [],
   "source": [
    "def skipped(row):\n",
    "    values = ['endplay', 'fwdbtn', 'backbtn'] \n",
    "    if row.reason_end in values:\n",
    "        return True\n",
    "    return False\n",
    "\n",
    "clean_df['skipped'] = clean_df.apply(skipped, axis=1)"
   ]
  },
  {
   "cell_type": "code",
   "execution_count": 15,
   "id": "275f4b28",
   "metadata": {},
   "outputs": [
    {
     "data": {
      "text/html": [
       "<div>\n",
       "<style scoped>\n",
       "    .dataframe tbody tr th:only-of-type {\n",
       "        vertical-align: middle;\n",
       "    }\n",
       "\n",
       "    .dataframe tbody tr th {\n",
       "        vertical-align: top;\n",
       "    }\n",
       "\n",
       "    .dataframe thead th {\n",
       "        text-align: right;\n",
       "    }\n",
       "</style>\n",
       "<table border=\"1\" class=\"dataframe\">\n",
       "  <thead>\n",
       "    <tr style=\"text-align: right;\">\n",
       "      <th></th>\n",
       "      <th>master_metadata_track_name</th>\n",
       "      <th>master_metadata_album_artist_name</th>\n",
       "      <th>skipped</th>\n",
       "      <th>count</th>\n",
       "    </tr>\n",
       "  </thead>\n",
       "  <tbody>\n",
       "    <tr>\n",
       "      <th>2647</th>\n",
       "      <td>Drongo</td>\n",
       "      <td>YONAKA</td>\n",
       "      <td>True</td>\n",
       "      <td>53</td>\n",
       "    </tr>\n",
       "    <tr>\n",
       "      <th>11714</th>\n",
       "      <td>Year Zero</td>\n",
       "      <td>Ghost</td>\n",
       "      <td>True</td>\n",
       "      <td>49</td>\n",
       "    </tr>\n",
       "    <tr>\n",
       "      <th>9697</th>\n",
       "      <td>The Chain - 2004 Remaster</td>\n",
       "      <td>Fleetwood Mac</td>\n",
       "      <td>True</td>\n",
       "      <td>48</td>\n",
       "    </tr>\n",
       "    <tr>\n",
       "      <th>8680</th>\n",
       "      <td>Sisters of the Moon - 2015 Remaster</td>\n",
       "      <td>Fleetwood Mac</td>\n",
       "      <td>True</td>\n",
       "      <td>42</td>\n",
       "    </tr>\n",
       "    <tr>\n",
       "      <th>9975</th>\n",
       "      <td>The King's Affirmation</td>\n",
       "      <td>Iniko</td>\n",
       "      <td>True</td>\n",
       "      <td>37</td>\n",
       "    </tr>\n",
       "  </tbody>\n",
       "</table>\n",
       "</div>"
      ],
      "text/plain": [
       "                master_metadata_track_name master_metadata_album_artist_name  \\\n",
       "2647                                Drongo                            YONAKA   \n",
       "11714                            Year Zero                             Ghost   \n",
       "9697             The Chain - 2004 Remaster                     Fleetwood Mac   \n",
       "8680   Sisters of the Moon - 2015 Remaster                     Fleetwood Mac   \n",
       "9975                The King's Affirmation                             Iniko   \n",
       "\n",
       "       skipped  count  \n",
       "2647      True     53  \n",
       "11714     True     49  \n",
       "9697      True     48  \n",
       "8680      True     42  \n",
       "9975      True     37  "
      ]
     },
     "execution_count": 15,
     "metadata": {},
     "output_type": "execute_result"
    }
   ],
   "source": [
    "songs = clean_df[clean_df.category == 'song']\n",
    "by_skip = songs.groupby([\"master_metadata_track_name\",\"master_metadata_album_artist_name\", \"skipped\"]).size().reset_index(name='count')\n",
    "\n",
    "by_skip[by_skip.skipped == True].sort_values(\"count\", ascending=False).head()"
   ]
  },
  {
   "cell_type": "markdown",
   "id": "588979a7",
   "metadata": {},
   "source": [
    "La canción más interrumpida por el usuario es Drongo de YONAKA."
   ]
  }
 ],
 "metadata": {
  "kernelspec": {
   "display_name": "Python 3 (ipykernel)",
   "language": "python",
   "name": "python3"
  },
  "language_info": {
   "codemirror_mode": {
    "name": "ipython",
    "version": 3
   },
   "file_extension": ".py",
   "mimetype": "text/x-python",
   "name": "python",
   "nbconvert_exporter": "python",
   "pygments_lexer": "ipython3",
   "version": "3.12.7"
  }
 },
 "nbformat": 4,
 "nbformat_minor": 5
}
