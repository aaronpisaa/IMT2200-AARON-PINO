{
 "cells": [
  {
   "cell_type": "markdown",
   "id": "c7c4fcaf-7d91-49d0-bc8b-cafe6bb3a1d0",
   "metadata": {},
   "source": [
    "# <img style=\"float: left; padding-right: 20px; width: 200px\" src=\"https://raw.githubusercontent.com/raxlab/imt2200-data/main/media/logo.jpg\">  IMT 2200 - Introducción a Ciencia de Datos\n",
    "**Pontificia Universidad Católica de Chile**<br>\n",
    "**Instituto de Ingeniería Matemática y Computacional**<br>\n",
    "**Semestre 2025-S2**<br>\n",
    "**Profesor:** Rodrigo A. Carrasco <br>"
   ]
  },
  {
   "cell_type": "markdown",
   "id": "a6311079",
   "metadata": {},
   "source": [
    "# <h1><center>Actividad 05: Limpieza y Transformación de Datos</center></h1>\n",
    "\n",
    "Esta actividad busca aplicar los conocimientos en transformación de datos para contestar algunas preguntas."
   ]
  },
  {
   "cell_type": "markdown",
   "id": "a2c54596",
   "metadata": {},
   "source": [
    "## Instrucciones\n",
    "\n",
    "Esto Notebook contiene las instrucciones a realizar para la actividad. \n",
    "\n",
    "<b>Al finalizarla, deben subir el Notebook y los archivos generados en un único archivo .zip, al módulo de la Actividad 05 en Canvas.</b>\n",
    "\n",
    "Para esta actividad trabajarán con el archivo `spotify_history.csv`, que contiene el historial de actividad de un usuario de Spotify durante varios años."
   ]
  },
  {
   "cell_type": "markdown",
   "id": "f66e4487",
   "metadata": {},
   "source": [
    "## Rúbrica\n",
    "\n",
    "- Si han logrado todo (con errores menores): 7.0\n",
    "- Si han logrado los puntos 1 y 2 (con errores menores): 5.0\n",
    "- Si no han logrado hasta el punto 2.0: 1.0\n"
   ]
  },
  {
   "cell_type": "markdown",
   "id": "d4c7c6b5",
   "metadata": {},
   "source": [
    "## 1. Lectura y selección de columnas\n",
    "\n",
    "a. Primero, lea el `spotify_history.csv` con Pandas como un único DataFrame y muestre todas las columnas del archivo original.\n",
    "\n",
    "b. Para esta actividad, las columnas de nuestro interés son las siguientes:\n",
    "```\n",
    "['ts','ms_played',\n",
    "'master_metadata_track_name', 'master_metadata_album_artist_name',\n",
    "'master_metadata_album_album_name', 'episode_name',\n",
    "'episode_show_name',\n",
    "'reason_start', 'reason_end']\n",
    "```\n",
    "Seleccione solamente estas columnas para su DataFrame de trabajo.\n",
    "\n",
    "c. Responda:\n",
    "* ¿Cuántas filas tiene su dataset?"
   ]
  },
  {
   "cell_type": "code",
   "execution_count": null,
   "id": "b5cae6a2",
   "metadata": {},
   "outputs": [],
   "source": [
    "# a.\n",
    "import pandas as pd\n"
   ]
  },
  {
   "cell_type": "code",
   "execution_count": null,
   "id": "7586f8d6",
   "metadata": {},
   "outputs": [],
   "source": [
    "# b."
   ]
  },
  {
   "cell_type": "code",
   "execution_count": null,
   "id": "cfe4b2a5",
   "metadata": {},
   "outputs": [],
   "source": [
    "# c."
   ]
  },
  {
   "cell_type": "markdown",
   "id": "c34ec737",
   "metadata": {},
   "source": [
    "## 2. Limpieza\n",
    "\n",
    "\n",
    "a. Revise si existen filas duplicadas en su dataset. Si es así, deje solamente la última aparición de la fila duplicada en su DataFrame. ¿Cuántas filas duplicadas hay?\n",
    "\n",
    "b. Ahora, revise si hay filas cuyo valor en `ms_played` (milisegundos reproducidos) es menor a 1. Descarte todas estas filas.\n",
    "\n",
    "c. ¿Cuántas filas quedaron en su DataFrame después de la limpieza?"
   ]
  },
  {
   "cell_type": "code",
   "execution_count": null,
   "id": "42701a0f",
   "metadata": {},
   "outputs": [],
   "source": [
    "# a."
   ]
  },
  {
   "cell_type": "code",
   "execution_count": null,
   "id": "ec0365b8",
   "metadata": {},
   "outputs": [],
   "source": [
    "# b."
   ]
  },
  {
   "cell_type": "code",
   "execution_count": null,
   "id": "7d31342f",
   "metadata": {},
   "outputs": [],
   "source": [
    "# c."
   ]
  },
  {
   "cell_type": "markdown",
   "id": "1251b305",
   "metadata": {},
   "source": [
    "## 3. Transformación\n",
    "\n",
    "Aplique las siguientes transformaciones a su DataFrame:\n",
    "\n",
    "a. La columna `ts` (timestamp) muestra la fecha y hora de reproducción de la canción. Extraiga únicamente el año y agregue una nueva columna con este dato como número entero. ¿En qué año hubo más reproducciones?\n",
    "\n",
    "b. El dataset contiene canciones y episodios de podcasts. Genere una nueva columna (categórica o booleana) que identifique a cada fila como \"canción\" o \"episodio\" y explique cómo realizó esta clasificación. ¿Cuántas filas hay de cada una de estas categorías? \n",
    "\n",
    "c. Responda:\n",
    "¿Cuál es el podcast con mayor número de reproducciones en total?"
   ]
  },
  {
   "cell_type": "code",
   "execution_count": null,
   "id": "7f7831b6",
   "metadata": {},
   "outputs": [],
   "source": [
    "# a."
   ]
  },
  {
   "cell_type": "markdown",
   "id": "1b4b789c",
   "metadata": {},
   "source": [
    "El año con más reproducciones fue XXX."
   ]
  },
  {
   "cell_type": "code",
   "execution_count": null,
   "id": "51e9e606",
   "metadata": {},
   "outputs": [],
   "source": [
    "# b."
   ]
  },
  {
   "cell_type": "code",
   "execution_count": null,
   "id": "dcf14c7a",
   "metadata": {},
   "outputs": [],
   "source": [
    "# c."
   ]
  },
  {
   "cell_type": "markdown",
   "id": "7f8eb2f4",
   "metadata": {},
   "source": [
    "El podcast con más reproducciones es XXX, con YYY reproducciones."
   ]
  },
  {
   "cell_type": "markdown",
   "id": "5fb02bcd",
   "metadata": {},
   "source": [
    "## 4. Variables categóricas\n",
    "\n",
    "a. Las columnas `reason_start`y `reason_end` muestran, respectivamente, por qué se comenzó y se terminó la reproducción de una pista. Estas son columnas categóricas. Para ambas, muestre todas las categorías que aparecen en su dataset.\n",
    "¿Son las mismas? Comente.\n",
    "\n",
    "b. Vamos a crear una nueva columna llamada `skipped` (categórica o booleana), que identificará si la reproducción de la pista fue interrumpida intencionalmente por el usuario (saltada). Para esto, nos fijaremos en el valor de `reason_end` de cada fila. Considere una pista como \"skipped\" si su término está entre las siguientes categorías: `endplay`, `fwdbtn`, `backbtn`, y como \"not skipped\" en caso contrario.\n",
    "\n",
    "c. Finalmente, responda:\n",
    "¿Cuál es la canción más interrumpida (o saltada)? Responda con el nombre de la canción y el artista."
   ]
  },
  {
   "cell_type": "code",
   "execution_count": null,
   "id": "9ab82467",
   "metadata": {},
   "outputs": [],
   "source": [
    "# a."
   ]
  },
  {
   "cell_type": "code",
   "execution_count": null,
   "id": "088c1f6a",
   "metadata": {},
   "outputs": [],
   "source": [
    "# b."
   ]
  },
  {
   "cell_type": "code",
   "execution_count": null,
   "id": "5aa7a967",
   "metadata": {},
   "outputs": [],
   "source": [
    "# c."
   ]
  },
  {
   "cell_type": "markdown",
   "id": "588979a7",
   "metadata": {},
   "source": [
    "La canción más interrumpida por el usuario es XXX."
   ]
  },
  {
   "cell_type": "code",
   "execution_count": null,
   "id": "8e773962-a20b-450d-b853-7737e7b20a74",
   "metadata": {},
   "outputs": [],
   "source": []
  }
 ],
 "metadata": {
  "kernelspec": {
   "display_name": "Python 3 (ipykernel)",
   "language": "python",
   "name": "python3"
  },
  "language_info": {
   "codemirror_mode": {
    "name": "ipython",
    "version": 3
   },
   "file_extension": ".py",
   "mimetype": "text/x-python",
   "name": "python",
   "nbconvert_exporter": "python",
   "pygments_lexer": "ipython3",
   "version": "3.12.7"
  }
 },
 "nbformat": 4,
 "nbformat_minor": 5
}
