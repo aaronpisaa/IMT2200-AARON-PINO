{
 "cells": [
  {
   "cell_type": "markdown",
   "id": "d494f7b9",
   "metadata": {},
   "source": [
    "# <img style=\"float: left; padding-right: 20px; width: 200px\" src=\"https://raw.githubusercontent.com/raxlab/imt2200-data/main/media/logo.jpg\">  IMT 2200 - Introducción a Ciencia de Datos\n",
    "**Pontificia Universidad Católica de Chile**<br>\n",
    "**Instituto de Ingeniería Matemática y Computacional**<br>\n",
    "**Semestre 2025-S2**<br>\n",
    "**Profesor:** Rodrigo A. Carrasco <br>"
   ]
  },
  {
   "cell_type": "markdown",
   "id": "a6311079",
   "metadata": {},
   "source": [
    "# <h1><center>Actividad 04: Obteniendo Datos de la Web</center></h1>\n",
    "\n",
    "Esta actividad busca aplicar conocimientos sobre lectura de datos desde la web en distintos formatos (scrapping y APIs) para la creación de un dataset unificado."
   ]
  },
  {
   "cell_type": "markdown",
   "id": "8828ac66",
   "metadata": {},
   "source": [
    "## Instrucciones\n",
    "\n",
    "Este Notebook contiene las instrucciones a realizar para la actividad. \n",
    "\n",
    "<b>Al finalizarla, deben subir el Notebook y los archivos generados en un único archivo .zip, al módulo de la Actividad 04 en Canvas. Entregas posteriores al cierre de la actividad serán evaluadas con nota 1.0.</b>"
   ]
  },
  {
   "cell_type": "markdown",
   "id": "a2c54596",
   "metadata": {},
   "source": [
    "## Actividad\n",
    "\n",
    "Para esta actividad, queremos analizar la calidad del aire de las ciudades más pobladas del mundo. Para esto, realice los siguientes pasos:\n",
    "\n",
    "**1. Extraer datos con web scrapping y API**\n",
    "\n",
    "Vamos a extraer una lista de las ciudades más pobladas desde Wikipedia, específicamente en el siguiente URL:\n",
    "\n",
    "`URL_1 = https://en.wikipedia.org/wiki/List_of_largest_cities#List`\n",
    "\n",
    "Por otra parte, usaremos la [Open-Meteo API](https://open-meteo.com/). Este es un servicio open-source de meteorología que nos permitirá obtener datos como las coordenadas de una ciudad y sus parámetros climáticos, como la calidad del aire.\n",
    "\n",
    "* 1.1 Utilizando las librerías `requests`y `BeautifulSoup`, obtenga todas las filas y columnas de la tabla de Wikipedia de las ciudades más grandes del mundo y genere un DataFrame a partir de ellas. Su DataFrame debe contener como mínimo las siguientes columnas: ciudad, país y población estimada.\n",
    "\n",
    "* 1.2 Transforme la columna de población en valores numéricos y sólo deje las 20 mayores ciudades.\n",
    "\n",
    "**2. Llamada a la API**\n",
    "\n",
    "* 2.1 Ahora, utilizando `requests`, haga un llamado al siguiente URL de la API de Open-Meteo, reemplazando el valor `CIUDAD` con cada uno de los nombres de las ciudades de su DataFrame:\n",
    "\n",
    "`URL_2 = https://geocoding-api.open-meteo.com/v1/search?name={CIUDAD}&count=1&language=en&format=json`\n",
    "\n",
    "Haga una copia de su DataFrame anterior. En esta copia, agregue dos columnas nuevas y guarde los valores obtenidos de latitud y longitud (sin modificar el DataFrame original).\n",
    "\n",
    "* 2.2 Con los datos de las coordenadas, podemos acceder a información sobre la calidad del aire actual disponible con Open-Meteo. Nuevamente, para todas las ciudades, utilice el URL dado para obtener el índices de calidad del aire (usaremos el europeo) y la cantidad de partículas en suspensión.\n",
    "\n",
    "`URL_3 = https://air-quality-api.open-meteo.com/v1/air-quality?latitude={LAT}&longitude={LON}&current=european_aqi,pm10,pm2_5`\n",
    "\n",
    "Guarde los valores obtenidos en nuevas columnas del mismo DataFrame.\n",
    "\n",
    "* 2.3 En la documentación de Open-Meteo ([aquí](https://open-meteo.com/en/docs/air-quality-api)), podemos ver el significado de los valores del índice European AQI. Utilizando la función `aqi2str()` entregada, genere una nueva columna `Air Quality` (string) a partir de los valores que obtuvo mediante la API.\n",
    "\n",
    "* 2.4 Revise los valores obtenidos. ¿Tienen sentido? Si hay valores que considere inválidos o \"outliers\" (extremadamente altos), descártelos del dataset.\n",
    "\n",
    "**3. Visualización**\n",
    "\n",
    "Vamos a generar dos visualizaciones a partir de las ciudades con las que hemos trabajado. Para esto, usaremos una nueva librería de visualización llamada `plotly.express`. Plotly permite generar gráficos interactivos, con tooltips donde podemos mostrar información adicional de nuestro DataFrame, lo cual los hace muy convenientes para la exploración de un dataset.\n",
    "\n",
    "Lea y complete el código entregado con los valores de su DataFrame. Ejecute las celdas y responda:\n",
    "\n",
    "* Entre las ciudades más pobladas, ¿cuál es la calidad de aire más común?\n",
    "\n",
    "* ¿Cómo es la relación entre tamaño de población y calidad del aire de las ciudades?\n",
    "\n",
    "* ¿Hay algún lugar del mundo donde se vea una mayor concentración de grandes ciudades? Si la hay, ¿cómo es la calidad del aire en estas zonas?"
   ]
  },
  {
   "cell_type": "markdown",
   "id": "f66e4487",
   "metadata": {},
   "source": [
    "## Rúbrica\n",
    "\n",
    "- Si han hecho todo y sólo hay errores menores: 7.0\n",
    "- Si sólo llegaron hasta la parte 2.1: 5.0\n",
    "- Menos que eso: 1.0"
   ]
  },
  {
   "cell_type": "markdown",
   "id": "55e1852f",
   "metadata": {},
   "source": [
    "### 0. Algunas librerías\n",
    "\n",
    "Las siguientes son algunas de las librerías que recomendamos usar para esta Actividad. Puede agregar más si lo requiere."
   ]
  },
  {
   "cell_type": "code",
   "execution_count": null,
   "id": "80b53488",
   "metadata": {},
   "outputs": [],
   "source": [
    "import requests\n",
    "from bs4 import BeautifulSoup\n",
    "import pandas as pd"
   ]
  },
  {
   "cell_type": "markdown",
   "id": "c018a273",
   "metadata": {},
   "source": [
    "### 1. Extraer datos\n",
    "\n",
    "#### 1.1 Respuesta:"
   ]
  },
  {
   "cell_type": "code",
   "execution_count": null,
   "id": "f619eb2d",
   "metadata": {},
   "outputs": [],
   "source": [
    "# 1.1"
   ]
  },
  {
   "cell_type": "markdown",
   "id": "8adce0ca",
   "metadata": {},
   "source": [
    "#### 1.2 Respuesta:"
   ]
  },
  {
   "cell_type": "code",
   "execution_count": null,
   "id": "048d300f",
   "metadata": {},
   "outputs": [],
   "source": [
    "# 1.2"
   ]
  },
  {
   "cell_type": "markdown",
   "id": "3f614f5e",
   "metadata": {},
   "source": [
    "### 2. Uso de API\n",
    "\n",
    "#### 2.1 Respuesta:"
   ]
  },
  {
   "cell_type": "code",
   "execution_count": null,
   "id": "2062158b",
   "metadata": {},
   "outputs": [],
   "source": [
    "# 2.1"
   ]
  },
  {
   "cell_type": "markdown",
   "id": "b4e0992f",
   "metadata": {},
   "source": [
    "#### 2.2 Respuesta:"
   ]
  },
  {
   "cell_type": "code",
   "execution_count": null,
   "id": "918ae07b",
   "metadata": {},
   "outputs": [],
   "source": [
    "# 2.2"
   ]
  },
  {
   "cell_type": "markdown",
   "id": "8d25c607",
   "metadata": {},
   "source": [
    "#### 2.3 Respuesta:"
   ]
  },
  {
   "cell_type": "code",
   "execution_count": null,
   "id": "7faf7d7f",
   "metadata": {},
   "outputs": [],
   "source": [
    "# ==== CODIGO ENTREGADO - NO MODIFICAR ====\n",
    "air_quality = {\n",
    "    \"Good\": [0, 20],\n",
    "    \"Fair\": [20, 40],\n",
    "    \"Moderate\": [40, 60],\n",
    "    \"Poor\": [60, 80],\n",
    "    \"Very Poor\": [80, 100],\n",
    "    \"Extremely Poor\": [100, float('inf')]\n",
    "}\n",
    "\n",
    "def aqi2str(aqi):\n",
    "    for key, (low, high) in air_quality.items():\n",
    "        if low <= aqi < high:\n",
    "            return key\n",
    "    return \"Unknown\""
   ]
  },
  {
   "cell_type": "code",
   "execution_count": null,
   "id": "ae73bd84",
   "metadata": {},
   "outputs": [],
   "source": [
    "# 2.3"
   ]
  },
  {
   "cell_type": "markdown",
   "id": "4fb8051b",
   "metadata": {},
   "source": [
    "#### 2.4 Respuesta:"
   ]
  },
  {
   "cell_type": "code",
   "execution_count": null,
   "id": "c0d88930",
   "metadata": {},
   "outputs": [],
   "source": [
    "# 2.4"
   ]
  },
  {
   "cell_type": "markdown",
   "id": "d255a1a9",
   "metadata": {},
   "source": [
    "### 3. Visualizar datos"
   ]
  },
  {
   "cell_type": "markdown",
   "id": "56caa84b",
   "metadata": {},
   "source": [
    "* ¿Cómo son los valores de calidad de aire para las ciudades más pobladas? ¿Cuál es lo más común?\n",
    "\n",
    "* ¿Cómo es la relación entre tamaño de población y calidad del aire de una ciudad?\n",
    "\n",
    "* ¿Hay algún lugar del mundo donde se vea una mayor concentración de grandes ciudades? Si la hay, ¿cómo es la calidad del aire?"
   ]
  },
  {
   "cell_type": "code",
   "execution_count": null,
   "id": "98a8ce45",
   "metadata": {},
   "outputs": [],
   "source": [
    "# Figura 1: Barplot de calidad del aire\n",
    "import plotly.express as px\n",
    "\n",
    "by_quality = new_df.groupby('Air Quality').size().reset_index(name='Count')\n",
    "\n",
    "fig = px.bar(by_quality,\n",
    "            x='Air Quality',\n",
    "            y='Count',\n",
    "            title=\"Calidad del aire de 80 ciudades más pobladas del mundo\",\n",
    "            labels={\n",
    "                \"Count\": \"Cantidad de ciudades\",\n",
    "                \"Air Quality\": \"Calidad del aire\"\n",
    "            },\n",
    "            color='Air Quality')\n",
    "\n",
    "fig.update_layout(\n",
    "    height=400,\n",
    "    width=900,\n",
    ")\n",
    "fig.update_xaxes(categoryorder='array',\n",
    "                 categoryarray= [\"Good\", \"Fair\", \"Moderate\", \"Poor\", \"Very Poor\", \"Extremely Poor\"]\n",
    ")\n",
    "fig.show()"
   ]
  },
  {
   "cell_type": "markdown",
   "id": "2b2dd70f",
   "metadata": {},
   "source": [
    "#### Respuesta:"
   ]
  },
  {
   "cell_type": "code",
   "execution_count": null,
   "id": "75040b38",
   "metadata": {},
   "outputs": [],
   "source": [
    "# Figura 2: Scattermap entre población y calidad del aire\n",
    "\n",
    "fig = px.scatter(df_filtered,\n",
    "                 x=\"Population\",\n",
    "                 y=\"eu_aqi\",\n",
    "                 title=\"Relación entre población y calidad del aire\",\n",
    "                 labels={\n",
    "                     \"Population\": \"Población\",\n",
    "                     \"eu_aqi\": \"Calidad del aire (EU AQI)\"\n",
    "                    },\n",
    "                    hover_data={\n",
    "                        \"City\": True,\n",
    "                        \"Country\": True,\n",
    "                        \"Population\": True,\n",
    "                        \"eu_aqi\": True,\n",
    "                        \"Air Quality\": True\n",
    "                        }\n",
    "                )\n",
    "\n",
    "fig.update_layout(\n",
    "    height=500,\n",
    "    width=900,\n",
    ")"
   ]
  },
  {
   "cell_type": "markdown",
   "id": "c9dfe058",
   "metadata": {},
   "source": [
    "#### Respuesta:"
   ]
  },
  {
   "cell_type": "code",
   "execution_count": null,
   "id": "ea8540d2",
   "metadata": {},
   "outputs": [],
   "source": [
    "# Figura 3: Mapa mundial de ciudades más pobladas\n",
    "\n",
    "fig = px.scatter_geo(data_frame=df_filtered, # Su dataframe\n",
    "                    lat='lat', # Columna de latitud\n",
    "                    lon='lon', # Columna de longitud\n",
    "                    color='eu_aqi', # Columna que representa el color de los puntos\n",
    "                    hover_name='City', # Columna para el titulo del tooltip\n",
    "                    projection=\"natural earth\",\n",
    "                    color_continuous_scale=px.colors.sequential.Inferno_r,\n",
    "                    title=\"Calidad del aire de ciudades más pobladas\", # Titulo del grafico\n",
    "                    hover_data={\n",
    "                        # Qué columnas mostrar en el tooltip\n",
    "                        \"Country\": True,\n",
    "                        \"eu_aqi\": True,\n",
    "                        \"Air Quality\": True\n",
    "                        # Puede agregar otras...\n",
    "                    },\n",
    "                )\n",
    "\n",
    "fig.update_layout(\n",
    "    margin={\"r\":0,\"t\":50,\"l\":0,\"b\":0}, # Márgenes del gráfico\n",
    "    height=600, # Altura del gráfico\n",
    "    width=800, # Ancho del gráfico\n",
    ")\n",
    "fig.update_traces(\n",
    "    marker=dict(size=10), # Tamaño de los puntos\n",
    ")\n",
    "fig.show()"
   ]
  },
  {
   "cell_type": "markdown",
   "id": "0b0333eb",
   "metadata": {},
   "source": [
    "#### Respuesta:"
   ]
  },
  {
   "cell_type": "code",
   "execution_count": null,
   "id": "30494d62",
   "metadata": {},
   "outputs": [],
   "source": []
  }
 ],
 "metadata": {
  "kernelspec": {
   "display_name": "Python 3 (ipykernel)",
   "language": "python",
   "name": "python3"
  },
  "language_info": {
   "codemirror_mode": {
    "name": "ipython",
    "version": 3
   },
   "file_extension": ".py",
   "mimetype": "text/x-python",
   "name": "python",
   "nbconvert_exporter": "python",
   "pygments_lexer": "ipython3",
   "version": "3.12.7"
  }
 },
 "nbformat": 4,
 "nbformat_minor": 5
}
