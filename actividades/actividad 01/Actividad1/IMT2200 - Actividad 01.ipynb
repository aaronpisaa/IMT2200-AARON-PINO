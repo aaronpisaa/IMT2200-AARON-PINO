{
 "cells": [
  {
   "cell_type": "markdown",
   "id": "dc695dd9",
   "metadata": {},
   "source": [
    "# <img style=\"float: left; padding-right: 20px; width: 200px\" src=\"https://raw.githubusercontent.com/raxlab/imt2200-data/main/media/logo.jpg\">  IMT 2200 - Introducción a Ciencia de Datos\n",
    "**Pontificia Universidad Católica de Chile**<br>\n",
    "**Instituto de Ingeniería Matemática y Computacional**<br>\n",
    "**Semestre 2025-S2**<br>\n",
    "**Profesor:** Rodrigo A. Carrasco <br>"
   ]
  },
  {
   "cell_type": "markdown",
   "id": "6c6c9ee9",
   "metadata": {},
   "source": [
    "# <h1><center>Actividad 01: Herramientas Computacionales para Ciencia de Datos </center></h1>\n",
    "    \n",
    "## 1. Objetivos de la Actividad\n",
    "\n",
    "Esta Actividad tiene como objetivo probar el ambiente de programación de cada estudiante, la instalación de librerías de Python. El segundo objetivo es aprender a usar GitHub, a configurar su repositorio, y entregar la actividad."
   ]
  },
  {
   "cell_type": "markdown",
   "id": "2fc7c8be",
   "metadata": {},
   "source": [
    "## 2. Módulos de Python\n",
    "\n",
    "### 2.1 Importar módulos\n",
    "\n",
    "Se recomienda comenzar con la importación de módulos o librerías de funciones para distintos usos, o partes de una libreria\n",
    "Para facilitar la referencia a librerías en el resto del código, se acostumbra asignarles un alias. La sintaxis general a usar para importar un módulo es:\n",
    "\n",
    "``import NOMBRE_MODULO as ALIAS_MODULO``\n",
    "o\n",
    "``from NOMBRE_MODULO import FUNCION``"
   ]
  },
  {
   "cell_type": "code",
   "execution_count": 1,
   "id": "cdbb598f",
   "metadata": {
    "ExecuteTime": {
     "end_time": "2025-08-12T12:30:35.980680Z",
     "start_time": "2025-08-12T12:30:33.365471Z"
    }
   },
   "outputs": [],
   "source": [
    "#Importación de librerías: importe las siguientes librerías, usando alias comunes: numpy, pandas, geopandas\n",
    "import numpy as np\n",
    "import pandas as pd\n",
    "import geopandas as gpd\n",
    "import matplotlib.pyplot as plt"
   ]
  },
  {
   "cell_type": "markdown",
   "id": "dd824ef0",
   "metadata": {},
   "source": [
    "## 3. Ejercicio: Inspección de Datos del Censo 2017\n",
    "El código a continuación permite descargar, leer, hacer algunos cálculos básicos y visualizar los datos de población del censo chileno de 2017 para la región metropolitana.\n",
    "En este notebook, ud. sólo debe ejecutar las celdas de código a continuación, hasta generar una figura con la distribución de población total por manzana censal en la RM. Como demostración de la ejecución exitosa del código, debe subir este notebook y la figura final a su repositorio de Github."
   ]
  },
  {
   "cell_type": "code",
   "execution_count": 3,
   "id": "9cab2874",
   "metadata": {
    "ExecuteTime": {
     "end_time": "2025-08-12T12:30:57.188830Z",
     "start_time": "2025-08-12T12:30:55.838238Z"
    }
   },
   "outputs": [
    {
     "data": {
      "text/html": [
       "<div>\n",
       "<style scoped>\n",
       "    .dataframe tbody tr th:only-of-type {\n",
       "        vertical-align: middle;\n",
       "    }\n",
       "\n",
       "    .dataframe tbody tr th {\n",
       "        vertical-align: top;\n",
       "    }\n",
       "\n",
       "    .dataframe thead th {\n",
       "        text-align: right;\n",
       "    }\n",
       "</style>\n",
       "<table border=\"1\" class=\"dataframe\">\n",
       "  <thead>\n",
       "    <tr style=\"text-align: right;\">\n",
       "      <th></th>\n",
       "      <th>REGION</th>\n",
       "      <th>PROVINCIA</th>\n",
       "      <th>COMUNA</th>\n",
       "      <th>DC</th>\n",
       "      <th>AREA</th>\n",
       "      <th>ZC_LOC</th>\n",
       "      <th>MZ_ENT</th>\n",
       "      <th>ID_ZONA_LOC</th>\n",
       "      <th>ID_MANZENT</th>\n",
       "      <th>PERSONAS</th>\n",
       "      <th>...</th>\n",
       "      <th>MATREC</th>\n",
       "      <th>MATIRREC</th>\n",
       "      <th>P05_1</th>\n",
       "      <th>P05_2</th>\n",
       "      <th>P05_3</th>\n",
       "      <th>P05_4</th>\n",
       "      <th>REGION_15R</th>\n",
       "      <th>PROVINCIA_15R</th>\n",
       "      <th>COMUNA_15R</th>\n",
       "      <th>ID_MANZENT_15R</th>\n",
       "    </tr>\n",
       "  </thead>\n",
       "  <tbody>\n",
       "    <tr>\n",
       "      <th>0</th>\n",
       "      <td>1</td>\n",
       "      <td>11</td>\n",
       "      <td>1101</td>\n",
       "      <td>1</td>\n",
       "      <td>1</td>\n",
       "      <td>1</td>\n",
       "      <td>1</td>\n",
       "      <td>7849</td>\n",
       "      <td>1101011001001</td>\n",
       "      <td>15</td>\n",
       "      <td>...</td>\n",
       "      <td>0</td>\n",
       "      <td>0</td>\n",
       "      <td>0</td>\n",
       "      <td>0</td>\n",
       "      <td>0</td>\n",
       "      <td>0</td>\n",
       "      <td>1</td>\n",
       "      <td>11</td>\n",
       "      <td>1101</td>\n",
       "      <td>1101011001001</td>\n",
       "    </tr>\n",
       "    <tr>\n",
       "      <th>1</th>\n",
       "      <td>1</td>\n",
       "      <td>11</td>\n",
       "      <td>1101</td>\n",
       "      <td>1</td>\n",
       "      <td>1</td>\n",
       "      <td>1</td>\n",
       "      <td>10</td>\n",
       "      <td>7849</td>\n",
       "      <td>1101011001010</td>\n",
       "      <td>70</td>\n",
       "      <td>...</td>\n",
       "      <td>1</td>\n",
       "      <td>0</td>\n",
       "      <td>15</td>\n",
       "      <td>0</td>\n",
       "      <td>0</td>\n",
       "      <td>0</td>\n",
       "      <td>1</td>\n",
       "      <td>11</td>\n",
       "      <td>1101</td>\n",
       "      <td>1101011001010</td>\n",
       "    </tr>\n",
       "    <tr>\n",
       "      <th>2</th>\n",
       "      <td>1</td>\n",
       "      <td>11</td>\n",
       "      <td>1101</td>\n",
       "      <td>1</td>\n",
       "      <td>1</td>\n",
       "      <td>1</td>\n",
       "      <td>11</td>\n",
       "      <td>7849</td>\n",
       "      <td>1101011001011</td>\n",
       "      <td>36</td>\n",
       "      <td>...</td>\n",
       "      <td>5</td>\n",
       "      <td>0</td>\n",
       "      <td>15</td>\n",
       "      <td>0</td>\n",
       "      <td>0</td>\n",
       "      <td>0</td>\n",
       "      <td>1</td>\n",
       "      <td>11</td>\n",
       "      <td>1101</td>\n",
       "      <td>1101011001011</td>\n",
       "    </tr>\n",
       "    <tr>\n",
       "      <th>3</th>\n",
       "      <td>1</td>\n",
       "      <td>11</td>\n",
       "      <td>1101</td>\n",
       "      <td>1</td>\n",
       "      <td>1</td>\n",
       "      <td>1</td>\n",
       "      <td>12</td>\n",
       "      <td>7849</td>\n",
       "      <td>1101011001012</td>\n",
       "      <td>65</td>\n",
       "      <td>...</td>\n",
       "      <td>9</td>\n",
       "      <td>4</td>\n",
       "      <td>24</td>\n",
       "      <td>0</td>\n",
       "      <td>0</td>\n",
       "      <td>0</td>\n",
       "      <td>1</td>\n",
       "      <td>11</td>\n",
       "      <td>1101</td>\n",
       "      <td>1101011001012</td>\n",
       "    </tr>\n",
       "    <tr>\n",
       "      <th>4</th>\n",
       "      <td>1</td>\n",
       "      <td>11</td>\n",
       "      <td>1101</td>\n",
       "      <td>1</td>\n",
       "      <td>1</td>\n",
       "      <td>1</td>\n",
       "      <td>13</td>\n",
       "      <td>7849</td>\n",
       "      <td>1101011001013</td>\n",
       "      <td>39</td>\n",
       "      <td>...</td>\n",
       "      <td>0</td>\n",
       "      <td>0</td>\n",
       "      <td>9</td>\n",
       "      <td>0</td>\n",
       "      <td>0</td>\n",
       "      <td>0</td>\n",
       "      <td>1</td>\n",
       "      <td>11</td>\n",
       "      <td>1101</td>\n",
       "      <td>1101011001013</td>\n",
       "    </tr>\n",
       "  </tbody>\n",
       "</table>\n",
       "<p>5 rows × 59 columns</p>\n",
       "</div>"
      ],
      "text/plain": [
       "   REGION  PROVINCIA  COMUNA  DC  AREA  ZC_LOC  MZ_ENT  ID_ZONA_LOC  \\\n",
       "0       1         11    1101   1     1       1       1         7849   \n",
       "1       1         11    1101   1     1       1      10         7849   \n",
       "2       1         11    1101   1     1       1      11         7849   \n",
       "3       1         11    1101   1     1       1      12         7849   \n",
       "4       1         11    1101   1     1       1      13         7849   \n",
       "\n",
       "      ID_MANZENT  PERSONAS  ... MATREC MATIRREC P05_1 P05_2 P05_3 P05_4  \\\n",
       "0  1101011001001        15  ...      0        0     0     0     0     0   \n",
       "1  1101011001010        70  ...      1        0    15     0     0     0   \n",
       "2  1101011001011        36  ...      5        0    15     0     0     0   \n",
       "3  1101011001012        65  ...      9        4    24     0     0     0   \n",
       "4  1101011001013        39  ...      0        0     9     0     0     0   \n",
       "\n",
       "  REGION_15R PROVINCIA_15R  COMUNA_15R  ID_MANZENT_15R  \n",
       "0          1            11        1101   1101011001001  \n",
       "1          1            11        1101   1101011001010  \n",
       "2          1            11        1101   1101011001011  \n",
       "3          1            11        1101   1101011001012  \n",
       "4          1            11        1101   1101011001013  \n",
       "\n",
       "[5 rows x 59 columns]"
      ]
     },
     "execution_count": 3,
     "metadata": {},
     "output_type": "execute_result"
    }
   ],
   "source": [
    "#Leer archivo enun DataFrame\n",
    "dat=pd.read_csv('Censo2017_Manzanas.csv',delimiter=';')\n",
    "\n",
    "#Visualizar las primeras lineas\n",
    "dat.head()"
   ]
  },
  {
   "cell_type": "code",
   "execution_count": 6,
   "id": "d4dae948",
   "metadata": {
    "ExecuteTime": {
     "end_time": "2025-08-12T02:49:01.173849Z",
     "start_time": "2025-08-12T02:49:00.930357Z"
    }
   },
   "outputs": [
    {
     "name": "stdout",
     "output_type": "stream",
     "text": [
      "<class 'pandas.core.frame.DataFrame'>\n",
      "RangeIndex: 180499 entries, 0 to 180498\n",
      "Data columns (total 59 columns):\n",
      " #   Column          Non-Null Count   Dtype \n",
      "---  ------          --------------   ----- \n",
      " 0   REGION          180499 non-null  int64 \n",
      " 1   PROVINCIA       180499 non-null  int64 \n",
      " 2   COMUNA          180499 non-null  int64 \n",
      " 3   DC              180499 non-null  int64 \n",
      " 4   AREA            180499 non-null  int64 \n",
      " 5   ZC_LOC          180499 non-null  int64 \n",
      " 6   MZ_ENT          180499 non-null  int64 \n",
      " 7   ID_ZONA_LOC     180499 non-null  int64 \n",
      " 8   ID_MANZENT      180499 non-null  int64 \n",
      " 9   PERSONAS        180499 non-null  int64 \n",
      " 10  HOMBRES         180499 non-null  object\n",
      " 11  MUJERES         180499 non-null  object\n",
      " 12  EDAD_0A5        180499 non-null  object\n",
      " 13  EDAD_6A14       180499 non-null  object\n",
      " 14  EDAD_15A64      180499 non-null  object\n",
      " 15  EDAD_65YMAS     180499 non-null  object\n",
      " 16  INMIGRANTES     180499 non-null  object\n",
      " 17  PUEBLO          180499 non-null  object\n",
      " 18  VIV_PART        180499 non-null  int64 \n",
      " 19  VIV_COL         180499 non-null  int64 \n",
      " 20  VPOMP           180499 non-null  int64 \n",
      " 21  TOTAL_VIV       180499 non-null  int64 \n",
      " 22  CANT_HOG        180499 non-null  int64 \n",
      " 23  P01_1           180499 non-null  int64 \n",
      " 24  P01_2           180499 non-null  int64 \n",
      " 25  P01_3           180499 non-null  int64 \n",
      " 26  P01_4           180499 non-null  int64 \n",
      " 27  P01_5           180499 non-null  int64 \n",
      " 28  P01_6           180499 non-null  int64 \n",
      " 29  P01_7           180499 non-null  int64 \n",
      " 30  P03A_1          180499 non-null  int64 \n",
      " 31  P03A_2          180499 non-null  int64 \n",
      " 32  P03A_3          180499 non-null  int64 \n",
      " 33  P03A_4          180499 non-null  int64 \n",
      " 34  P03A_5          180499 non-null  int64 \n",
      " 35  P03A_6          180499 non-null  int64 \n",
      " 36  P03B_1          180499 non-null  int64 \n",
      " 37  P03B_2          180499 non-null  int64 \n",
      " 38  P03B_3          180499 non-null  int64 \n",
      " 39  P03B_4          180499 non-null  int64 \n",
      " 40  P03B_5          180499 non-null  int64 \n",
      " 41  P03B_6          180499 non-null  int64 \n",
      " 42  P03B_7          180499 non-null  int64 \n",
      " 43  P03C_1          180499 non-null  int64 \n",
      " 44  P03C_2          180499 non-null  int64 \n",
      " 45  P03C_3          180499 non-null  int64 \n",
      " 46  P03C_4          180499 non-null  int64 \n",
      " 47  P03C_5          180499 non-null  int64 \n",
      " 48  MATACEP         180499 non-null  int64 \n",
      " 49  MATREC          180499 non-null  int64 \n",
      " 50  MATIRREC        180499 non-null  int64 \n",
      " 51  P05_1           180499 non-null  int64 \n",
      " 52  P05_2           180499 non-null  int64 \n",
      " 53  P05_3           180499 non-null  int64 \n",
      " 54  P05_4           180499 non-null  int64 \n",
      " 55  REGION_15R      180499 non-null  int64 \n",
      " 56  PROVINCIA_15R   180499 non-null  int64 \n",
      " 57  COMUNA_15R      180499 non-null  int64 \n",
      " 58  ID_MANZENT_15R  180499 non-null  int64 \n",
      "dtypes: int64(51), object(8)\n",
      "memory usage: 81.2+ MB\n"
     ]
    }
   ],
   "source": [
    "dat.info()"
   ]
  },
  {
   "cell_type": "markdown",
   "id": "aa08b4b3",
   "metadata": {},
   "source": [
    "### Pregunta: ¿Cuál era la población total de Chile en 2017?\n",
    "\n",
    "Para responderla podemos hacer un cálculo sencillo y sumar todos los datos de la columna `PERSONAS`:"
   ]
  },
  {
   "cell_type": "code",
   "execution_count": 9,
   "id": "8682d719",
   "metadata": {
    "ExecuteTime": {
     "end_time": "2025-08-12T02:49:11.754899Z",
     "start_time": "2025-08-12T02:49:11.747450Z"
    }
   },
   "outputs": [
    {
     "name": "stdout",
     "output_type": "stream",
     "text": [
      "Población total en 2017: 17574003\n"
     ]
    }
   ],
   "source": [
    "#Total de población\n",
    "total_pop=dat['PERSONAS'].sum()\n",
    "print(f'Población total en 2017: {total_pop}')"
   ]
  },
  {
   "cell_type": "markdown",
   "id": "e55e4d7a",
   "metadata": {},
   "source": [
    "También podemos usar algunas funciones más avanzadas de `pandas`para analizar la distribución de personas por región y edad:"
   ]
  },
  {
   "cell_type": "code",
   "execution_count": 12,
   "id": "96b2df47",
   "metadata": {
    "ExecuteTime": {
     "end_time": "2025-08-12T02:49:17.561407Z",
     "start_time": "2025-08-12T02:49:16.382407Z"
    }
   },
   "outputs": [
    {
     "data": {
      "text/html": [
       "<div>\n",
       "<style scoped>\n",
       "    .dataframe tbody tr th:only-of-type {\n",
       "        vertical-align: middle;\n",
       "    }\n",
       "\n",
       "    .dataframe tbody tr th {\n",
       "        vertical-align: top;\n",
       "    }\n",
       "\n",
       "    .dataframe thead th {\n",
       "        text-align: right;\n",
       "    }\n",
       "</style>\n",
       "<table border=\"1\" class=\"dataframe\">\n",
       "  <thead>\n",
       "    <tr style=\"text-align: right;\">\n",
       "      <th></th>\n",
       "      <th>EDAD_0A5</th>\n",
       "      <th>EDAD_15A64</th>\n",
       "      <th>EDAD_65YMAS</th>\n",
       "      <th>EDAD_6A14</th>\n",
       "    </tr>\n",
       "    <tr>\n",
       "      <th>REGION</th>\n",
       "      <th></th>\n",
       "      <th></th>\n",
       "      <th></th>\n",
       "      <th></th>\n",
       "    </tr>\n",
       "  </thead>\n",
       "  <tbody>\n",
       "    <tr>\n",
       "      <th>1</th>\n",
       "      <td>27089.0</td>\n",
       "      <td>225991.0</td>\n",
       "      <td>22784.0</td>\n",
       "      <td>42860.0</td>\n",
       "    </tr>\n",
       "    <tr>\n",
       "      <th>2</th>\n",
       "      <td>40763.0</td>\n",
       "      <td>427746.0</td>\n",
       "      <td>40299.0</td>\n",
       "      <td>70497.0</td>\n",
       "    </tr>\n",
       "    <tr>\n",
       "      <th>3</th>\n",
       "      <td>18862.0</td>\n",
       "      <td>188979.0</td>\n",
       "      <td>23711.0</td>\n",
       "      <td>33304.0</td>\n",
       "    </tr>\n",
       "    <tr>\n",
       "      <th>4</th>\n",
       "      <td>49130.0</td>\n",
       "      <td>498186.0</td>\n",
       "      <td>77212.0</td>\n",
       "      <td>83390.0</td>\n",
       "    </tr>\n",
       "    <tr>\n",
       "      <th>5</th>\n",
       "      <td>110371.0</td>\n",
       "      <td>1212273.0</td>\n",
       "      <td>222900.0</td>\n",
       "      <td>176235.0</td>\n",
       "    </tr>\n",
       "    <tr>\n",
       "      <th>6</th>\n",
       "      <td>58426.0</td>\n",
       "      <td>609723.0</td>\n",
       "      <td>96677.0</td>\n",
       "      <td>100364.0</td>\n",
       "    </tr>\n",
       "    <tr>\n",
       "      <th>7</th>\n",
       "      <td>62106.0</td>\n",
       "      <td>695161.0</td>\n",
       "      <td>111206.0</td>\n",
       "      <td>108436.0</td>\n",
       "    </tr>\n",
       "    <tr>\n",
       "      <th>8</th>\n",
       "      <td>98184.0</td>\n",
       "      <td>1049723.0</td>\n",
       "      <td>164977.0</td>\n",
       "      <td>166678.0</td>\n",
       "    </tr>\n",
       "    <tr>\n",
       "      <th>9</th>\n",
       "      <td>57165.0</td>\n",
       "      <td>629746.0</td>\n",
       "      <td>103612.0</td>\n",
       "      <td>99561.0</td>\n",
       "    </tr>\n",
       "    <tr>\n",
       "      <th>10</th>\n",
       "      <td>47403.0</td>\n",
       "      <td>555544.0</td>\n",
       "      <td>78907.0</td>\n",
       "      <td>90394.0</td>\n",
       "    </tr>\n",
       "    <tr>\n",
       "      <th>11</th>\n",
       "      <td>5684.0</td>\n",
       "      <td>67980.0</td>\n",
       "      <td>7017.0</td>\n",
       "      <td>12061.0</td>\n",
       "    </tr>\n",
       "    <tr>\n",
       "      <th>12</th>\n",
       "      <td>8029.0</td>\n",
       "      <td>112754.0</td>\n",
       "      <td>16636.0</td>\n",
       "      <td>15331.0</td>\n",
       "    </tr>\n",
       "    <tr>\n",
       "      <th>13</th>\n",
       "      <td>498778.0</td>\n",
       "      <td>4953736.0</td>\n",
       "      <td>731246.0</td>\n",
       "      <td>759246.0</td>\n",
       "    </tr>\n",
       "    <tr>\n",
       "      <th>14</th>\n",
       "      <td>21771.0</td>\n",
       "      <td>255977.0</td>\n",
       "      <td>41598.0</td>\n",
       "      <td>39097.0</td>\n",
       "    </tr>\n",
       "    <tr>\n",
       "      <th>15</th>\n",
       "      <td>16207.0</td>\n",
       "      <td>151468.0</td>\n",
       "      <td>22560.0</td>\n",
       "      <td>26333.0</td>\n",
       "    </tr>\n",
       "    <tr>\n",
       "      <th>16</th>\n",
       "      <td>26815.0</td>\n",
       "      <td>317668.0</td>\n",
       "      <td>56137.0</td>\n",
       "      <td>48137.0</td>\n",
       "    </tr>\n",
       "  </tbody>\n",
       "</table>\n",
       "</div>"
      ],
      "text/plain": [
       "        EDAD_0A5  EDAD_15A64  EDAD_65YMAS  EDAD_6A14\n",
       "REGION                                              \n",
       "1        27089.0    225991.0      22784.0    42860.0\n",
       "2        40763.0    427746.0      40299.0    70497.0\n",
       "3        18862.0    188979.0      23711.0    33304.0\n",
       "4        49130.0    498186.0      77212.0    83390.0\n",
       "5       110371.0   1212273.0     222900.0   176235.0\n",
       "6        58426.0    609723.0      96677.0   100364.0\n",
       "7        62106.0    695161.0     111206.0   108436.0\n",
       "8        98184.0   1049723.0     164977.0   166678.0\n",
       "9        57165.0    629746.0     103612.0    99561.0\n",
       "10       47403.0    555544.0      78907.0    90394.0\n",
       "11        5684.0     67980.0       7017.0    12061.0\n",
       "12        8029.0    112754.0      16636.0    15331.0\n",
       "13      498778.0   4953736.0     731246.0   759246.0\n",
       "14       21771.0    255977.0      41598.0    39097.0\n",
       "15       16207.0    151468.0      22560.0    26333.0\n",
       "16       26815.0    317668.0      56137.0    48137.0"
      ]
     },
     "execution_count": 12,
     "metadata": {},
     "output_type": "execute_result"
    }
   ],
   "source": [
    "#Distribución por edad y género\n",
    "cols=['EDAD_0A5','EDAD_6A14','EDAD_15A64','EDAD_65YMAS']\n",
    "for col in cols:\n",
    "    dat[col]=dat[col].replace('*',0).astype(float)\n",
    "    \n",
    "pv=pd.pivot_table(dat, index='REGION', values=cols, aggfunc='sum', margins=False)\n",
    "pv"
   ]
  },
  {
   "cell_type": "markdown",
   "id": "c1c3b172",
   "metadata": {},
   "source": [
    "Y podemos graficar la cantidad por región:"
   ]
  },
  {
   "cell_type": "code",
   "execution_count": 14,
   "id": "96d7dd53",
   "metadata": {
    "ExecuteTime": {
     "end_time": "2025-08-12T02:49:26.466505Z",
     "start_time": "2025-08-12T02:49:24.223322Z"
    },
    "scrolled": true
   },
   "outputs": [
    {
     "data": {
      "image/png": "[encoded data removed]",
      "text/plain": [
       "<Figure size 1100x300 with 1 Axes>"
      ]
     },
     "metadata": {},
     "output_type": "display_data"
    }
   ],
   "source": [
    "fig = plt.figure(figsize=(11,3))\n",
    "ax = fig.add_subplot(111)\n",
    "ax.set_ylabel('Número de personas')\n",
    "fig.suptitle('Distribución de población por Edad y Región (Chile, Censo 2017)')\n",
    "pv.plot(kind='bar', ax =ax);"
   ]
  },
  {
   "cell_type": "markdown",
   "id": "954d2860",
   "metadata": {},
   "source": [
    "## 4. Creación de un Mapa con información del Censo\n",
    "\n",
    "A continuación usaremos librerías de geopandas para conectar un mapa de la Región Metropolitana con datos del Censo de 2017."
   ]
  },
  {
   "cell_type": "code",
   "execution_count": 17,
   "id": "51ee7bab",
   "metadata": {
    "ExecuteTime": {
     "end_time": "2025-08-12T03:53:17.188366Z",
     "start_time": "2025-08-12T03:53:17.041011Z"
    }
   },
   "outputs": [],
   "source": [
    "#Leer datos censales\n",
    "manz=gpd.read_file('R13/MANZANA_IND_C17.shp')\n",
    "com=gpd.read_file('R13/COMUNA_C17.shp')"
   ]
  },
  {
   "cell_type": "markdown",
   "id": "e7ceeb05",
   "metadata": {},
   "source": [
    "Geopandas permite graficar archivos de mapas de múltiples formas. Para más información pueden revisar el siguiente enlace: https://geopandas.org/en/stable/docs/user_guide/mapping.html"
   ]
  },
  {
   "cell_type": "code",
   "execution_count": 20,
   "id": "360aaa93",
   "metadata": {},
   "outputs": [
    {
     "data": {
      "text/plain": [
       "<Axes: >"
      ]
     },
     "execution_count": 20,
     "metadata": {},
     "output_type": "execute_result"
    },
    {
     "data": {
      "image/png": "[encoded data removed]",
      "text/plain": [
       "<Figure size 640x480 with 1 Axes>"
      ]
     },
     "metadata": {},
     "output_type": "display_data"
    }
   ],
   "source": [
    "com.plot()"
   ]
  },
  {
   "cell_type": "code",
   "execution_count": 78,
   "id": "20ef6ff9",
   "metadata": {},
   "outputs": [
    {
     "data": {
      "text/html": [
       "<div>\n",
       "<style scoped>\n",
       "    .dataframe tbody tr th:only-of-type {\n",
       "        vertical-align: middle;\n",
       "    }\n",
       "\n",
       "    .dataframe tbody tr th {\n",
       "        vertical-align: top;\n",
       "    }\n",
       "\n",
       "    .dataframe thead th {\n",
       "        text-align: right;\n",
       "    }\n",
       "</style>\n",
       "<table border=\"1\" class=\"dataframe\">\n",
       "  <thead>\n",
       "    <tr style=\"text-align: right;\">\n",
       "      <th></th>\n",
       "      <th>REGION</th>\n",
       "      <th>NOM_REGION</th>\n",
       "      <th>PROVINCIA</th>\n",
       "      <th>NOM_PROVIN</th>\n",
       "      <th>COMUNA</th>\n",
       "      <th>NOM_COMUNA</th>\n",
       "      <th>DISTRITO</th>\n",
       "      <th>LOC_ZON</th>\n",
       "      <th>ENT_MAN</th>\n",
       "      <th>CATEGORIA</th>\n",
       "      <th>NOM_CATEGO</th>\n",
       "      <th>MANZENT_I</th>\n",
       "      <th>TOTAL_PERS</th>\n",
       "      <th>TOTAL_VIVI</th>\n",
       "      <th>SHAPE_Leng</th>\n",
       "      <th>SHAPE_Area</th>\n",
       "      <th>geometry</th>\n",
       "    </tr>\n",
       "  </thead>\n",
       "  <tbody>\n",
       "    <tr>\n",
       "      <th>0</th>\n",
       "      <td>13</td>\n",
       "      <td>REGIÓN METROPOLITANA DE SANTIAGO</td>\n",
       "      <td>131</td>\n",
       "      <td>SANTIAGO</td>\n",
       "      <td>13101</td>\n",
       "      <td>SANTIAGO</td>\n",
       "      <td>7</td>\n",
       "      <td>1</td>\n",
       "      <td>2</td>\n",
       "      <td>1</td>\n",
       "      <td>CD</td>\n",
       "      <td>13101071001002</td>\n",
       "      <td>764</td>\n",
       "      <td>287</td>\n",
       "      <td>0.005560</td>\n",
       "      <td>1.354544e-06</td>\n",
       "      <td>POLYGON ((-70.677 -33.427, -70.677 -33.428, -7...</td>\n",
       "    </tr>\n",
       "    <tr>\n",
       "      <th>1</th>\n",
       "      <td>13</td>\n",
       "      <td>REGIÓN METROPOLITANA DE SANTIAGO</td>\n",
       "      <td>131</td>\n",
       "      <td>SANTIAGO</td>\n",
       "      <td>13101</td>\n",
       "      <td>SANTIAGO</td>\n",
       "      <td>8</td>\n",
       "      <td>1</td>\n",
       "      <td>2</td>\n",
       "      <td>1</td>\n",
       "      <td>CD</td>\n",
       "      <td>13101081001002</td>\n",
       "      <td>1307</td>\n",
       "      <td>509</td>\n",
       "      <td>0.006557</td>\n",
       "      <td>2.630421e-06</td>\n",
       "      <td>POLYGON ((-70.674 -33.429, -70.675 -33.429, -7...</td>\n",
       "    </tr>\n",
       "    <tr>\n",
       "      <th>2</th>\n",
       "      <td>13</td>\n",
       "      <td>REGIÓN METROPOLITANA DE SANTIAGO</td>\n",
       "      <td>131</td>\n",
       "      <td>SANTIAGO</td>\n",
       "      <td>13101</td>\n",
       "      <td>SANTIAGO</td>\n",
       "      <td>7</td>\n",
       "      <td>1</td>\n",
       "      <td>3</td>\n",
       "      <td>1</td>\n",
       "      <td>CD</td>\n",
       "      <td>13101071001003</td>\n",
       "      <td>64</td>\n",
       "      <td>17</td>\n",
       "      <td>0.003859</td>\n",
       "      <td>5.979189e-07</td>\n",
       "      <td>POLYGON ((-70.678 -33.428, -70.678 -33.428, -7...</td>\n",
       "    </tr>\n",
       "    <tr>\n",
       "      <th>3</th>\n",
       "      <td>13</td>\n",
       "      <td>REGIÓN METROPOLITANA DE SANTIAGO</td>\n",
       "      <td>131</td>\n",
       "      <td>SANTIAGO</td>\n",
       "      <td>13101</td>\n",
       "      <td>SANTIAGO</td>\n",
       "      <td>7</td>\n",
       "      <td>1</td>\n",
       "      <td>4</td>\n",
       "      <td>1</td>\n",
       "      <td>CD</td>\n",
       "      <td>13101071001004</td>\n",
       "      <td>52</td>\n",
       "      <td>21</td>\n",
       "      <td>0.004683</td>\n",
       "      <td>1.265246e-06</td>\n",
       "      <td>POLYGON ((-70.68 -33.429, -70.68 -33.429, -70....</td>\n",
       "    </tr>\n",
       "    <tr>\n",
       "      <th>4</th>\n",
       "      <td>13</td>\n",
       "      <td>REGIÓN METROPOLITANA DE SANTIAGO</td>\n",
       "      <td>131</td>\n",
       "      <td>SANTIAGO</td>\n",
       "      <td>13101</td>\n",
       "      <td>SANTIAGO</td>\n",
       "      <td>7</td>\n",
       "      <td>1</td>\n",
       "      <td>8</td>\n",
       "      <td>1</td>\n",
       "      <td>CD</td>\n",
       "      <td>13101071001008</td>\n",
       "      <td>67</td>\n",
       "      <td>14</td>\n",
       "      <td>0.003491</td>\n",
       "      <td>7.452444e-07</td>\n",
       "      <td>POLYGON ((-70.678 -33.429, -70.679 -33.429, -7...</td>\n",
       "    </tr>\n",
       "  </tbody>\n",
       "</table>\n",
       "</div>"
      ],
      "text/plain": [
       "  REGION                        NOM_REGION PROVINCIA NOM_PROVIN COMUNA  \\\n",
       "0     13  REGIÓN METROPOLITANA DE SANTIAGO       131   SANTIAGO  13101   \n",
       "1     13  REGIÓN METROPOLITANA DE SANTIAGO       131   SANTIAGO  13101   \n",
       "2     13  REGIÓN METROPOLITANA DE SANTIAGO       131   SANTIAGO  13101   \n",
       "3     13  REGIÓN METROPOLITANA DE SANTIAGO       131   SANTIAGO  13101   \n",
       "4     13  REGIÓN METROPOLITANA DE SANTIAGO       131   SANTIAGO  13101   \n",
       "\n",
       "  NOM_COMUNA  DISTRITO  LOC_ZON  ENT_MAN  CATEGORIA NOM_CATEGO  \\\n",
       "0   SANTIAGO         7        1        2          1         CD   \n",
       "1   SANTIAGO         8        1        2          1         CD   \n",
       "2   SANTIAGO         7        1        3          1         CD   \n",
       "3   SANTIAGO         7        1        4          1         CD   \n",
       "4   SANTIAGO         7        1        8          1         CD   \n",
       "\n",
       "        MANZENT_I  TOTAL_PERS  TOTAL_VIVI  SHAPE_Leng    SHAPE_Area  \\\n",
       "0  13101071001002         764         287    0.005560  1.354544e-06   \n",
       "1  13101081001002        1307         509    0.006557  2.630421e-06   \n",
       "2  13101071001003          64          17    0.003859  5.979189e-07   \n",
       "3  13101071001004          52          21    0.004683  1.265246e-06   \n",
       "4  13101071001008          67          14    0.003491  7.452444e-07   \n",
       "\n",
       "                                            geometry  \n",
       "0  POLYGON ((-70.677 -33.427, -70.677 -33.428, -7...  \n",
       "1  POLYGON ((-70.674 -33.429, -70.675 -33.429, -7...  \n",
       "2  POLYGON ((-70.678 -33.428, -70.678 -33.428, -7...  \n",
       "3  POLYGON ((-70.68 -33.429, -70.68 -33.429, -70....  \n",
       "4  POLYGON ((-70.678 -33.429, -70.679 -33.429, -7...  "
      ]
     },
     "execution_count": 78,
     "metadata": {},
     "output_type": "execute_result"
    }
   ],
   "source": [
    "manz.head()"
   ]
  },
  {
   "cell_type": "markdown",
   "id": "f56870cd",
   "metadata": {},
   "source": [
    "El siguiente código conecta el mapa de la Región Metropolitana con la población por manzana del Censo 2017. Edite el código para que la figura tenga su nombre en el Titulo"
   ]
  },
  {
   "cell_type": "code",
   "id": "9617c152",
   "metadata": {
    "ExecuteTime": {
     "end_time": "2025-08-12T13:06:19.689201Z",
     "start_time": "2025-08-12T13:06:18.632610Z"
    }
   },
   "source": [
    "from mpl_toolkits.axes_grid1 import make_axes_locatable\n",
    "import matplotlib.colors as colors\n",
    "\n",
    "#Crear figura y ejes\n",
    "fig=plt.figure(figsize=(13,13))\n",
    "ax=fig.add_subplot(111)\n",
    "divider = make_axes_locatable(ax)\n",
    "cax = divider.append_axes(\"right\", size=\"5%\", pad=0.1)\n",
    "\n",
    "# cantidad de personas por manzana\n",
    "Z=manz['TOTAL_PERS']\n",
    "manz.plot(ax=ax, column='TOTAL_PERS', cmap='Reds', legend=True, vmin=0, vmax=1000)\n",
    "\n",
    "com_projected = com.to_crs(epsg=3857)\n",
    "com_projected.boundary.plot(ax=ax, lw=0.2, color='k')\n",
    "\n",
    "xlim=[-70.9,-70.4]\n",
    "ylim=[-33.7,-33.2]\n",
    "for x, y, label in zip(com_projected.geometry.centroid.x, com_projected.geometry.centroid.y, com_projected.NOM_COMUNA):\n",
    "    if xlim[0]<x<xlim[1] and ylim[0]<y<ylim[1]:\n",
    "        ax.text(x, y, label, fontsize = 10)\n",
    "        \n",
    "ax.set_xlim(xlim)\n",
    "ax.set_ylim(ylim);\n",
    "\n",
    "## Reemplace 'XXX' por su apellido\n",
    "ax.set_title('RM - Población total por manzana - Censo 2017 - Ejecutado por Aaron Pino',fontsize=10)\n",
    "\n",
    "## Reemplace 'XXX' por su apellido en el nombre del archivo de salida \n",
    "fig.savefig('PoblacionRM_C2017_Aaron_Pino.jpg')"
   ],
   "outputs": [
    {
     "ename": "NameError",
     "evalue": "name 'manz' is not defined",
     "output_type": "error",
     "traceback": [
      "\u001B[31m---------------------------------------------------------------------------\u001B[39m",
      "\u001B[31mNameError\u001B[39m                                 Traceback (most recent call last)",
      "\u001B[36mCell\u001B[39m\u001B[36m \u001B[39m\u001B[32mIn[4]\u001B[39m\u001B[32m, line 11\u001B[39m\n\u001B[32m      8\u001B[39m cax = divider.append_axes(\u001B[33m\"\u001B[39m\u001B[33mright\u001B[39m\u001B[33m\"\u001B[39m, size=\u001B[33m\"\u001B[39m\u001B[33m5\u001B[39m\u001B[33m%\u001B[39m\u001B[33m\"\u001B[39m, pad=\u001B[32m0.1\u001B[39m)\n\u001B[32m     10\u001B[39m \u001B[38;5;66;03m# cantidad de personas por manzana\u001B[39;00m\n\u001B[32m---> \u001B[39m\u001B[32m11\u001B[39m Z=\u001B[43mmanz\u001B[49m[\u001B[33m'\u001B[39m\u001B[33mTOTAL_PERS\u001B[39m\u001B[33m'\u001B[39m]\n\u001B[32m     12\u001B[39m manz.plot(ax=ax, column=\u001B[33m'\u001B[39m\u001B[33mTOTAL_PERS\u001B[39m\u001B[33m'\u001B[39m, cmap=\u001B[33m'\u001B[39m\u001B[33mReds\u001B[39m\u001B[33m'\u001B[39m, legend=\u001B[38;5;28;01mTrue\u001B[39;00m, vmin=\u001B[32m0\u001B[39m, vmax=\u001B[32m1000\u001B[39m)\n\u001B[32m     14\u001B[39m com_projected = com.to_crs(epsg=\u001B[32m3857\u001B[39m)\n",
      "\u001B[31mNameError\u001B[39m: name 'manz' is not defined"
     ]
    },
    {
     "data": {
      "text/plain": [
       "<Figure size 1300x1300 with 2 Axes>"
      ],
      "image/png": "[encoded data removed]"
     },
     "metadata": {},
     "output_type": "display_data"
    }
   ],
   "execution_count": 4
  },
  {
   "cell_type": "markdown",
   "id": "c6b67691",
   "metadata": {},
   "source": [
    "## 5. Cierre de la Actividad 01: Repositorio presonal\n",
    "\n",
    "Para terminar la Actividad 01, deben hacer los siguientes pasos:\n",
    "- Crear un repositorio en su cuenta personal con el nombre ``IMT2200-<NOMBRE>-<APELLIDO>`` y clonar en su computador.\n",
    "- Crear una carpeta adentro llamada \"Actividad 01\" y copiar adentro el contenido de la carpeta \"Actividad 01\" del repositorio del curso.\n",
    "- Actualizar el repositorio agregando el Notebook de Jupyter y la imagen con el Mapa con su nombre.\n",
    "- Editar el archivo ``README.md`` para describir su repositorio.\n",
    "- Entregar en el módulo ``Actividad 1`` en Canvas la URL de su repositorio para corrección."
   ]
  },
  {
   "cell_type": "code",
   "execution_count": null,
   "id": "c3df16ff",
   "metadata": {},
   "outputs": [],
   "source": []
  },
  {
   "cell_type": "code",
   "execution_count": null,
   "id": "4c41d81d-8800-461d-a593-680353a7b03e",
   "metadata": {},
   "outputs": [],
   "source": []
  },
  {
   "cell_type": "code",
   "execution_count": null,
   "id": "7a637b51-0491-4ea8-9804-e4747849e860",
   "metadata": {},
   "outputs": [],
   "source": []
  },
  {
   "cell_type": "code",
   "execution_count": null,
   "id": "661c3e50-5f9d-4b63-97e9-51a29ece3797",
   "metadata": {},
   "outputs": [],
   "source": []
  }
 ],
 "metadata": {
  "kernelspec": {
   "display_name": "Python [conda env:base] *",
   "language": "python",
   "name": "conda-base-py"
  },
  "language_info": {
   "codemirror_mode": {
    "name": "ipython",
    "version": 3
   },
   "file_extension": ".py",
   "mimetype": "text/x-python",
   "name": "python",
   "nbconvert_exporter": "python",
   "pygments_lexer": "ipython3",
   "version": "3.12.7"
  }
 },
 "nbformat": 4,
 "nbformat_minor": 5
}
